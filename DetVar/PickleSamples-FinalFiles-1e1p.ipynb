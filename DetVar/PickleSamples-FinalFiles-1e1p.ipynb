{
 "cells": [
  {
   "cell_type": "code",
   "execution_count": 8,
   "metadata": {},
   "outputs": [],
   "source": [
    "%matplotlib inline\n",
    "\n",
    "import matplotlib.pyplot as plt\n",
    "import pickle\n",
    "import pandas as pd\n",
    "import numpy as np\n",
    "from numpy import mean\n",
    "from math import sqrt,acos,cos,sin,pi,exp,log,isnan,atan2\n",
    "from xgboost import XGBClassifier\n",
    "from sklearn.model_selection import train_test_split\n",
    "from numpy import asarray\n",
    "from root_pandas import read_root\n",
    "from matplotlib import gridspec\n",
    "from scipy import stats\n",
    " \n",
    "from datetime import date\n",
    "\n",
    "datafolder = '/home/nwkamp/Research/MicroBooNE/Data'\n",
    "sysfolder = '/home/nwkamp/Research/MicroBooNE/Data/systematics'\n",
    "auxfolder = '/home/nwkamp/Research/MicroBooNE/1L1PSelection/aux'\n",
    "dumpfolder = 'PlotDumps'\n",
    "\n",
    "RSE  = ['run','subrun','event']\n",
    "RSEV = ['run','subrun','event','vtxid']\n",
    "RSECV = ['run','subrun','event',\"isCV\"]\n",
    "\n",
    "#with open('/home/dcianci/Physics/1e1p/1mu1pSelection/bdtweight_series4_Sept16_run1.pickle','rb') as handle: bkgBDT_run1 = pickle.load(handle)          # Load BDT weights for 1mu1p background differentiation     \n",
    "#with open('/home/dcianci/Physics/1e1p/1mu1pSelection/bdtweight_series4_Sept16_run2.pickle','rb') as handle: bkgBDT_run2 = pickle.load(handle)          # Load BDT weights for 1mu1p background differentiation  \n",
    "#with open('/home/dcianci/Physics/1e1p/1mu1pSelection/bdtweight_series4_Sept16_run3.pickle','rb') as handle: bkgBDT_run3 = pickle.load(handle)          # Load BDT weights for 1mu1p background differentiation  \n",
    "    \n",
    "#with open('/home/dcianci/Physics/1e1p/testzone/1L1PSelection/bdt_models/bdtweight_series2_june1_run1.pickle','rb') as handle: bkgBDT_run1 = pickle.load(handle)          # Load BDT weights for 1mu1p background differentiation     \n",
    "#with open('/home/dcianci/Physics/1e1p/testzone/1L1PSelection/bdt_models/bdtweight_series2_june1_run3.pickle','rb') as handle: bkgBDT_run3 = pickle.load(handle)          # Load BDT weights for 1mu1p background differentiation  \n",
    "    \n",
    "vars_jan21 = ['Phis','ChargeNearTrunk','Enu_1e1p','PhiT_1e1p','AlphaT_1e1p','PT_1e1p','PTRat_1e1p','BjXB_1e1p','BjYB_1e1p','SphB_1e1p','Q0_1e1p','Q3_1e1p','Lepton_PhiReco','Lepton_TrackLength','Proton_PhiReco','Proton_ThetaReco']\n",
    "#training_varbs = [x.Enu_1e1p,x.Electron_Edep,x.PT_1e1p,x.AlphaT_1e1p,x.SphB_1e1p,x.PzEnu_1e1p,x.ChargeNearTrunk,x.Q0_1e1p,x.Q3_1e1p,x.Thetas,x.Phis,x.PTRat_1e1p,x.Proton_TrackLength,x.Lepton_TrackLength,x.Proton_ThetaReco,x.Proton_PhiReco,x.Lepton_ThetaReco,x.Lepton_PhiReco,max(x.MinShrFrac,-1),max(x.MaxShrFrac,-1),x.shower1_smallQ_Y/(x.shower1_sumQ_Y+1e-6) ,x.BjX_1e1p,x.BjY_1e1p]    \n",
    "bdtVars = vars_jan21"
   ]
  },
  {
   "cell_type": "code",
   "execution_count": 9,
   "metadata": {},
   "outputs": [],
   "source": [
    "def bless_MC_labels(row):\n",
    "    mclabel = ''\n",
    "    intlabel = ''\n",
    "    parentlabel = ''\n",
    "    pizero = [1090,1086,1090,1080,1015,1013,1011,1008,1006,1004]\n",
    "    piplusminus = [1085,1079,1032,1017,1014,1007,1005,1003,1028,1021,1016,1012,1010,1009]\n",
    "        \n",
    "    if abs(row['nu_pdg']) == 12:\n",
    "        intlabel = 'nue'\n",
    "    elif abs(row['nu_pdg']) == 14:\n",
    "        intlabel = 'numu'\n",
    "        \n",
    "    if not (row['MC_nproton']==1 and row['MC_nlepton']==1):\n",
    "        return 'nLmP'\n",
    "    elif not 0 < row['MC_scedr'] <= 5.0:\n",
    "        return 'offvtx'\n",
    "    elif not abs((row['MC_energyInit']-row['Enu_1e1p'])/row['MC_energyInit']) < 0.2:\n",
    "        return 'badreco'    \n",
    "    else:\n",
    "        if row['nu_interaction_type'] == 1001:\n",
    "            mclabel = 'CCQE'\n",
    "        elif row['nu_interaction_type'] == 1000:\n",
    "            mclabel = 'MEC'\n",
    "        elif row['nu_interaction_type'] in pizero:\n",
    "            mclabel = 'pizero'\n",
    "        elif row['nu_interaction_type'] in piplusminus:\n",
    "            mclabel = 'piplusminus' \n",
    "        else:\n",
    "            mclabel = 'other'\n",
    "    return '%s_%s'%(intlabel,mclabel)\n",
    "\n",
    "def bless_int_labels(row):\n",
    "    mclabel = ''\n",
    "    intlabel = ''\n",
    "    parentlabel = ''\n",
    "    pizero = [1090,1086,1090,1080,1015,1013,1011,1008,1006,1004]\n",
    "    piplusminus = [1085,1079,1032,1017,1014,1007,1005,1003,1028,1021,1016,1012,1010,1009]\n",
    "        \n",
    "    if abs(row['nu_pdg']) == 12:\n",
    "        intlabel = 'nue'\n",
    "    elif abs(row['nu_pdg']) == 14:\n",
    "        intlabel = 'numu'\n",
    "        \n",
    "    if row['nu_interaction_type'] == 1001:\n",
    "        mclabel = 'CCQE'\n",
    "    elif row['nu_interaction_type'] == 1000:\n",
    "        mclabel = 'MEC'\n",
    "    elif row['nu_interaction_type'] in pizero:\n",
    "        mclabel = 'pizero'\n",
    "    elif row['nu_interaction_type'] in piplusminus:\n",
    "        mclabel = 'piplusminus' \n",
    "    else:\n",
    "        mclabel = 'other'\n",
    "           \n",
    "    return '%s_%s'%(intlabel,mclabel)"
   ]
  },
  {
   "cell_type": "code",
   "execution_count": 10,
   "metadata": {},
   "outputs": [],
   "source": [
    "tag = date.today()\n",
    "\n",
    "# Tag dictionary:\n",
    "# Oct21_cmt - all up to date as of the collaboration meeting in october. Identical selection to internal note, now with training samples marked\n",
    "\n",
    "# All Precuts\n",
    "orthogonalcut = 'MaxShrFrac > .2'\n",
    "precuts ='PassSimpleCuts == 1 and PassShowerReco == 1 and Proton_Edep > 60 and \\\n",
    "          Electron_Edep > 35 and Proton_ThetaReco < %3.3f and _pi0mass , 50' % (np.pi/2)\n",
    "pmtprecuts = 'TotPE > 20 and PorchTotPE < 20'\n",
    "s_precut = orthogonalcut + ' and ' + precuts + ' and ' + pmtprecuts"
   ]
  },
  {
   "cell_type": "code",
   "execution_count": 11,
   "metadata": {},
   "outputs": [],
   "source": [
    "def proc_df(df_dlana,df_wgts,df_goodrun,bdtwgts,isMC=True):\n",
    "    \n",
    "    # join with goodruns list and cv weights list\n",
    "    df_full = df_dlana.join(df_goodrun.set_index('run'),on='run')\n",
    "    if(isMC):\n",
    "        df_full = df_full.join(df_wgts.set_index(RSE)[['nu_interaction_mode','nu_interaction_type','xsec_corr_weight','spline_weight','nu_interaction_ccnc','nu_pdg','nu_energy_true']],on=RSE)\n",
    "    df_full_goodruns = df_full.query('good==1')   # keep good runs\n",
    "    df_full_goodruns_precuts = df_full_goodruns.query(s_precut)    # apply precuts\n",
    "    \n",
    "    \n",
    "    if(isMC):\n",
    "        df_full_goodruns_precuts.insert(0,'mc_label',df_full_goodruns_precuts.apply(bless_MC_labels,axis=1))\n",
    "        df_full_goodruns_precuts.insert(0,'int_label',df_full_goodruns_precuts.apply(bless_int_labels,axis=1))\n",
    "       \n",
    "    # add a bunch of helpful variables!\n",
    "    df_full_goodruns_precuts.insert(0,'MPID_eminus',[ef[2] for ef in df_full_goodruns_precuts['EminusPID_int_v'].values])\n",
    "    df_full_goodruns_precuts.insert(0,'MPID_muon',[ef[2] for ef in df_full_goodruns_precuts['MuonPID_int_v'].values])\n",
    "    df_full_goodruns_precuts.insert(0,'MPID_proton',[ef[2] for ef in df_full_goodruns_precuts['ProtonPID_int_v'].values])\n",
    "    df_full_goodruns_precuts.insert(0,'MPID_gamma',[ef[2] for ef in df_full_goodruns_precuts['GammaPID_int_v'].values])\n",
    "    df_full_goodruns_precuts.insert(0,'MPID_pion',[ef[2] for ef in df_full_goodruns_precuts['PionPID_int_v'].values])\n",
    "    df_full_goodruns_precuts.insert(0,'Lepton_CosTheta',np.cos(df_full_goodruns_precuts['Lepton_ThetaReco'].values).tolist())\n",
    "    df_full_goodruns_precuts.insert(0,'Proton_CosTheta',np.cos(df_full_goodruns_precuts['Proton_ThetaReco'].values).tolist())\n",
    "    \n",
    "    \n",
    "    # add most current bdt weights.\n",
    "    df_full_goodruns_precuts.insert(0,'BDTscore_1e1p',bdtwgts.predict_proba(df_full_goodruns_precuts[bdtVars].values.tolist())[:,0])\n",
    "    df_full_nodupes = df_full_goodruns_precuts.sort_values('BDTscore_1e1p',descending=True).drop_duplicates(RSE).sort_index()\n",
    "    \n",
    "    return df_full_nodupes\n",
    "\n",
    "def proc_df_fakedata(df_dlana,bdtwgts):\n",
    "    \n",
    "    df_full_precuts = df_dlana.query(s_precut)    # apply precuts\n",
    "    \n",
    "    # add a bunch of helpful variables!\n",
    "    df_full_precuts.insert(0,'MPID_eminus',[ef[2] for ef in df_full_precuts['EminusPID_int_v'].values])\n",
    "    df_full_precuts.insert(0,'MPID_muon',[ef[2] for ef in df_full_precuts['MuonPID_int_v'].values])\n",
    "    df_full_precuts.insert(0,'MPID_proton',[ef[2] for ef in df_full_precuts['ProtonPID_int_v'].values])\n",
    "    df_full_precuts.insert(0,'MPID_gamma',[ef[2] for ef in df_full_precuts['GammaPID_int_v'].values])\n",
    "    df_full_precuts.insert(0,'MPID_pion',[ef[2] for ef in df_full_precuts['PionPID_int_v'].values])\n",
    "    df_full_precuts.insert(0,'Lepton_CosTheta',np.cos(df_full_precuts['Lepton_ThetaReco'].values).tolist())\n",
    "    df_full_precuts.insert(0,'Proton_CosTheta',np.cos(df_full_precuts['Proton_ThetaReco'].values).tolist())\n",
    "    \n",
    "    # add most current bdt weights.\n",
    "    df_full_goodruns_precuts.insert(0,'BDTscore_1e1p',bdtwgts.predict_proba(df_full_goodruns_precuts[bdtVars].values.tolist())[:,0])\n",
    "    df_full_nodupes = df_full_goodruns_precuts.sort_values('BDTscore_1e1p',descending=True).drop_duplicates(RSE).sort_index()\n",
    "        \n",
    "    return df_full_nodupes"
   ]
  },
  {
   "cell_type": "code",
   "execution_count": 12,
   "metadata": {},
   "outputs": [],
   "source": [
    "# Time to load the good runs list\n",
    "good_run1_df = pd.read_csv('%s/pass_r1.txt'%auxfolder)\n",
    "good_run2_df = pd.read_csv('%s/pass_r2.txt'%auxfolder)\n",
    "good_run3_df = pd.read_csv('%s/pass_r3.txt'%auxfolder)\n",
    "\n",
    "good_run1_df['good'] = 1\n",
    "good_run2_df['good'] = 1\n",
    "good_run3_df['good'] = 1\n",
    "#print(good_run1_df)"
   ]
  },
  {
   "cell_type": "markdown",
   "metadata": {},
   "source": [
    "# Training"
   ]
  },
  {
   "cell_type": "code",
   "execution_count": 6,
   "metadata": {},
   "outputs": [],
   "source": [
    "# Are we in  the training sample?\n",
    "a_train_run1 = np.genfromtxt('bdt_run1_trainsample.csv',delimiter=',')\n",
    "a_train_run3 = np.genfromtxt('bdt_run3_trainsample.csv',delimiter=',')\n",
    "dic_train_run1 = {}\n",
    "dic_train_run3 = {}\n",
    "\n",
    "for tr in a_train_run1:\n",
    "    idx = tuple((tr[0],tr[1]))\n",
    "    dic_train_run1[idx] = dict(intrain=1)\n",
    "\n",
    "for tr in a_train_run3:\n",
    "    idx = tuple((tr[0],tr[1]))\n",
    "    dic_train_run3[idx] = dict(intrain=1)\n",
    "    \n",
    "def InTrainRun1(row):\n",
    "    try:\n",
    "        return dic_train_run1[row.run,row.subrun]['intrain']\n",
    "    except:\n",
    "        return 0\n",
    "    \n",
    "def InTrainRun3(row):\n",
    "    try:\n",
    "        return dic_train_run3[row.run,row.subrun]['intrain']\n",
    "    except:\n",
    "        return 0"
   ]
  },
  {
   "cell_type": "code",
   "execution_count": 7,
   "metadata": {},
   "outputs": [],
   "source": [
    "# Beam quality\n",
    "beamq_df = read_root('%s/beamdataquality_remix_bnb5e19.root'%datafolder,'bdq')"
   ]
  },
  {
   "cell_type": "markdown",
   "metadata": {},
   "source": [
    "# MC BNB OVERLAY"
   ]
  },
  {
   "cell_type": "markdown",
   "metadata": {},
   "source": [
    "##  Run1"
   ]
  },
  {
   "cell_type": "code",
   "execution_count": 6,
   "metadata": {},
   "outputs": [],
   "source": [
    "s_mc = 'numu_run1'\n",
    "df_mc = read_root('%s/mcc9_bnb_nu_overlay_CV_run1_500k_numu_v1_1_3_fvv.root'%datafolder,'dlana/FinalVertexVariables')\n",
    "df_mc_cvweight = read_root('%s/weights_forCV_v48_Sep24_bnb_nu_DetVar_run1.root'%auxfolder)\n",
    "\n",
    "#df_mc.insert(0,'InTraining',df_mc.apply(InTrainRun1,axis=1)) # If you are training\n",
    "\n",
    "df_mc_full = proc_df(df_mc,df_mc_cvweight,good_run1_df,0,True) \n",
    "#df_mc_full = df_mc_full.query('not (nu_interaction_ccnc==0 and abs(nu_pdg)==12)') # cut out nue ccqes if using nue intrinsic\n",
    "#print(list(df_mc_full))\n",
    "#df_mc_full.to_parquet('%s/pickles/%s_%s.parquet'%(datafolder,s_mc,tag))\n",
    "\n",
    "del df_mc, df_mc_cvweight, df_mc_full"
   ]
  },
  {
   "cell_type": "code",
   "execution_count": 10,
   "metadata": {},
   "outputs": [],
   "source": [
    "s_mc = 'numu_lowe_run1'\n",
    "df_mc = read_root('%s/bnb_overlay/mcc9_v29e_run1_bnb_nu_overlay_LowE.root'%datafolder,'dlana/FinalVertexVariables')\n",
    "df_mc_cvweight = read_root('%s/bnb_overlay/weights_forCV_v48_Sep24_bnb_nu_lowE_run1.root'%datafolder)\n",
    "\n",
    "df_mc.insert(0,'InTraining',df_mc.apply(InTrainRun1,axis=1))\n",
    "\n",
    "df_mc_full = proc_df(df_mc,df_mc_cvweight,good_run1_df,bkgBDT_run1,True)\n",
    "df_mc_full = df_mc_full.query('not (nu_interaction_ccnc==0 and abs(nu_pdg)==12)') # cut out nue ccqes\n",
    "\n",
    "df_mc_full.to_parquet('%s/pickles/%s_%s.parquet'%(datafolder,s_mc,tag))\n",
    "\n",
    "del df_mc, df_mc_cvweight, df_mc_full"
   ]
  },
  {
   "cell_type": "markdown",
   "metadata": {},
   "source": [
    "##  Run 2"
   ]
  },
  {
   "cell_type": "code",
   "execution_count": 58,
   "metadata": {
    "scrolled": true
   },
   "outputs": [
    {
     "name": "stdout",
     "output_type": "stream",
     "text": [
      "Total Verts 35569\n",
      "mec 209\n",
      "piplusminus 229\n",
      "pizero 87\n",
      "numu CCQE 1963\n",
      "other 159\n"
     ]
    }
   ],
   "source": [
    "# s_mc = 'numu_run2'\n",
    "# df_mc = read_root('%s/bnb_overlay/mcc9_v29e_dl_run2_bnb_nu_overlay_finalbdt.root'%datafolder,'dlana/FinalVertexVariables')\n",
    "# df_mc_cvweight = read_root('%s/bnb_overlay/weights_forCV_v40_bnb_nu_run2.root'%datafolder)\n",
    "\n",
    "# df_mc_full = proc_df(df_mc,df_mc_cvweight,good_run2_df,bkgBDT_run3,True) \n",
    "# df_mc_full = df_mc_full.query('not (nu_interaction_ccnc==0 and abs(nu_pdg)==12)') # cut out nue ccqes\n",
    "\n",
    "# df_mc_full['InTraining'] = 0\n",
    "\n",
    "# print('Total Verts',len(df_mc_full))\n",
    "# print('mec',len(df_mc_full.query(\"mc_label in ['numu_MEC']\")))\n",
    "# print('piplusminus',len(df_mc_full.query(\"mc_label in ['numu_piplusminus']\")))\n",
    "# print('pizero',len(df_mc_full.query(\"mc_label in ['numu_pizero']\")))\n",
    "# print('numu CCQE',len(df_mc_full.query(\"mc_label in ['numu_CCQE']\")))\n",
    "# print('other',len(df_mc_full.query(\"mc_label in ['numu_other','BNB nue_other','nue_MEC','nue_piplusminus','nue_pizero']\")))\n",
    "\n",
    "# df_mc_full.query('abs(MC_energyInit-nu_energy_true) < .0003').to_parquet('%s/pickles/%s_%s.parquet'%(datafolder,s_mc,tag))\n",
    "\n",
    "# #del df_mc, df_mc_cvweight, df_mc_full"
   ]
  },
  {
   "cell_type": "markdown",
   "metadata": {},
   "source": [
    "## Run3"
   ]
  },
  {
   "cell_type": "code",
   "execution_count": 7,
   "metadata": {},
   "outputs": [],
   "source": [
    "s_mc = 'numu_run3'\n",
    "df_mc = read_root('%s/mcc9_v40_bnb_nu_overlay_run3b_CV_v1_1_3_fvv_numu.root'%datafolder,'dlana/FinalVertexVariables')\n",
    "df_mc_cvweight = read_root('%s/weights_forCV_v48_Sep24_bnb_nu_DetVar_run3.root'%auxfolder)\n",
    "\n",
    "#df_mc.insert(0,'InTraining',df_mc.apply(InTrainRun3,axis=1))\n",
    "\n",
    "df_mc_full = proc_df(df_mc,df_mc_cvweight,good_run3_df,0,True) \n",
    "#df_mc_full = df_mc_full.query('not (nu_interaction_ccnc==0 and abs(nu_pdg)==12)') # cut out nue ccqes if using nu_e int\n",
    "\n",
    "df_mc_full.to_parquet('%s/pickles/%s_%s.parquet'%(datafolder,s_mc,tag))\n",
    "\n",
    "del df_mc, df_mc_cvweight, df_mc_full"
   ]
  },
  {
   "cell_type": "code",
   "execution_count": 12,
   "metadata": {},
   "outputs": [],
   "source": [
    "s_mc = 'numu_lowe_run3'\n",
    "df_mc = read_root('%s/bnb_overlay/mcc9_v29e_run3b_bnb_nu_overlay_LowE.root'%datafolder,'dlana/FinalVertexVariables')\n",
    "df_mc_cvweight = read_root('%s/bnb_overlay/weights_forCV_v48_Sep24_bnb_nu_lowE_run3.root'%datafolder)\n",
    "\n",
    "df_mc.insert(0,'InTraining',df_mc.apply(InTrainRun3,axis=1))\n",
    "\n",
    "df_mc_full = proc_df(df_mc,df_mc_cvweight,good_run3_df,bkgBDT_run3,True) \n",
    "df_mc_full = df_mc_full.query('not (nu_interaction_ccnc==0 and abs(nu_pdg)==12)') # cut out nue ccqes\n",
    "\n",
    "df_mc_full.to_parquet('%s/pickles/%s_%s.parquet'%(datafolder,s_mc,tag))\n",
    "\n",
    "del df_mc, df_mc_cvweight, df_mc_full"
   ]
  },
  {
   "cell_type": "markdown",
   "metadata": {},
   "source": [
    "# MC NUE OVERLAY"
   ]
  },
  {
   "cell_type": "code",
   "execution_count": 13,
   "metadata": {},
   "outputs": [],
   "source": [
    "s_mc = 'nue_run1'\n",
    "df_mc = read_root('%s/nue_intrinsic_overlay/mcc9_v28_wctagger_nueintrinsics_stripped.root'%datafolder,'FinalVertexVariables')\n",
    "df_mc_cvweight = read_root('%s/nue_intrinsic_overlay/weights_forCV_v48_Sep24_intrinsic_nue_run1.root'%datafolder)\n",
    "\n",
    "df_mc.insert(0,'InTraining',df_mc.apply(InTrainRun1,axis=1))\n",
    "\n",
    "df_mc_full = proc_df(df_mc,df_mc_cvweight,good_run1_df,bkgBDT_run1,True)\n",
    "\n",
    "df_mc_full.to_parquet('%s/pickles/%s_%s.parquet'%(datafolder,s_mc,tag))\n",
    "\n",
    "del df_mc, df_mc_cvweight, df_mc_full"
   ]
  },
  {
   "cell_type": "code",
   "execution_count": 56,
   "metadata": {},
   "outputs": [],
   "source": [
    "# s_mc = 'nue_run2'\n",
    "# df_mc = read_root('%s/nue_intrinsic_overlay/mcc9_v29e_dl_run2_bnb_intrinsics_nue_overlay_finalbdt.root'%datafolder,'dlana/FinalVertexVariables')\n",
    "# df_mc_cvweight = read_root('%s/nue_intrinsic_overlay/weights_forCV_v40_intrinsic_nue_run2.root'%datafolder)\n",
    "\n",
    "# df_mc_full = proc_df(df_mc,df_mc_cvweight,good_run2_df,bkgBDT_run3,True)\n",
    "\n",
    "# df_mc_full['InTraining'] = 0\n",
    "\n",
    "# #df_mc_full.to_parquet('%s/pickles/%s_%s.parquet'%(datafolder,s_mc,tag))\n",
    "\n",
    "# #del df_mc, df_mc_cvweight, df_mc_full"
   ]
  },
  {
   "cell_type": "code",
   "execution_count": 14,
   "metadata": {},
   "outputs": [],
   "source": [
    "s_mc = 'nue_run3'\n",
    "df_mc = read_root('%s/nue_intrinsic_overlay/mcc9_v29e_run3b_bnb_intrinsic_nue_overlay_nocrtremerge_stripped.root'%datafolder,'FinalVertexVariables')\n",
    "df_mc_cvweight = read_root('%s/nue_intrinsic_overlay/weights_forCV_v48_Sep24_intrinsic_nue_run3.root'%datafolder)\n",
    "\n",
    "df_mc.insert(0,'InTraining',df_mc.apply(InTrainRun3,axis=1))\n",
    "\n",
    "df_mc_full = proc_df(df_mc,df_mc_cvweight,good_run3_df,bkgBDT_run3,True)\n",
    "\n",
    "df_mc_full.to_parquet('%s/pickles/%s_%s.parquet'%(datafolder,s_mc,tag))\n",
    "\n",
    "del df_mc, df_mc_cvweight, df_mc_full"
   ]
  },
  {
   "cell_type": "markdown",
   "metadata": {},
   "source": [
    "# Dirt"
   ]
  },
  {
   "cell_type": "code",
   "execution_count": 15,
   "metadata": {},
   "outputs": [],
   "source": [
    "# s_mc = 'dirt_run1'\n",
    "# df_mc = read_root('%s/dirt/FVV-Prime-dirt-Mar3-WC-1e1p.root'%datafolder,'FinalVertexVariables')\n",
    "# df_mc_cvweight = read_root('%s/dirt/weights_forCV_v40_dirt_nu_run1.root'%datafolder)\n",
    "\n",
    "# df_mc_full = proc_df(df_mc,df_mc_cvweight,good_run1_df,bkgBDT_run1,True)\n",
    "\n",
    "# df_mc_full.to_parquet('%s/pickles/%s_%s.parquet'%(datafolder,s_mc,tag))\n",
    "\n",
    "# del df_mc, df_mc_cvweight, df_mc_full"
   ]
  },
  {
   "cell_type": "markdown",
   "metadata": {},
   "source": [
    "# EXT"
   ]
  },
  {
   "cell_type": "code",
   "execution_count": 16,
   "metadata": {},
   "outputs": [],
   "source": [
    "s_ext = 'ext_run1'\n",
    "df_ext = read_root('%s/ext/mcc9_v28_wctagger_extbnbFULL_stripped.root'%datafolder)\n",
    "\n",
    "df_ext.insert(0,'InTraining',df_ext.apply(InTrainRun1,axis=1))\n",
    "\n",
    "df_ext_full = proc_df(df_ext,'',good_run1_df,bkgBDT_run1,False)\n",
    "\n",
    "df_ext_full.to_parquet('%s/pickles/%s_%s.parquet'%(datafolder,s_ext,tag))"
   ]
  },
  {
   "cell_type": "code",
   "execution_count": 17,
   "metadata": {},
   "outputs": [],
   "source": [
    "s_ext = 'ext_run3'\n",
    "df_ext = read_root('%s/ext/mcc9_v29e_dl_run3_G1_extbnb_stripped.root'%datafolder)\n",
    "    \n",
    "df_ext.insert(0,'InTraining',df_ext.apply(InTrainRun3,axis=1))\n",
    "\n",
    "df_ext_full = proc_df(df_ext,'',good_run3_df,bkgBDT_run3,False)\n",
    "\n",
    "df_ext_full.to_parquet('%s/pickles/%s_%s.parquet'%(datafolder,s_ext,tag)) "
   ]
  },
  {
   "cell_type": "markdown",
   "metadata": {},
   "source": [
    "# Data"
   ]
  },
  {
   "cell_type": "code",
   "execution_count": 21,
   "metadata": {},
   "outputs": [],
   "source": [
    "s_data = 'data_run1_5e19'\n",
    "df_data = read_root('%s/bnb/mcc9_v28_wctagger_5e19.root'%datafolder,'dlana/FinalVertexVariables')\n",
    "\n",
    "# add beam quality filter\n",
    "df_data = df_data.join(beamq_df.set_index(['run','subrun','event']),on=['run','subrun','event'])\n",
    "df_data_full = proc_df(df_data,'',good_run1_df,bkgBDT_run1,False)\n",
    "\n",
    "df_data_full['InTraining'] = 0\n",
    "\n",
    "df_data_full.query('result==1').to_parquet('%s/pickles/%s_%s.parquet'%(datafolder,s_data,tag))"
   ]
  },
  {
   "cell_type": "code",
   "execution_count": 22,
   "metadata": {},
   "outputs": [],
   "source": [
    "s_data = 'data_run3_1e19'\n",
    "df_data = read_root('%s/bnb/mcc9_v28_wctagger_run3_bnb1e19.root'%datafolder,'dlana/FinalVertexVariables')\n",
    "\n",
    "df_data_full = proc_df(df_data,'',good_run3_df,bkgBDT_run3,False)\n",
    "\n",
    "df_data_full['InTraining'] = 0\n",
    "\n",
    "df_data_full.to_parquet('%s/pickles/%s_%s.parquet'%(datafolder,s_data,tag))"
   ]
  },
  {
   "cell_type": "code",
   "execution_count": 23,
   "metadata": {},
   "outputs": [],
   "source": [
    "s_data = 'data_run2_filter'\n",
    "df_data = read_root('%s/bnb/mcc9_v29e_run2_D2E1_1e1p_fvv.root'%datafolder,'dlana/FinalVertexVariables')\n",
    "\n",
    "df_data_full = proc_df(df_data,'',good_run2_df,bkgBDT_run2,False)\n",
    "\n",
    "df_data_full['InTraining'] = 0\n",
    "\n",
    "df_data_full.to_parquet('%s/pickles/%s_%s.parquet'%(datafolder,s_data,tag))"
   ]
  },
  {
   "cell_type": "code",
   "execution_count": 24,
   "metadata": {},
   "outputs": [],
   "source": [
    "s_data = 'data_run3_filter'\n",
    "df_data = read_root('%s/bnb/mcc9_v29e_run3_F1G1_1e1p_fvv.root'%datafolder,'dlana/FinalVertexVariables')\n",
    "\n",
    "df_data_full = proc_df(df_data,'',good_run3_df,bkgBDT_run3,False)\n",
    "\n",
    "df_data_full['InTraining'] = 0\n",
    "\n",
    "df_data_full.to_parquet('%s/pickles/%s_%s.parquet'%(datafolder,s_data,tag))"
   ]
  },
  {
   "cell_type": "code",
   "execution_count": 25,
   "metadata": {},
   "outputs": [],
   "source": [
    "s_data = 'data_run1_filter'\n",
    "df_data = read_root('%s/bnb/mcc9_v29e_dl_run1_C1_bnb_dlfilter_1e1p_v1_1_2b_fvv.root'%datafolder,'dlana/FinalVertexVariables')\n",
    "\n",
    "df_data_full = proc_df(df_data,'',good_run1_df,bkgBDT_run1,False)\n",
    "\n",
    "df_data_full['InTraining'] = 0\n",
    "\n",
    "df_data_full.to_parquet('%s/pickles/%s_%s.parquet'%(datafolder,s_data,tag))"
   ]
  },
  {
   "cell_type": "code",
   "execution_count": 10,
   "metadata": {},
   "outputs": [],
   "source": [
    "s_data = 'fakedata_set1_run1'\n",
    "df_data = read_root('%s/fakedata/dlfilter_fakedata_v08_00_00_29e_dl_ubdlana_v1_1_2_set1_run1_1e1p_stripped.root'%datafolder,'FinalVertexVariables')\n",
    "\n",
    "# remember to turn off pmt precuts\n",
    "df_data_full = proc_df_fakedata(df_data,bkgBDT_run1)\n",
    "\n",
    "df_data_full.to_parquet('%s/pickles/%s_%s.parquet'%(datafolder,s_data,tag))"
   ]
  },
  {
   "cell_type": "code",
   "execution_count": 11,
   "metadata": {},
   "outputs": [],
   "source": [
    "s_data = 'fakedata_set1_run3b'\n",
    "df_data = read_root('%s/fakedata/dlfilter_fakedata_v08_00_00_29e_dl_ubdlana_v1_1_2_set1_run3b_1e1p_stripped.root'%datafolder,'FinalVertexVariables')\n",
    "\n",
    "# remember to turn off pmt precuts\n",
    "df_data_full = proc_df_fakedata(df_data,bkgBDT_run3)\n",
    "\n",
    "df_data_full.to_parquet('%s/pickles/%s_%s.parquet'%(datafolder,s_data,tag))"
   ]
  },
  {
   "cell_type": "code",
   "execution_count": 13,
   "metadata": {},
   "outputs": [],
   "source": [
    "s_data = 'fakedata_set3_run1'\n",
    "df_data = read_root('%s/fakedata/mcc9_v29e_dl_set3_fakedata_run1_numu_v1_1_3_fvv.root'%datafolder,'dlana/FinalVertexVariables')\n",
    "\n",
    "# remember to turn off pmt precuts\n",
    "df_data_full = proc_df_fakedata(df_data,bkgBDT_run1)\n",
    "\n",
    "df_data_full.to_parquet('%s/pickles/%s_%s.parquet'%(datafolder,s_data,tag))"
   ]
  },
  {
   "cell_type": "code",
   "execution_count": 14,
   "metadata": {},
   "outputs": [],
   "source": [
    "s_data = 'fakedata_set3_run3b'\n",
    "df_data = read_root('%s/fakedata/mcc9_v29e_dl_set3_fakedata_run3b_numu_v1_1_3_fvv.root'%datafolder,'dlana/FinalVertexVariables')\n",
    "\n",
    "# remember to turn off pmt precuts\n",
    "df_data_full = proc_df_fakedata(df_data,bkgBDT_run3)\n",
    "\n",
    "df_data_full.to_parquet('%s/pickles/%s_%s.parquet'%(datafolder,s_data,tag))"
   ]
  },
  {
   "cell_type": "code",
   "execution_count": 7,
   "metadata": {},
   "outputs": [],
   "source": [
    "s_data = 'fakedata_set2_run1'\n",
    "df_data = read_root('%s/fakedata/mcc9_v29e_dl_set2_fakedata_run1_numu_v1_1_3_fvv.root'%datafolder,'dlana/FinalVertexVariables')\n",
    "\n",
    "# remember to turn off pmt precuts\n",
    "df_data_full = proc_df_fakedata(df_data,bkgBDT_run1)\n",
    "\n",
    "df_data_full.to_parquet('%s/pickles/%s_%s.parquet'%(datafolder,s_data,tag))"
   ]
  },
  {
   "cell_type": "code",
   "execution_count": 8,
   "metadata": {},
   "outputs": [],
   "source": [
    "s_data = 'fakedata_set2_run3b'\n",
    "df_data = read_root('%s/fakedata/mcc9_v29e_dl_set2_fakedata_run3b_numu_v1_1_3_fvv.root'%datafolder,'dlana/FinalVertexVariables')\n",
    "\n",
    "# remember to turn off pmt precuts\n",
    "df_data_full = proc_df_fakedata(df_data,bkgBDT_run3)\n",
    "\n",
    "df_data_full.to_parquet('%s/pickles/%s_%s.parquet'%(datafolder,s_data,tag))"
   ]
  },
  {
   "cell_type": "code",
   "execution_count": 20,
   "metadata": {},
   "outputs": [],
   "source": [
    "s_data = 'fakedata_set4_run1'\n",
    "df_data = read_root('%s/fakedata/mcc9_v29e_dl_set4_fakedata_run1_numu_v1_1_3_fvv.root'%datafolder,'dlana/FinalVertexVariables')\n",
    "\n",
    "# remember to turn off pmt precuts\n",
    "df_data_full = proc_df_fakedata(df_data,bkgBDT_run1)\n",
    "\n",
    "df_data_full.to_parquet('%s/pickles/%s_%s.parquet'%(datafolder,s_data,tag))"
   ]
  },
  {
   "cell_type": "code",
   "execution_count": 21,
   "metadata": {},
   "outputs": [],
   "source": [
    "s_data = 'fakedata_set4_run3b'\n",
    "df_data = read_root('%s/fakedata/mcc9_v29e_dl_set4_fakedata_run3b_numu_v1_1_3_fvv.root'%datafolder,'dlana/FinalVertexVariables')\n",
    "\n",
    "# remember to turn off pmt precuts\n",
    "df_data_full = proc_df_fakedata(df_data,bkgBDT_run3)\n",
    "\n",
    "df_data_full.to_parquet('%s/pickles/%s_%s.parquet'%(datafolder,s_data,tag))"
   ]
  },
  {
   "cell_type": "code",
   "execution_count": 22,
   "metadata": {},
   "outputs": [],
   "source": [
    "s_data = 'fakedata_set5_run1'\n",
    "df_data = read_root('%s/fakedata/mcc9_v29e_dl_set5_fakedata_run1_numu_v1_1_3_fvv.root'%datafolder,'dlana/FinalVertexVariables')\n",
    "\n",
    "# remember to turn off pmt precuts\n",
    "df_data_full = proc_df_fakedata(df_data,bkgBDT_run1)\n",
    "\n",
    "df_data_full.to_parquet('%s/pickles/%s_%s.parquet'%(datafolder,s_data,tag))"
   ]
  },
  {
   "cell_type": "markdown",
   "metadata": {},
   "source": [
    "# Detector Systematics (run3; not updated)"
   ]
  },
  {
   "cell_type": "markdown",
   "metadata": {},
   "source": [
    "# example of one detvar\n"
   ]
  },
  {
   "cell_type": "code",
   "execution_count": 9,
   "metadata": {
    "scrolled": true
   },
   "outputs": [
    {
     "name": "stderr",
     "output_type": "stream",
     "text": [
      "/home/nwkamp/.local/lib/python2.7/site-packages/ipykernel_launcher.py:2: ParserWarning: Falling back to the 'python' engine because the 'c' engine does not support regex separators (separators > 1 char and different from '\\s+' are interpreted as regex); you can avoid this warning by specifying engine='python'.\n",
      "  \n",
      "/home/nwkamp/.local/lib/python2.7/site-packages/ipykernel_launcher.py:6: ParserWarning: Falling back to the 'python' engine because the 'c' engine does not support regex separators (separators > 1 char and different from '\\s+' are interpreted as regex); you can avoid this warning by specifying engine='python'.\n",
      "  \n"
     ]
    }
   ],
   "source": [
    "df_cv = read_root('%s/mcc9_v40a_dl_run3b_bnb_intrinsic_nue_overlay_CV.root'%datafolder,'dlana/FinalVertexVariables')\n",
    "df_newr = pd.read_csv('/home/nwkamp/Research/MicroBooNE/1e1pSelection/RooUnfold/SystematicsSelection/SystematicsSelection_Run3_CV_StandardLowHigh.txt',delimiter=', ')\n",
    "df_cv = df_cv.merge(df_newr,how='right').drop_duplicates(RSE)\n",
    "\n",
    "df_sce = read_root('%s/mcc9_v40a_dl_run3b_bnb_intrinsic_nue_overlay_recomb2.root'%datafolder,'dlana/FinalVertexVariables')\n",
    "df_newr = pd.read_csv('/home/nwkamp/Research/MicroBooNE/1e1pSelection/RooUnfold/SystematicsSelection/SystematicsSelection_Run3_recomb2_StandardLowHigh.txt',delimiter=', ')\n",
    "df_sce = df_sce.merge(df_newr,how='right').drop_duplicates(RSE)\n"
   ]
  },
  {
   "cell_type": "code",
   "execution_count": 17,
   "metadata": {},
   "outputs": [],
   "source": [
    "dvkeys = ['standard','low','high']\n",
    "sRSE = ['sample'] + RSE\n",
    "sRSECV = ['sample'] + RSECV\n",
    "\n",
    "df_mc_detvarweight_r1_standard = read_root('%s/weights_forCV_v48_Sep24_intrinsic_nue_DetVar_run1.root'%auxfolder).drop_duplicates(RSE)\n",
    "df_mc_detvarweight_r1_standard.insert(0,'sample',[dvkeys[0] for i in range(len(df_mc_detvarweight_r1_standard))])\n",
    "df_mc_detvarweight_r1_low = read_root('%s/weights_forCV_v48_Sep24_eLEE_low_DetVar_run1.root'%auxfolder).drop_duplicates(RSE)\n",
    "df_mc_detvarweight_r1_low.insert(0,'sample',[dvkeys[1] for i in range(len(df_mc_detvarweight_r1_low))])\n",
    "df_mc_detvarweight_r1_high = read_root('%s/weights_forCV_v48_Sep24_eLEE_high_DetVar_run1.root'%auxfolder).drop_duplicates(RSE)\n",
    "df_mc_detvarweight_r1_high.insert(0,'sample',[dvkeys[2] for i in range(len(df_mc_detvarweight_r1_high))])\n",
    "df_mc_detvarweight_r1 = pd.concat((df_mc_detvarweight_r1_standard,df_mc_detvarweight_r1_low,df_mc_detvarweight_r1_high)).drop_duplicates(sRSE)\n",
    "\n",
    "\n",
    "df_mc_detvarweight_r3_standard = read_root('%s/weights_forCV_v48_Sep24_intrinsic_nue_DetVar_run3.root'%auxfolder).drop_duplicates(RSE)\n",
    "df_mc_detvarweight_r3_standard.insert(0,'sample',[dvkeys[0] for i in range(len(df_mc_detvarweight_r3_standard))])\n",
    "df_mc_detvarweight_r3_low = read_root('%s/weights_forCV_v48_Sep24_eLEE_low_DetVar_run3.root'%auxfolder).drop_duplicates(RSE)\n",
    "df_mc_detvarweight_r3_low.insert(0,'sample',[dvkeys[1] for i in range(len(df_mc_detvarweight_r3_low))])\n",
    "df_mc_detvarweight_r3_high = read_root('%s/weights_forCV_v48_Sep24_eLEE_high_DetVar_run3.root'%auxfolder).drop_duplicates(RSE)\n",
    "df_mc_detvarweight_r3_high.insert(0,'sample',[dvkeys[2] for i in range(len(df_mc_detvarweight_r3_high))])\n",
    "df_mc_detvarweight_r3 = pd.concat((df_mc_detvarweight_r3_standard,df_mc_detvarweight_r3_low,df_mc_detvarweight_r3_high)).drop_duplicates(sRSE)\n",
    "\n",
    "def getFullDetvarDF_1e1p(dv,run,POTCV,POTDV):\n",
    "    \n",
    "    if run=='1':\n",
    "        df_goodrun = good_run1_df\n",
    "        df_wgts = df_mc_detvarweight_r1\n",
    "    elif run=='3':\n",
    "        df_goodrun = good_run3_df\n",
    "        df_wgts = df_mc_detvarweight_r3\n",
    "    else:\n",
    "        print('Select either run 1 or run 3! Exiting...')\n",
    "        return -1\n",
    "    \n",
    "    df_cv = pd.read_csv('/home/nwkamp/Research/MicroBooNE/1e1pSelection/RooUnfold/SystematicsSelection/SystematicsSelection_Run%s_CV_StandardLowHigh.txt'%run,delimiter=', ')\n",
    "    df_dv = pd.read_csv('/home/nwkamp/Research/MicroBooNE/1e1pSelection/RooUnfold/SystematicsSelection/SystematicsSelection_Run%s_%s_StandardLowHigh.txt'%(run,dv),delimiter=', ')\n",
    "    \n",
    "    df_cv['isCV'] = True\n",
    "    df_dv['isCV'] = False\n",
    "    #df_cv['POT']  = sum(POTCV.values())\n",
    "    #df_dv['POT'] = sum(POTDV.values())\n",
    "    df_cv['POT']  = df_cv.apply(lambda row: POTCV['standard'] + int(row.Etrue<400)*POTCV['low'] + int(row.Etrue>400 and row.Etrue<800)*POTCV['high'], axis=1)\n",
    "    df_dv['POT'] = df_dv.apply(lambda row: POTDV['standard'] + int(row.Etrue<400)*POTDV['low'] + int(row.Etrue>400 and row.Etrue<800)*POTDV['high'], axis=1)\n",
    "\n",
    "    \n",
    "\n",
    "    df_full = pd.concat((df_cv,df_dv))\n",
    "    print('df_full = %d  cv = %d , dv = %d'%(df_full.shape[0],df_cv.shape[0],df_dv.shape[0]))\n",
    "    df_full = df_full.join(df_wgts.set_index(sRSE)[['nu_interaction_mode','nu_interaction_type','xsec_corr_weight','spline_weight','nu_interaction_ccnc','nu_pdg','nu_energy_true']],on=sRSE)\n",
    "    df_full_wGoodruns = df_full.join(df_goodrun.set_index('run'),on='run')\n",
    "    df_full_goodruns = df_full_wGoodruns.query('good == 1 and Enu_1e1p > 0')\n",
    "    print('df_full_goodruns = %d  cv = %d , dv = %d'%(df_full_goodruns.shape[0],df_full_goodruns.query(\"isCV==True\").shape[0],df_full_goodruns.query(\"isCV==False\").shape[0]))\n",
    "\n",
    "    #df_full_goodruns.insert(0,'PassPrecuts1e1p',df_full_goodruns.apply(passPrecut,axis=1))     \n",
    "\n",
    "    df_full_nodupes = df_full_goodruns.sort_values('sigProb',ascending=True).drop_duplicates(sRSECV).sort_index()\n",
    "    print('df_full_nodupes = %d  cv = %d , dv = %d'%(df_full_nodupes.shape[0],df_full_nodupes.query(\"isCV==True\").shape[0],df_full_nodupes.query(\"isCV==False\").shape[0]))\n",
    "\n",
    "    return df_full_goodruns"
   ]
  },
  {
   "cell_type": "markdown",
   "metadata": {},
   "source": [
    "# all detvar with thier correspondance cv \n"
   ]
  },
  {
   "cell_type": "code",
   "execution_count": 18,
   "metadata": {},
   "outputs": [
    {
     "name": "stderr",
     "output_type": "stream",
     "text": [
      "/home/nwkamp/.local/lib/python2.7/site-packages/ipykernel_launcher.py:34: ParserWarning: Falling back to the 'python' engine because the 'c' engine does not support regex separators (separators > 1 char and different from '\\s+' are interpreted as regex); you can avoid this warning by specifying engine='python'.\n",
      "/home/nwkamp/.local/lib/python2.7/site-packages/ipykernel_launcher.py:35: ParserWarning: Falling back to the 'python' engine because the 'c' engine does not support regex separators (separators > 1 char and different from '\\s+' are interpreted as regex); you can avoid this warning by specifying engine='python'.\n"
     ]
    },
    {
     "name": "stdout",
     "output_type": "stream",
     "text": [
      "df_full = 7834  cv = 3713 , dv = 4121\n",
      "df_full_goodruns = 7834  cv = 3713 , dv = 4121\n",
      "df_full_nodupes = 7834  cv = 3713 , dv = 4121\n",
      "done LYAtt, 7834 events\n",
      "df_full = 7592  cv = 3713 , dv = 3879\n",
      "df_full_goodruns = 7592  cv = 3713 , dv = 3879\n",
      "df_full_nodupes = 7592  cv = 3713 , dv = 3879\n",
      "done LYRayleigh, 7592 events\n",
      "df_full = 7426  cv = 3713 , dv = 3713\n",
      "df_full_goodruns = 7426  cv = 3713 , dv = 3713\n",
      "df_full_nodupes = 7426  cv = 3713 , dv = 3713\n",
      "done CV, 7426 events\n",
      "df_full = 7779  cv = 3713 , dv = 4066\n",
      "df_full_goodruns = 7779  cv = 3713 , dv = 4066\n",
      "df_full_nodupes = 7779  cv = 3713 , dv = 4066\n",
      "done LYDown, 7779 events\n",
      "df_full = 5752  cv = 3052 , dv = 2700\n",
      "df_full_goodruns = 5752  cv = 3052 , dv = 2700\n",
      "df_full_nodupes = 5752  cv = 3052 , dv = 2700\n",
      "done WireModThetaYZ, 5752 events\n",
      "df_full = 6027  cv = 3052 , dv = 2975\n",
      "df_full_goodruns = 6027  cv = 3052 , dv = 2975\n",
      "df_full_nodupes = 6027  cv = 3052 , dv = 2975\n",
      "done WireModThetaXZ, 6027 events\n",
      "df_full = 6517  cv = 3052 , dv = 3465\n",
      "df_full_goodruns = 6517  cv = 3052 , dv = 3465\n",
      "df_full_nodupes = 6517  cv = 3052 , dv = 3465\n",
      "done WireModX, 6517 events\n",
      "df_full = 7444  cv = 3052 , dv = 4392\n",
      "df_full_goodruns = 7444  cv = 3052 , dv = 4392\n",
      "df_full_nodupes = 7444  cv = 3052 , dv = 4392\n",
      "done LYAtt, 7444 events\n",
      "df_full = 6472  cv = 3052 , dv = 3420\n",
      "df_full_goodruns = 6472  cv = 3052 , dv = 3420\n",
      "df_full_nodupes = 6472  cv = 3052 , dv = 3420\n",
      "done LYRayleigh, 6472 events\n",
      "df_full = 6040  cv = 3052 , dv = 2988\n",
      "df_full_goodruns = 6040  cv = 3052 , dv = 2988\n",
      "df_full_nodupes = 6040  cv = 3052 , dv = 2988\n",
      "done WireModYZ, 6040 events\n",
      "df_full = 6272  cv = 3052 , dv = 3220\n",
      "df_full_goodruns = 6272  cv = 3052 , dv = 3220\n",
      "df_full_nodupes = 6272  cv = 3052 , dv = 3220\n",
      "done LYDown, 6272 events\n",
      "df_full = 6207  cv = 3052 , dv = 3155\n",
      "df_full_goodruns = 6207  cv = 3052 , dv = 3155\n",
      "df_full_nodupes = 6207  cv = 3052 , dv = 3155\n",
      "done SCE, 6207 events\n",
      "df_full = 6104  cv = 3052 , dv = 3052\n",
      "df_full_goodruns = 6104  cv = 3052 , dv = 3052\n",
      "df_full_nodupes = 6104  cv = 3052 , dv = 3052\n",
      "done CV, 6104 events\n",
      "df_full = 6050  cv = 3052 , dv = 2998\n",
      "df_full_goodruns = 6050  cv = 3052 , dv = 2998\n",
      "df_full_nodupes = 6050  cv = 3052 , dv = 2998\n",
      "done recomb2, 6050 events\n"
     ]
    }
   ],
   "source": [
    "run1POT = {\n",
    "    \"CV\": {'standard':2.40236914697e+22,'low':4.317567545E+23,'high':7.062363279E+22},\n",
    "    \"LYRayleigh\": {'standard':2.35130607446e+22,'low':4.838409135E+23,'high':7.870279156E+22},\n",
    "    \"LYDown\": {'standard':2.87664943915e+22,'low':4.418290404E+23,'high':7.363032075E+22},\n",
    "    \"LYAtt\" : {'standard':2.92293960383e+22,'low':4.477090683E+23,'high':7.723968494E+22}\n",
    "}\n",
    "run3POT = {\n",
    "    \"CV\": {'standard':2.89633486917e+22,'low':4.420872429E+23,'high':7.40598415E+22},\n",
    "    \"LYRayleigh\": {'standard':3.12607092491e+22,'low':5.124870339E+23,'high':8.3075838217E+22},\n",
    "    \"LYDown\": {'standard':3.02224657246e+22,'low':4.664119568E+23,'high':7.82781203E+22},\n",
    "    \"LYAtt\" : {'standard':5.59852627949E+22,'low':4.968635449E+23,'high':8.51917546E+22},\n",
    "    \"recomb2\" : {'standard':3.60888588249E+22,'low':4.109640309E+23,'high':5.71869841E+22},\n",
    "    \"SCE\" : {'standard':2.87085754999e+22,'low':4.294431989E+23,'high':7.62076123E+22},\n",
    "    \"WireModX\" : {'standard':3.20900856709e+22,'low':5.080818329E+23,'high':8.62560656E+22},\n",
    "    \"WireModYZ\" : {'standard':2.54766720272e+22,'low':4.437820079E+23,'high':7.39558079E+22},\n",
    "    \"WireModThetaXZ\" : {'standard':2.44011517946e+22,'low':4.544662239E+23,'high':7.50850899E+22},\n",
    "    \"WireModThetaYZ\" : {'standard':1.95821121697e+22,'low':4.537001309E+23,'high':7.96152227E+22}\n",
    "}\n",
    "\n",
    "tag = 'v0'\n",
    "\n",
    "run = '1'\n",
    "for dv in run1POT.keys():\n",
    "    #print(good_run3_df)\n",
    "    df_bnb_wCV_wPass_wProc = getFullDetvarDF_1e1p(dv,run,run1POT['CV'],run1POT[dv])\n",
    "    df_bnb_wCV_wPass_wProc.to_parquet('%s/pickles/%s_run%s_%s.parquet'%(sysfolder,dv,run,tag))\n",
    "    print('done %s, %i events'%(dv,df_bnb_wCV_wPass_wProc.shape[0]))\n",
    "    \n",
    "run = '3'\n",
    "for dv in run3POT.keys():\n",
    "    #print(good_run3_df)\n",
    "    df_bnb_wCV_wPass_wProc = getFullDetvarDF_1e1p(dv,run,run3POT['CV'],run3POT[dv])\n",
    "    df_bnb_wCV_wPass_wProc.to_parquet('%s/pickles/%s_run%s_%s.parquet'%(sysfolder,dv,run,tag))\n",
    "    print('done %s, %i events'%(dv,df_bnb_wCV_wPass_wProc.shape[0]))\n",
    "\n"
   ]
  },
  {
   "cell_type": "markdown",
   "metadata": {},
   "source": [
    "# Run1"
   ]
  },
  {
   "cell_type": "code",
   "execution_count": null,
   "metadata": {},
   "outputs": [],
   "source": []
  },
  {
   "cell_type": "code",
   "execution_count": null,
   "metadata": {},
   "outputs": [],
   "source": []
  },
  {
   "cell_type": "code",
   "execution_count": null,
   "metadata": {},
   "outputs": [],
   "source": []
  },
  {
   "cell_type": "code",
   "execution_count": null,
   "metadata": {},
   "outputs": [],
   "source": []
  },
  {
   "cell_type": "markdown",
   "metadata": {},
   "source": [
    "# DIRT"
   ]
  }
 ],
 "metadata": {
  "kernelspec": {
   "display_name": "Python 3",
   "language": "python",
   "name": "python3"
  },
  "language_info": {
   "codemirror_mode": {
    "name": "ipython",
    "version": 3
   },
   "file_extension": ".py",
   "mimetype": "text/x-python",
   "name": "python",
   "nbconvert_exporter": "python",
   "pygments_lexer": "ipython3",
   "version": "3.6.9"
  }
 },
 "nbformat": 4,
 "nbformat_minor": 2
}
