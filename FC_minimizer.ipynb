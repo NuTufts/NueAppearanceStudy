{
 "cells": [
  {
   "cell_type": "code",
   "execution_count": 1,
   "metadata": {},
   "outputs": [
    {
     "name": "stdout",
     "output_type": "stream",
     "text": [
      "Welcome to JupyROOT 6.16/00\n"
     ]
    }
   ],
   "source": [
    "# Imports\n",
    "import numpy as np\n",
    "import matplotlib.pyplot as plt\n",
    "import scipy.interpolate\n",
    "from matplotlib import cm\n",
    "from root_pandas import read_root\n",
    "import scipy.stats\n",
    "from matplotlib import gridspec\n",
    "import matplotlib.lines as mlines\n",
    "import ROOT\n",
    "import scipy.stats\n",
    "from matplotlib import gridspec\n",
    "import matplotlib.lines as mlines\n",
    "from scipy.stats import chi2\n",
    "from scipy import interpolate\n",
    "import pandas as pd\n",
    "import math\n",
    "import matplotlib.colors as colors"
   ]
  },
  {
   "cell_type": "code",
   "execution_count": 3,
   "metadata": {},
   "outputs": [
    {
     "name": "stdout",
     "output_type": "stream",
     "text": [
      "m values: [0.0120226, 0.017378, 0.0251189, 0.0363078, 0.0524807, 0.0758578, 0.109648, 0.158489, 0.229087, 0.331131, 0.47863, 0.691831, 1.0, 1.44544, 2.0893, 3.01995, 4.36516, 6.30957, 9.12011, 13.1826, 19.0546, 27.5423, 39.8107, 57.544, 83.1764, 120.226]\n",
      "ue4 values: [0.01, 0.0116939, 0.0136747, 0.015991, 0.0186997, 0.0218672, 0.0255713, 0.0299028, 0.034968, 0.0408911, 0.0478176, 0.0559174, 0.0653891, 0.0764653, 0.0894176, 0.104564, 0.122276, 0.142988, 0.167209, 0.195532, 0.228653, 0.267384, 0.312675, 0.365639, 0.427574, 0.5]\n",
      "um4 values: [0.01, 0.0116939, 0.0136747, 0.015991, 0.0186997, 0.0218672, 0.0255713, 0.0299028, 0.034968, 0.0408911, 0.0478176, 0.0559174, 0.0653891, 0.0764653, 0.0894176, 0.104564, 0.122276, 0.142988, 0.167209, 0.195532, 0.228653, 0.267384, 0.312675, 0.365639, 0.427574, 0.5]\n"
     ]
    },
    {
     "data": {
      "text/plain": [
       "0.5"
      ]
     },
     "execution_count": 3,
     "metadata": {},
     "output_type": "execute_result"
    }
   ],
   "source": [
    "# we're going to load in three arrays - one for each parameter\n",
    "with open(\"bins_sens.txt\",\"r\") as bins:\n",
    "    lines = bins.readlines()\n",
    "    lines[0].strip()\n",
    "    lines[1].strip()\n",
    "    lines[2].strip()\n",
    "    vals0 = lines[0].split(\" \")\n",
    "    vals1 = lines[1].split(\" \")\n",
    "    vals2 = lines[2].split(\" \")\n",
    "    m41_list= []\n",
    "    ue4_list= []\n",
    "    um4_list= []\n",
    "    for v in range(len(vals0)-1):\n",
    "        m41_list.append(float(vals0[v]))\n",
    "    for v in range(len(vals1)-1):\n",
    "        ue4_list.append(float(vals1[v]))\n",
    "    for v in range(len(vals2)-1):\n",
    "        um4_list.append(float(vals2[v]))\n",
    "print(\"m values:\", m41_list )\n",
    "print(\"ue4 values:\",ue4_list)\n",
    "print(\"um4 values:\",um4_list)\n",
    "\n",
    "m41_list.pop()\n",
    "ue4_list.pop()\n",
    "um4_list.pop()"
   ]
  },
  {
   "cell_type": "code",
   "execution_count": null,
   "metadata": {},
   "outputs": [],
   "source": []
  },
  {
   "cell_type": "code",
   "execution_count": 4,
   "metadata": {},
   "outputs": [
    {
     "ename": "NameError",
     "evalue": "name 'pt_list' is not defined",
     "output_type": "error",
     "traceback": [
      "\u001b[0;31m---------------------------------------------------------------------------\u001b[0m",
      "\u001b[0;31mNameError\u001b[0m                                 Traceback (most recent call last)",
      "\u001b[0;32m<ipython-input-4-d9fca19d1b0b>\u001b[0m in \u001b[0;36m<module>\u001b[0;34m()\u001b[0m\n\u001b[1;32m      8\u001b[0m \u001b[0mchi2_arr_arr\u001b[0m\u001b[0;34m=\u001b[0m\u001b[0;34m[\u001b[0m\u001b[0;34m]\u001b[0m\u001b[0;34m\u001b[0m\u001b[0;34m\u001b[0m\u001b[0m\n\u001b[1;32m      9\u001b[0m \u001b[0mmin_list\u001b[0m\u001b[0;34m=\u001b[0m\u001b[0;34m[\u001b[0m\u001b[0;34m]\u001b[0m\u001b[0;34m\u001b[0m\u001b[0;34m\u001b[0m\u001b[0m\n\u001b[0;32m---> 10\u001b[0;31m \u001b[0mpt_list\u001b[0m\u001b[0;34m\u001b[0m\u001b[0;34m\u001b[0m\u001b[0m\n\u001b[0m\u001b[1;32m     11\u001b[0m \u001b[0;31m# with open(\"chis_sens_bigbin.txt\",\"r\") as chis:\u001b[0m\u001b[0;34m\u001b[0m\u001b[0;34m\u001b[0m\u001b[0;34m\u001b[0m\u001b[0m\n\u001b[1;32m     12\u001b[0m \u001b[0;32mwith\u001b[0m \u001b[0mopen\u001b[0m\u001b[0;34m(\u001b[0m\u001b[0;34m\"chis_FC_full.txt\"\u001b[0m\u001b[0;34m,\u001b[0m\u001b[0;34m\"r\"\u001b[0m\u001b[0;34m)\u001b[0m \u001b[0;32mas\u001b[0m \u001b[0mchis\u001b[0m\u001b[0;34m:\u001b[0m\u001b[0;34m\u001b[0m\u001b[0;34m\u001b[0m\u001b[0m\n",
      "\u001b[0;31mNameError\u001b[0m: name 'pt_list' is not defined"
     ]
    }
   ],
   "source": [
    "# chi2 array is more complicated\n",
    "# each row represents a grid point\n",
    "# first load as list of lists and make 1D plots\n",
    "\n",
    "# number of universes used in this simulation\n",
    "num_uni=1\n",
    "# initialize arr to fill\n",
    "chi2_arr_arr=[]\n",
    "# with open(\"chis_sens_bigbin.txt\",\"r\") as chis:\n",
    "with open(\"chis_FC_full.txt\",\"r\") as chis:\n",
    "    lines = chi.readlines()\n",
    "    for j in range(15625):\n",
    "        chi_arr =[]\n",
    "        for i in range(num_uni):\n",
    "            lines[i].strip() #PT\n",
    "            vals0 = lines[i].split(\" \")        \n",
    "            testlist=[]\n",
    "            for j in range(len(vals0)):\n",
    "                testlist.append(float(vals20[j]))\n",
    "            chi_arr.append(testlist)\n",
    "        chi_arr_arr.append(chi_arr)\n",
    "        \n",
    "params_v =[]\n",
    "for m_i in range(25):\n",
    "    for ue_i in range(25):\n",
    "        for um_i in range(25):\n",
    "            param = [m41_list[m_i],ue4_list[ue_i], um4_list[um_i]]\n",
    "            params_v.append(param)\n",
    "    \n",
    "\n"
   ]
  },
  {
   "cell_type": "code",
   "execution_count": null,
   "metadata": {},
   "outputs": [],
   "source": [
    "# lets see if this works...\n",
    "chis_arr_sorted=np.zeros((25,25,25,num_uni))\n",
    "for i in range(15625):\n",
    "    testarr =chi_arr_arr[i*num_uni]\n",
    "#     find its match in param space\n",
    "    for i in range(len(params_v)):\n",
    "        params = params_v[i]\n",
    "        if(params[0]==testarr[1] and params[1]==testarr[2] and params[2]==testarr[3]):\n",
    "            for uni in range(num_uni)\n",
    "                chis_arr_sorted[][][][uni]=chi_arr_arr[i*num_uni+uni]"
   ]
  }
 ],
 "metadata": {
  "kernelspec": {
   "display_name": "Python 3",
   "language": "python",
   "name": "python3"
  },
  "language_info": {
   "codemirror_mode": {
    "name": "ipython",
    "version": 3
   },
   "file_extension": ".py",
   "mimetype": "text/x-python",
   "name": "python",
   "nbconvert_exporter": "python",
   "pygments_lexer": "ipython3",
   "version": "3.6.9"
  }
 },
 "nbformat": 4,
 "nbformat_minor": 2
}
