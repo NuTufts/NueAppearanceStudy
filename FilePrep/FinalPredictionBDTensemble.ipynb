{
 "cells": [
  {
   "cell_type": "markdown",
   "metadata": {},
   "source": [
    "FinalPredictionBDTensemble\n",
    "\n",
    "Inputs: root files for all MC and data, CV weight files, Pi0 weight files\n",
    "\n",
    "Outputs: parquets for each MC and data sample\n",
    "\n",
    "This code makes parquets and text files for each sample while adding in event weights, POT info, and BDT ensemble score\n",
    "NOTE: Nick's PRD plots need the parquets, Katie's osc study uses the text files"
   ]
  },
  {
   "cell_type": "code",
   "execution_count": 2,
   "metadata": {},
   "outputs": [],
   "source": [
    "# ROOT imports\n",
    "from ROOT import TFile\n",
    "import ROOT\n",
    "# python tool imports\n",
    "import matplotlib.pyplot as plt\n",
    "from matplotlib import gridspec\n",
    "import numpy as np\n",
    "from math import sqrt,cos,acos,pi,exp,sin,atan2,log\n",
    "from numpy import arange,mean,asarray,isnan,isinf\n",
    "import pickle\n",
    "from scipy import stats\n",
    "from numpy import mean,std,asarray,vstack\n",
    "from scipy.stats import gaussian_kde\n",
    "import csv\n",
    "import sys\n",
    "import pandas as pd\n",
    "import os\n",
    "import sklearn\n",
    "from xgboost import XGBClassifier\n",
    "# import Nick's BDT + kinetic variable tools\n",
    "from SelectionHelper import BDTensemble,selection\n",
    "from SelectionDefs import NewAng, VtxInSimpleFid, VtxInFid, GetPhiT, pTrans,pTransRat\n",
    "from SelectionDefs import alphaT, ECCQE, ECal, Q2, OpenAngle, PhiDiff, edgeCut\n",
    "from SelectionDefs import ECCQE_mom, Boost, BoostTracks, Getpz, Getq3q0\n",
    "from BDTHelper import getNewShowerCalibTrainingVarbs,getNewShowerCalibDPFvarbs\n",
    "\n",
    "# set initial parameters, fileset and cutmode\n",
    "fset = 13 # 0 = open data, 1-7 = fake datasets, 8 = High E, 9 = Low BDT , 10+11 = nicks final selection, 12 = nue appearence\n",
    "cutMode = 0 # 0 = Final Selection, 1 = Kin Cut Sample, 2 = High E, 3 = Low BDT    \n",
    "savedir = {0:'FinalSelection',1:'KinCut',2:'HighE',3:'LowBDT'}[cutMode]\n",
    "\n",
    "# POT Breakdown for Each Run\n",
    "C1_POT = 1.558e+20 + 1.129e+17 + 1.869e+19\n",
    "D2_POT = 1.63e+20 + 2.964e+19 + 1.239e+19\n",
    "E1_POT = 5.923e+19\n",
    "F1_POT = 4.3e+19\n",
    "G1_POT = 1.701e+20 + 2.97e+19 + 1.524e+17\n",
    "\n",
    "inDat1 = None\n",
    "inDat2 = None\n",
    "inDat3 = None\n",
    "\n",
    "# load in specialized data sets and set POT depending on fset\n",
    "nick_data_dir = \"/home/kmason/fullosc/NicksCode/1e1pdata/\"\n",
    "\n",
    "\n",
    "if fset==0: \n",
    "    inDat1 = TFile.Open(nick_data_dir+\"mcc9_v28_wctagger_5e19.root\")\n",
    "    mpid_rerun_dat_1 = np.empty(0)\n",
    "    inDat3 = TFile.Open(nick_data_dir+\"mcc9_v28_wctagger_run3_bnb1e19.root\")\n",
    "    mpid_rerun_dat_3 = np.empty(0)\n",
    "    DAT_POT1 = 4.403e19\n",
    "    DAT_POT2 = 0\n",
    "    DAT_POT3 = 8.786e+18\n",
    "elif fset==1: \n",
    "    inDat1 = TFile.Open(nick_data_dir+\"mcc9_fakedata_set1_run1_dlana.root\")\n",
    "    inDat3 = TFile.Open(nick_data_dir+\"mcc9_fakedata_set1_run3b_dlana.root\")\n",
    "    DAT_POT1  = 1.935765e20\n",
    "    DAT_POT2 = 0\n",
    "    DAT_POT3  = 2.99974063e20\n",
    "elif fset==2: \n",
    "    inDat1 = TFile.Open(nick_data_dir+\"mcc9_fakedata_set2_run1_dlana.root\")\n",
    "    inDat3 = TFile.Open(nick_data_dir+\"mcc9_fakedata_set2_run3b_dlana.root\")\n",
    "    DAT_POT1 = 4.0129213616e20\n",
    "    DAT_POT2 = 0\n",
    "    DAT_POT3 = 3.85169302616e20\n",
    "elif fset==3: \n",
    "    inDat1 = TFile.Open(nick_data_dir+\"mcc9_fakedata_set3_run1_dlana.root\")\n",
    "    inDat3 = TFile.Open(nick_data_dir+\"mcc9_fakedata_set3_run3b_dlana.root\")\n",
    "    DAT_POT1 = 4.024614415411e20\n",
    "    DAT_POT2 = 0\n",
    "    DAT_POT3 = 3.9685728933181e20\n",
    "elif fset==4: \n",
    "    inDat1 = TFile.Open(nick_data_dir+\"mcc9_fakedata_set4_run1_dlana.root\")\n",
    "    inDat3 = TFile.Open(nick_data_dir+\"mcc9_fakedata_set4_run3b_dlana.root\")\n",
    "    DAT_POT1 = 3.907905653e20\n",
    "    DAT_POT2 = 0\n",
    "    DAT_POT3 = 3.92356759e20\n",
    "elif fset==5: \n",
    "    inDat1 = TFile.Open(nick_data_dir+\"mcc9_fakedata_set5_run1_dlana.root\")\n",
    "    inDat3 = None\n",
    "    DAT_POT1 = 7.00587e20\n",
    "    DAT_POT2 = 0\n",
    "    DAT_POT3 = 0\n",
    "elif fset==7: \n",
    "    inDat1 = TFile.Open(nick_data_dir+\"mcc9_fakedata_set7_run1_dlana.root\")\n",
    "    inDat3 = TFile.Open(nick_data_dir+\"mcc9_fakedata_set7_run3_dlana.root\")\n",
    "    DAT_POT1 = 1.8382999360024655e+20\n",
    "    DAT_POT2 = 0\n",
    "    DAT_POT3 = 2.05E+20\n",
    "elif(fset==8):\n",
    "    inDat1 = TFile.Open(nick_data_dir+\"highE_total_C1_D2_E1_F1_G1.root\")\n",
    "    inDat3 = None\n",
    "    mpid_rerun_dat_3 = None\n",
    "    DAT_POT1 = C1_POT\n",
    "    DAT_POT2 = D2_POT+E1_POT\n",
    "    DAT_POT3 = F1_POT+G1_POT\n",
    "    DAT_POT1 = DAT_POT1 + DAT_POT2 + DAT_POT3\n",
    "elif(fset==9):\n",
    "    inDat1 = TFile.Open(nick_data_dir+\"lowBDT_total_C1_D2_E1_G1.root\")\n",
    "    inDat3 = None\n",
    "    mpid_rerun_dat_3 = None\n",
    "    DAT_POT1 = C1_POT\n",
    "    DAT_POT2 = D2_POT+E1_POT\n",
    "    DAT_POT3 = G1_POT\n",
    "    DAT_POT1 = DAT_POT1 + DAT_POT2 + DAT_POT3\n",
    "elif(fset==10):\n",
    "    inDat1 = TFile.Open(nick_data_dir+\"nu1e1p_near_and_far_sideband_20210623.root\")\n",
    "    inDat3 = None\n",
    "    mpid_rerun_dat_3 = None\n",
    "    DAT_POT1 = 1.631e+20\n",
    "    DAT_POT2 = 2.750e+20\n",
    "    DAT_POT3 = 2.291e+20\n",
    "    DAT_POT1 = DAT_POT1 + DAT_POT2 + DAT_POT3\n",
    "elif(fset==11):\n",
    "    inDat1 = TFile.Open(nick_data_dir+\"mcc9_v29e_dl_run1_nearbox_fvv_20210721.root\")\n",
    "    inDat2 = TFile.Open(nick_data_dir+\"mcc9_v29e_dl_run2_nearbox_fvv_20210721.root\")\n",
    "    inDat3 = TFile.Open(nick_data_dir+\"mcc9_v29e_dl_run3_nu1e1p_near_sideband_dlana_v1_1_4_fvv_20210715.root\")\n",
    "    mpid_rerun_dat_3 = None\n",
    "    DAT_POT1 = 1.69E+20\n",
    "    DAT_POT2 = 2.73E+20\n",
    "    DAT_POT3 = 2.44E+20\n",
    "    \n",
    "elif(fset==12):\n",
    "    inDat1 = TFile.Open(nick_data_dir+\"openbox/test_run123_1e1p_signal_fvv.root\")\n",
    "    inDat3 = None\n",
    "    mpid_rerun_dat_3 = None\n",
    "    DAT_POT1 = 1.631e+20\n",
    "    DAT_POT2 = 2.750e+20\n",
    "    DAT_POT3 = 2.291e+20\n",
    "    DAT_POT1 = DAT_POT1 + DAT_POT2 + DAT_POT3\n",
    "    \n",
    "elif(fset==13):\n",
    "    inDat1 = TFile.Open(nick_data_dir+\"openbox/mcc9_fakedata_set1_dlana.root\")\n",
    "    inDat3 = None\n",
    "    mpid_rerun_dat_3 = None\n",
    "    DAT_POT1 = 1.936E+20\n",
    "    DAT_POT3 = 3.000E+20\n",
    "    DAT_POT1 = DAT_POT1 + DAT_POT3\n",
    "\n",
    "    \n",
    "DATA_POT_TOT = DAT_POT1  + DAT_POT3\n",
    "\n",
    "POTDICT = {1:DAT_POT1,2:0,3:DAT_POT3}\n",
    "\n",
    "\n",
    "if inDat1 is not None: \n",
    "    if fset==11: inDatFF1 = inDat1.Get(\"FinalVertexVariables\")\n",
    "    else: inDatFF1 = inDat1.Get(\"dlana/FinalVertexVariables\")\n",
    "else: inDatFF1 = None\n",
    "if inDat2 is not None:\n",
    "    if fset==11 : inDatFF2 = inDat2.Get(\"FinalVertexVariables\")\n",
    "    else: inDatFF2 = inDat2.Get(\"dlana/FinalVertexVariables\")\n",
    "else: inDatFF2 = None\n",
    "if inDat3 is not None: inDatFF3 = inDat3.Get(\"dlana/FinalVertexVariables\")\n",
    "else: inDatFF3 = None"
   ]
  },
  {
   "cell_type": "code",
   "execution_count": 3,
   "metadata": {
    "scrolled": true
   },
   "outputs": [],
   "source": [
    "# load in MC files + right trees\n",
    "# ---------------- Run 1 -------------- #\n",
    "# inExt1      = TFile.Open(nick_data_dir+\"mcc9_v28_wctagger_extbnb_finalbdt.root\")\n",
    "# inOvr1      = TFile.Open(nick_data_dir+\"run1_overlay_stripmine.root\")\n",
    "# inNue1      = TFile.Open(nick_data_dir+\"run1_intrinsics_rerun_stripmine.root\")\n",
    "# inNueLow1   = TFile.Open(nick_data_dir+\"mcc9_v29e_run1_bnb_intrinsic_nue_overlay_LowE.root\")\n",
    "# inNumuLow1  = TFile.Open(nick_data_dir+\"mcc9_v29e_run1_bnb_nu_overlay_LowE.root\")\n",
    "# inNCPi01    = TFile.Open(nick_data_dir+\"mcc9_v40_NCPi0_run1_dlana_stripped_v2.root\")\n",
    "# inCCPi01    = TFile.Open(nick_data_dir+\"mcc9_v40_CCPi0_run1_dlana_stripped_v2.root\") \n",
    "# inFullOsc1    = TFile.Open(nick_data_dir+\"mcc9_v29e_dl_run1_fullosc_v1_1_3_fvv.root\") \n",
    "    \n",
    "# inExtFF1    = inExt1.Get(\"dlana/FinalVertexVariables\")\n",
    "# inOvrFF1    = inOvr1.Get(\"FinalVertexVariables\")\n",
    "# inNueFF1    = inNue1.Get(\"FinalVertexVariables\")\n",
    "# inNueLowFF1 = inNueLow1.Get(\"dlana/FinalVertexVariables\")\n",
    "# inNumuLowFF1= inNumuLow1.Get(\"dlana/FinalVertexVariables\")\n",
    "# inCCPi0FF1    = inCCPi01.Get(\"dlana/FinalVertexVariables\")\n",
    "# inNCPi0FF1    = inNCPi01.Get(\"dlana/FinalVertexVariables\")\n",
    "# inFullOscFF1    = inFullOsc1.Get(\"dlana/FinalVertexVariables\")\n",
    "\n",
    "# ---------------- Run 2 -------------- #\n",
    "# inOvr2      = TFile.Open(nick_data_dir+\"run2_overlay_stripmine.root\")\n",
    "# inNue2      = TFile.Open(nick_data_dir+\"mcc9_v29e_dl_run2_bnb_intrinsics_nue_overlay_finalbdt.root\")\n",
    "# inNueLow2   = TFile.Open(nick_data_dir+\"mcc9_intrinsic_nue_lowe_run2_fvv_stripped.root\")\n",
    "# inNumuLow2  = TFile.Open(nick_data_dir+\"mcc9_bnb_overlay_lowe_run2_fvv_stripped.root\")\n",
    "# inFullOsc2    = TFile.Open(nick_data_dir+\"dlanafiltercombo_ssnet_wcp_fullosc_run2_v08_00_00_40a_dl_run2.root\") \n",
    "\n",
    "# inOvrFF2    = inOvr2.Get(\"FinalVertexVariables\")\n",
    "# inNueFF2    = inNue2.Get(\"dlana/FinalVertexVariables\")\n",
    "# inNueLowFF2 = inNueLow2.Get(\"dlana/FinalVertexVariables\")\n",
    "# inNumuLowFF2= inNumuLow2.Get(\"dlana/FinalVertexVariables\")\n",
    "# inFullOscFF2    = inFullOsc2.Get(\"dlana/FinalVertexVariables\")\n",
    "\n",
    "# ---------------- Run 3 -------------- #\n",
    "# inExt3      = TFile.Open(nick_data_dir+\"mcc9_v29e_dl_run3_G1_extbnb_finalbdt.root\")\n",
    "# inOvr3      = TFile.Open(nick_data_dir+\"mcc9_v29e_dl_run3b_bnb_nu_overlay_nocrtremerge_finalbdt.root\")\n",
    "# inNue3      = TFile.Open(nick_data_dir+\"mcc9_v29e_dl_run3b_bnb_intrinsic_nue_overlay_nocrtremerge_finalbdt.root\")\n",
    "# inNumuLow3  = TFile.Open(nick_data_dir+\"mcc9_v29e_run3b_bnb_nu_overlay_LowE.root\")\n",
    "# inNCPi03    = TFile.Open(nick_data_dir+\"mcc9_v40_NCPi0_run3_dlana_stripped_v2.root\")\n",
    "# inCCPi03    = TFile.Open(nick_data_dir+\"mcc9_v40_bnb_nu_overlay_run3_CCPi0_nu1e1p_signal_v1_1_3_fvv.root\")\n",
    "# inFullOsc3    = TFile.Open(nick_data_dir+\"mcc9_v29e_dl_run3b_fullosc_v1_1_3_fvv.root\") \n",
    "            \n",
    "# inExtFF3    = inExt3.Get(\"dlana/FinalVertexVariables\")\n",
    "# inOvrFF3    = inOvr3.Get(\"dlana/FinalVertexVariables\")\n",
    "# inNueFF3    = inNue3.Get(\"dlana/FinalVertexVariables\")\n",
    "# inNumuLowFF3 = inNumuLow3.Get(\"dlana/FinalVertexVariables\")\n",
    "# inCCPi0FF3    = inCCPi03.Get(\"dlana/FinalVertexVariables\")\n",
    "# inNCPi0FF3    = inNCPi03.Get(\"dlana/FinalVertexVariables\")\n",
    "# inFullOscFF3    = inFullOsc3.Get(\"dlana/FinalVertexVariables\")"
   ]
  },
  {
   "cell_type": "code",
   "execution_count": 4,
   "metadata": {},
   "outputs": [],
   "source": [
    "# first apply all genie and pi0 weights\n",
    "GENIE_tune = 2\n",
    "inference = 'avgscore'\n",
    "apply_pi0_weights = True\n",
    "\n",
    "weightdir = nick_data_dir+'aux/'\n",
    "\n",
    "# pi0w_numu_1 = open(weightdir+\"1e1p_pi0weights/fullosc/pi0_weights_1e1p_avgscore_numu_run1.txt\",\"r\")\n",
    "# pi0w_nue_1 = open(weightdir+\"1e1p_pi0weights/fullosc/pi0_weights_1e1p_avgscore_nue_run1.txt\",\"r\")\n",
    "# pi0w_nue_low_1 = None\n",
    "# pi0w_numu_low_1 = None\n",
    "# pi0w_fullosc_1 = open(weightdir+\"1e1p_pi0weights/fullosc/pi0_weights_1e1p_avgscore_fullosc_run1.txt\",\"r\")\n",
    "# pi0w_ncpi0_1 = open(weightdir+\"1e1p_pi0weights/fullosc/pi0_weights_1e1p_avgscore_ncpi0_run1.txt\",\"r\")\n",
    "# pi0w_ccpi0_1 = open(weightdir+\"1e1p_pi0weights/fullosc/pi0_weights_1e1p_avgscore_ccpi0_run1.txt\",\"r\")\n",
    "\n",
    "# pi0w_numu_2 = open(weightdir+\"1e1p_pi0weights/fullosc/pi0_weights_1e1p_avgscore_numu_run2.txt\",\"r\")\n",
    "# pi0w_nue_2 = open(weightdir+\"1e1p_pi0weights/fullosc/pi0_weights_1e1p_avgscore_nue_run2.txt\",\"r\")\n",
    "# pi0w_numu_low_2 = None\n",
    "# pi0w_nue_low_2 = None\n",
    "\n",
    "# pi0w_numu_3 = open(weightdir+\"1e1p_pi0weights/fullosc/pi0_weights_1e1p_avgscore_numu_run3.txt\",\"r\")\n",
    "# pi0w_nue_3 = open(weightdir+\"1e1p_pi0weights/fullosc/pi0_weights_1e1p_avgscore_nue_run3.txt\",\"r\")\n",
    "# pi0w_nue_low_3 = None\n",
    "# pi0w_numu_low_3 = None\n",
    "# # pi0w_fullosc_3 = None\n",
    "# pi0w_fullosc_3 = open(weightdir+\"1e1p_pi0weights/fullosc/pi0_weights_1e1p_avgscore_fullosc_run3.txt\",\"r\")\n",
    "# pi0w_ncpi0_3 = open(weightdir+\"1e1p_pi0weights/fullosc/pi0_weights_1e1p_avgscore_ncpi0_run3.txt\",\"r\")\n",
    "# pi0w_ccpi0_3 = open(weightdir+\"1e1p_pi0weights/fullosc/pi0_weights_1e1p_avgscore_ccpi0_run3.txt\",\"r\")\n",
    "# pi0w_fullosc_2 = None\n",
    "\n",
    "    \n",
    "# if GENIE_tune==1:\n",
    "#     ovrCVFile1  = TFile.Open(weightdir+\"weights_forCV_v40_bnb_nu_run1.root\") \n",
    "#     nueCVFile1  = TFile.Open(weightdir+\"weights_forCV_v40_intrinsic_nue_run1.root\") \n",
    "#     nueLowCVFile1 = TFile.Open(weightdir+\"weights_forCV_v40_intrinsic_nue_lowE_run1.root\")\n",
    "#     numuLowCVFile1 = TFile.Open(weightdir+\"weights_forCV_v40_bnb_nu_lowE_run1.root\")\n",
    "#     ovrCVFile2  = TFile.Open(weightdir+\"weights_forCV_v40_bnb_nu_run2.root\") \n",
    "#     nueCVFile2  = TFile.Open(weightdir+\"weights_forCV_v40_intrinsic_nue_run2.root\")\n",
    "#     ovrCVFile3  = TFile.Open(weightdir+\"weights_forCV_v40_bnb_nu_run3.root\") \n",
    "#     nueCVFile3  = TFile.Open(weightdir+\"weights_forCV_v40_intrinsic_nue_run3.root\") \n",
    "#     nueLowCVFile3 = TFile.Open(weightdir+\"weights_forCV_v40_intrinsic_nue_lowE_run3.root\")\n",
    "#     numuLowCVFile3 = TFile.Open(weightdir+\"weights_forCV_v40_bnb_nu_lowE_run3.root\")    \n",
    "# elif GENIE_tune==2:\n",
    "#     ovrCVFile1  = TFile.Open(weightdir+\"weights_forCV_v48_Sep24_bnb_nu_run1.root\") \n",
    "#     nueCVFile1  = TFile.Open(weightdir+\"weights_forCV_v48_Sep24_intrinsic_nue_run1.root\") \n",
    "#     nueLowCVFile1 = TFile.Open(weightdir+\"weights_forCV_v48_Sep24_intrinsic_nue_lowE_run1.root\")\n",
    "#     numuLowCVFile1 = TFile.Open(weightdir+\"weights_forCV_v48_Sep24_bnb_nu_lowE_run1.root\")\n",
    "#     ovrCVFile2  = TFile.Open(weightdir+\"weights_forCV_v48_Sep24_bnb_nu_run2.root\") \n",
    "#     nueCVFile2  = TFile.Open(weightdir+\"weights_forCV_v48_Sep24_intrinsic_nue_run2.root\")\n",
    "#     ovrCVFile3  = TFile.Open(weightdir+\"weights_forCV_v48_Sep24_bnb_nu_run3.root\") \n",
    "#     nueCVFile3  = TFile.Open(weightdir+\"weights_forCV_v48_Sep24_intrinsic_nue_run3.root\") \n",
    "#     nueLowCVFile3 = TFile.Open(weightdir+\"weights_forCV_v48_Sep24_intrinsic_nue_lowE_run3.root\")\n",
    "#     numuLowCVFile3 = TFile.Open(weightdir+\"weights_forCV_v48_Sep24_bnb_nu_lowE_run3.root\")\n",
    "    \n",
    "# nueLowCVFile2 = TFile.Open(weightdir+\"weights_forCV_v48_Sep24_intrinsic_nue_lowE_run2.root\")\n",
    "# numuLowCVFile2 = TFile.Open(weightdir+\"weights_forCV_v48_Sep24_bnb_nu_lowE_run2.root\")\n",
    "# NCPi0CVFile1 = TFile.Open(weightdir+\"weights_forCV_v48_Sep24_nc_pi0_run1.root\")\n",
    "# NCPi0CVFile3 = TFile.Open(weightdir+\"weights_forCV_v48_Sep24_nc_pi0_run3.root\")\n",
    "# CCPi0CVFile1 = TFile.Open(weightdir+\"weights_forCV_v48_Sep24_cc_pi0_run1.root\")\n",
    "# CCPi0CVFile3 = TFile.Open(weightdir+\"weights_forCV_v48_Sep24_cc_pi0_run3.root\")\n",
    "# FullOscFile1 = TFile.Open(weightdir+\"weights_forCV_v48_Sep24_fullosc_nue_run1.root\")\n",
    "# FullOscFile2 = TFile.Open(weightdir+\"weights_forCV_v48_Sep24_fullosc_nue_run2.root\") \n",
    "# FullOscFile3 = TFile.Open(weightdir+\"weights_forCV_v48_Sep24_fullosc_nue_run3.root\")    \n",
    "    \n",
    "# ovrCV1      = ovrCVFile1.Get(\"eventweight_tree\")\n",
    "# nueCV1      = nueCVFile1.Get(\"eventweight_tree\")\n",
    "# nueLowCV1   = nueLowCVFile1.Get(\"eventweight_tree\")\n",
    "# numuLowCV1  = nueLowCVFile1.Get(\"eventweight_tree\")\n",
    "# ovrCV2      = ovrCVFile2.Get(\"eventweight_tree\")\n",
    "# nueCV2      = nueCVFile2.Get(\"eventweight_tree\")\n",
    "# nueLowCV2   = nueLowCVFile2.Get(\"eventweight_tree\")\n",
    "# numuLowCV2  = nueLowCVFile2.Get(\"eventweight_tree\")\n",
    "# ovrCV3      = ovrCVFile3.Get(\"eventweight_tree\")\n",
    "# nueCV3      = nueCVFile3.Get(\"eventweight_tree\")\n",
    "# nueLowCV3   = nueLowCVFile3.Get(\"eventweight_tree\")\n",
    "# numuLowCV3  = numuLowCVFile3.Get(\"eventweight_tree\")\n",
    "\n",
    "# ccpi0_1     = CCPi0CVFile1.Get(\"eventweight_tree\")\n",
    "# ccpi0_3     = CCPi0CVFile3.Get(\"eventweight_tree\")\n",
    "# ncpi0_1     = NCPi0CVFile1.Get(\"eventweight_tree\")\n",
    "# ncpi0_3     = NCPi0CVFile3.Get(\"eventweight_tree\")\n",
    "\n",
    "# fullosc_1     = FullOscFile1.Get(\"eventweight_tree\")\n",
    "# fullosc_2     = FullOscFile2.Get(\"eventweight_tree\")\n",
    "# fullosc_3     = FullOscFile3.Get(\"eventweight_tree\")\n",
    "\n",
    "\n",
    "# ovrCVDict = {}\n",
    "# nueCVDict = {}\n",
    "# nueLowCVDict = {}\n",
    "# numuLowCVDict = {}\n",
    "# leeCVDict = {}\n",
    "# leeLowCVDict = {}\n",
    "\n",
    "# ncpi0CVDict = {}\n",
    "# ccpi0CVDict = {}\n",
    "\n",
    "# fulloscCVDict = {}\n",
    "\n",
    "def applyeventweights(eventdict, eventtree, pi0weights, LEEdict, useLEE = False, apply_pi0_weights = True):\n",
    "    for x in eventtree:\n",
    "        idx = tuple((x.run,x.subrun,x.event,round(x.nu_energy_true,0)))\n",
    "        weight = x.xsec_corr_weight\n",
    "        if isnan(weight) or isinf(weight):\n",
    "            eventdict[idx] = 1.0\n",
    "        else:\n",
    "            eventdict[idx] = weight\n",
    "            \n",
    "        if useLEE:\n",
    "            leeweight = x.lee_weight\n",
    "            if isnan(leeweight) or isinf(leeweight):\n",
    "                leeCVDict[idx] = 0.0\n",
    "            else:\n",
    "                leeCVDict[idx] = leeweight\n",
    "\n",
    "    if apply_pi0_weights and pi0weights is not None:\n",
    "        all_data = [(line.strip()).split(',') for line in pi0weights.readlines()]\n",
    "        data = all_data[:]\n",
    "        for line in data:\n",
    "            if line[0]=='run': continue\n",
    "            r = int(line[0])\n",
    "            s = int(line[1])\n",
    "            e = int(line[2])\n",
    "            E = round(float(line[3]),0)\n",
    "            w = float(line[-1])\n",
    "            if w>0:\n",
    "                for idx in [tuple((r,s,e,E)),tuple((r,s,e,E-1)),tuple((r,s,e,E+1))]:\n",
    "                    if idx in eventdict: \n",
    "                        eventdict[idx]*=w\n",
    "                        continue\n",
    "        pi0weights.close()\n",
    "    return\n",
    "\n",
    "\n",
    "# print('run 1 ccpi0')\n",
    "# applyeventweights(ccpi0CVDict, ccpi0_1, pi0w_ccpi0_1,leeCVDict,False,True)\n",
    "\n",
    "# print('run 3 ccpi0')\n",
    "# applyeventweights(ccpi0CVDict, ccpi0_3, pi0w_ccpi0_3,leeCVDict,False,True)\n",
    "        \n",
    "# print('run 1 ncpi0')\n",
    "# applyeventweights(ncpi0CVDict, ncpi0_1, pi0w_ncpi0_1,leeCVDict,False,True)\n",
    "        \n",
    "# print('run 3 ncpi0')\n",
    "# applyeventweights(ncpi0CVDict, ncpi0_3, pi0w_ncpi0_3,leeCVDict,False,True)\n",
    "\n",
    "# # ---------------- Run 1 -------------- #\n",
    "# print('run 1 bnb nu')\n",
    "# applyeventweights(ovrCVDict, ovrCV1, pi0w_numu_1,leeCVDict,False,True)\n",
    "        \n",
    "# print('run 1 bnb nu lowE')\n",
    "# applyeventweights(numuLowCVDict, numuLowCV1, pi0w_numu_low_1,leeCVDict,False,True)\n",
    "\n",
    "# print('run 1 intrinsic nue')\n",
    "# applyeventweights(nueCVDict, nueCV1, pi0w_nue_1,leeCVDict,True,True)\n",
    "      \n",
    "# print('run 1 intrinsic nue lowE')\n",
    "# applyeventweights(nueLowCVDict, nueLowCV1, pi0w_nue_low_1,leeCVDict,True,True)\n",
    "    \n",
    "# print('run 1 fullosc')\n",
    "# applyeventweights(fulloscCVDict, fullosc_1, pi0w_fullosc_1,leeCVDict,False,True) \n",
    "\n",
    "# ---------------- Run 2 -------------- #\n",
    "# print('run 2 bnb nu')\n",
    "# applyeventweights(ovrCVDict, ovrCV2, pi0w_numu_2,leeCVDict,False,True)\n",
    "    \n",
    "# print('run 2 bnb nu lowE')\n",
    "# applyeventweights(numuLowCVDict, numuLowCV2, pi0w_numu_low_2,leeCVDict,False,True)\n",
    "\n",
    "# print('run 2 intrinsic nue')\n",
    "# applyeventweights(nueCVDict, nueCV2, pi0w_nue_2,leeCVDict,True,True)\n",
    "    \n",
    "# print('run 2 intrinsic nue lowE')\n",
    "# applyeventweights(nueLowCVDict, nueLowCV2, pi0w_nue_low_2,leeCVDict,True,True)\n",
    "\n",
    "# print('run 2 fullosc')\n",
    "# applyeventweights(fulloscCVDict, fullosc_2, pi0w_fullosc_2,leeCVDict,False,True) \n",
    "# ---------------- Run 3 -------------- #\n",
    "# print('run 3 bnb nu')\n",
    "# applyeventweights(ovrCVDict, ovrCV3, pi0w_numu_3,leeCVDict,False,True)\n",
    "        \n",
    "# print('run 3 bnb nu lowE')\n",
    "# applyeventweights(numuLowCVDict, numuLowCV3, pi0w_numu_low_3,leeCVDict,False,True)\n",
    "\n",
    "# print('run 3 intrinsic nue')\n",
    "# applyeventweights(nueCVDict, nueCV3, pi0w_nue_3,leeCVDict,True,True)\n",
    "      \n",
    "# print('run 3 intrinsic nue lowE')\n",
    "# applyeventweights(nueLowCVDict, nueLowCV3, pi0w_nue_low_3,leeCVDict,True,True)\n",
    "    \n",
    "# print('run 3 fullosc')\n",
    "# applyeventweights(fulloscCVDict, fullosc_3, pi0w_fullosc_3,leeCVDict,False,True) "
   ]
  },
  {
   "cell_type": "code",
   "execution_count": null,
   "metadata": {},
   "outputs": [],
   "source": []
  },
  {
   "cell_type": "code",
   "execution_count": 5,
   "metadata": {
    "scrolled": true
   },
   "outputs": [
    {
     "name": "stderr",
     "output_type": "stream",
     "text": [
      "/home/kmason/.local/lib/python3.6/site-packages/sklearn/base.py:312: UserWarning: Trying to unpickle estimator LabelEncoder from version 0.20.4 when using version 0.19.0. This might lead to breaking code or invalid results. Use at your own risk.\n",
      "  UserWarning)\n"
     ]
    },
    {
     "name": "stdout",
     "output_type": "stream",
     "text": [
      "3452 3452\n",
      "13052 13051\n",
      "628 628\n",
      "0 2190\n",
      "0 557\n",
      "1657 1657\n",
      "2394 2393\n"
     ]
    },
    {
     "name": "stderr",
     "output_type": "stream",
     "text": [
      "/home/kmason/fullosc/NueAppearenceStudy/FilePrep/SelectionHelper.py:322: UserWarning: loadtxt: Empty input file: \"/home/kmason/fullosc/NicksCode/1e1pdata/aux/BDTWeights/ValSample_R1_0_intrinsics_lowE.txt\"\n",
      "  self.valrse[r][b][filetag] = np.loadtxt(bdtsavedir+'ValSample_R%i_%i_%s.txt'%(r,b,filetag),dtype=int)\n",
      "/home/kmason/fullosc/NueAppearenceStudy/FilePrep/SelectionHelper.py:322: UserWarning: loadtxt: Empty input file: \"/home/kmason/fullosc/NicksCode/1e1pdata/aux/BDTWeights/ValSample_R1_0_overlay_lowE.txt\"\n",
      "  self.valrse[r][b][filetag] = np.loadtxt(bdtsavedir+'ValSample_R%i_%i_%s.txt'%(r,b,filetag),dtype=int)\n"
     ]
    },
    {
     "name": "stdout",
     "output_type": "stream",
     "text": [
      "Exception\n",
      "Exception\n",
      "3452 3452\n",
      "13052 13051\n",
      "628 628\n",
      "0 2190\n",
      "0 557\n"
     ]
    },
    {
     "name": "stderr",
     "output_type": "stream",
     "text": [
      "/home/kmason/fullosc/NueAppearenceStudy/FilePrep/SelectionHelper.py:322: UserWarning: loadtxt: Empty input file: \"/home/kmason/fullosc/NicksCode/1e1pdata/aux/BDTWeights/ValSample_R1_1_intrinsics_lowE.txt\"\n",
      "  self.valrse[r][b][filetag] = np.loadtxt(bdtsavedir+'ValSample_R%i_%i_%s.txt'%(r,b,filetag),dtype=int)\n",
      "/home/kmason/fullosc/NueAppearenceStudy/FilePrep/SelectionHelper.py:322: UserWarning: loadtxt: Empty input file: \"/home/kmason/fullosc/NicksCode/1e1pdata/aux/BDTWeights/ValSample_R1_1_overlay_lowE.txt\"\n",
      "  self.valrse[r][b][filetag] = np.loadtxt(bdtsavedir+'ValSample_R%i_%i_%s.txt'%(r,b,filetag),dtype=int)\n"
     ]
    },
    {
     "name": "stdout",
     "output_type": "stream",
     "text": [
      "1657 1657\n",
      "2394 2393\n",
      "Exception\n",
      "Exception\n",
      "3452 3452\n",
      "13052 13051\n",
      "628 628\n",
      "0 2190\n",
      "0 557\n"
     ]
    },
    {
     "name": "stderr",
     "output_type": "stream",
     "text": [
      "/home/kmason/fullosc/NueAppearenceStudy/FilePrep/SelectionHelper.py:322: UserWarning: loadtxt: Empty input file: \"/home/kmason/fullosc/NicksCode/1e1pdata/aux/BDTWeights/ValSample_R1_2_intrinsics_lowE.txt\"\n",
      "  self.valrse[r][b][filetag] = np.loadtxt(bdtsavedir+'ValSample_R%i_%i_%s.txt'%(r,b,filetag),dtype=int)\n",
      "/home/kmason/fullosc/NueAppearenceStudy/FilePrep/SelectionHelper.py:322: UserWarning: loadtxt: Empty input file: \"/home/kmason/fullosc/NicksCode/1e1pdata/aux/BDTWeights/ValSample_R1_2_overlay_lowE.txt\"\n",
      "  self.valrse[r][b][filetag] = np.loadtxt(bdtsavedir+'ValSample_R%i_%i_%s.txt'%(r,b,filetag),dtype=int)\n"
     ]
    },
    {
     "name": "stdout",
     "output_type": "stream",
     "text": [
      "1657 1657\n",
      "2394 2393\n",
      "Exception\n",
      "Exception\n",
      "3452 3452\n",
      "13052 13051\n",
      "628 628\n",
      "0 2190\n",
      "0 557\n",
      "1657 1657\n",
      "2394 2393\n",
      "Exception\n",
      "Exception\n",
      "3452 3452\n"
     ]
    },
    {
     "name": "stderr",
     "output_type": "stream",
     "text": [
      "/home/kmason/fullosc/NueAppearenceStudy/FilePrep/SelectionHelper.py:322: UserWarning: loadtxt: Empty input file: \"/home/kmason/fullosc/NicksCode/1e1pdata/aux/BDTWeights/ValSample_R1_3_intrinsics_lowE.txt\"\n",
      "  self.valrse[r][b][filetag] = np.loadtxt(bdtsavedir+'ValSample_R%i_%i_%s.txt'%(r,b,filetag),dtype=int)\n",
      "/home/kmason/fullosc/NueAppearenceStudy/FilePrep/SelectionHelper.py:322: UserWarning: loadtxt: Empty input file: \"/home/kmason/fullosc/NicksCode/1e1pdata/aux/BDTWeights/ValSample_R1_3_overlay_lowE.txt\"\n",
      "  self.valrse[r][b][filetag] = np.loadtxt(bdtsavedir+'ValSample_R%i_%i_%s.txt'%(r,b,filetag),dtype=int)\n"
     ]
    },
    {
     "name": "stdout",
     "output_type": "stream",
     "text": [
      "13052 13051\n",
      "628 628\n",
      "0 2190\n",
      "0 557\n",
      "1657 1657\n",
      "2394 2393\n",
      "Exception\n",
      "Exception\n",
      "3452 3452\n"
     ]
    },
    {
     "name": "stderr",
     "output_type": "stream",
     "text": [
      "/home/kmason/fullosc/NueAppearenceStudy/FilePrep/SelectionHelper.py:322: UserWarning: loadtxt: Empty input file: \"/home/kmason/fullosc/NicksCode/1e1pdata/aux/BDTWeights/ValSample_R1_4_intrinsics_lowE.txt\"\n",
      "  self.valrse[r][b][filetag] = np.loadtxt(bdtsavedir+'ValSample_R%i_%i_%s.txt'%(r,b,filetag),dtype=int)\n",
      "/home/kmason/fullosc/NueAppearenceStudy/FilePrep/SelectionHelper.py:322: UserWarning: loadtxt: Empty input file: \"/home/kmason/fullosc/NicksCode/1e1pdata/aux/BDTWeights/ValSample_R1_4_overlay_lowE.txt\"\n",
      "  self.valrse[r][b][filetag] = np.loadtxt(bdtsavedir+'ValSample_R%i_%i_%s.txt'%(r,b,filetag),dtype=int)\n"
     ]
    },
    {
     "name": "stdout",
     "output_type": "stream",
     "text": [
      "13052 13051\n",
      "628 628\n",
      "0 2190\n",
      "0 557\n",
      "1657 1657\n",
      "2394 2393\n",
      "Exception\n",
      "Exception\n",
      "3452 3452\n"
     ]
    },
    {
     "name": "stderr",
     "output_type": "stream",
     "text": [
      "/home/kmason/fullosc/NueAppearenceStudy/FilePrep/SelectionHelper.py:322: UserWarning: loadtxt: Empty input file: \"/home/kmason/fullosc/NicksCode/1e1pdata/aux/BDTWeights/ValSample_R1_5_intrinsics_lowE.txt\"\n",
      "  self.valrse[r][b][filetag] = np.loadtxt(bdtsavedir+'ValSample_R%i_%i_%s.txt'%(r,b,filetag),dtype=int)\n",
      "/home/kmason/fullosc/NueAppearenceStudy/FilePrep/SelectionHelper.py:322: UserWarning: loadtxt: Empty input file: \"/home/kmason/fullosc/NicksCode/1e1pdata/aux/BDTWeights/ValSample_R1_5_overlay_lowE.txt\"\n",
      "  self.valrse[r][b][filetag] = np.loadtxt(bdtsavedir+'ValSample_R%i_%i_%s.txt'%(r,b,filetag),dtype=int)\n"
     ]
    },
    {
     "name": "stdout",
     "output_type": "stream",
     "text": [
      "13052 13051\n",
      "628 628\n",
      "0 2190\n",
      "0 557\n",
      "1657 1657\n",
      "2394 2393\n",
      "Exception\n",
      "Exception\n",
      "3452 3452\n"
     ]
    },
    {
     "name": "stderr",
     "output_type": "stream",
     "text": [
      "/home/kmason/fullosc/NueAppearenceStudy/FilePrep/SelectionHelper.py:322: UserWarning: loadtxt: Empty input file: \"/home/kmason/fullosc/NicksCode/1e1pdata/aux/BDTWeights/ValSample_R1_6_intrinsics_lowE.txt\"\n",
      "  self.valrse[r][b][filetag] = np.loadtxt(bdtsavedir+'ValSample_R%i_%i_%s.txt'%(r,b,filetag),dtype=int)\n",
      "/home/kmason/fullosc/NueAppearenceStudy/FilePrep/SelectionHelper.py:322: UserWarning: loadtxt: Empty input file: \"/home/kmason/fullosc/NicksCode/1e1pdata/aux/BDTWeights/ValSample_R1_6_overlay_lowE.txt\"\n",
      "  self.valrse[r][b][filetag] = np.loadtxt(bdtsavedir+'ValSample_R%i_%i_%s.txt'%(r,b,filetag),dtype=int)\n"
     ]
    },
    {
     "name": "stdout",
     "output_type": "stream",
     "text": [
      "13052 13051\n",
      "628 628\n",
      "0 2190\n",
      "0 557\n",
      "1657 1657\n",
      "2394 2393\n",
      "Exception\n",
      "Exception\n",
      "3452 3452\n"
     ]
    },
    {
     "name": "stderr",
     "output_type": "stream",
     "text": [
      "/home/kmason/fullosc/NueAppearenceStudy/FilePrep/SelectionHelper.py:322: UserWarning: loadtxt: Empty input file: \"/home/kmason/fullosc/NicksCode/1e1pdata/aux/BDTWeights/ValSample_R1_7_intrinsics_lowE.txt\"\n",
      "  self.valrse[r][b][filetag] = np.loadtxt(bdtsavedir+'ValSample_R%i_%i_%s.txt'%(r,b,filetag),dtype=int)\n",
      "/home/kmason/fullosc/NueAppearenceStudy/FilePrep/SelectionHelper.py:322: UserWarning: loadtxt: Empty input file: \"/home/kmason/fullosc/NicksCode/1e1pdata/aux/BDTWeights/ValSample_R1_7_overlay_lowE.txt\"\n",
      "  self.valrse[r][b][filetag] = np.loadtxt(bdtsavedir+'ValSample_R%i_%i_%s.txt'%(r,b,filetag),dtype=int)\n"
     ]
    },
    {
     "name": "stdout",
     "output_type": "stream",
     "text": [
      "13052 13051\n",
      "628 628\n",
      "0 2190\n",
      "0 557\n",
      "1657 1657\n",
      "2394 2393\n",
      "Exception\n",
      "Exception\n",
      "3452 3452\n"
     ]
    },
    {
     "name": "stderr",
     "output_type": "stream",
     "text": [
      "/home/kmason/fullosc/NueAppearenceStudy/FilePrep/SelectionHelper.py:322: UserWarning: loadtxt: Empty input file: \"/home/kmason/fullosc/NicksCode/1e1pdata/aux/BDTWeights/ValSample_R1_8_intrinsics_lowE.txt\"\n",
      "  self.valrse[r][b][filetag] = np.loadtxt(bdtsavedir+'ValSample_R%i_%i_%s.txt'%(r,b,filetag),dtype=int)\n",
      "/home/kmason/fullosc/NueAppearenceStudy/FilePrep/SelectionHelper.py:322: UserWarning: loadtxt: Empty input file: \"/home/kmason/fullosc/NicksCode/1e1pdata/aux/BDTWeights/ValSample_R1_8_overlay_lowE.txt\"\n",
      "  self.valrse[r][b][filetag] = np.loadtxt(bdtsavedir+'ValSample_R%i_%i_%s.txt'%(r,b,filetag),dtype=int)\n"
     ]
    },
    {
     "name": "stdout",
     "output_type": "stream",
     "text": [
      "13052 13051\n",
      "628 628\n",
      "0 2190\n",
      "0 557\n",
      "1657 1657\n",
      "2394 2393\n",
      "Exception\n",
      "Exception\n",
      "3452 3452\n"
     ]
    },
    {
     "name": "stderr",
     "output_type": "stream",
     "text": [
      "/home/kmason/fullosc/NueAppearenceStudy/FilePrep/SelectionHelper.py:322: UserWarning: loadtxt: Empty input file: \"/home/kmason/fullosc/NicksCode/1e1pdata/aux/BDTWeights/ValSample_R1_9_intrinsics_lowE.txt\"\n",
      "  self.valrse[r][b][filetag] = np.loadtxt(bdtsavedir+'ValSample_R%i_%i_%s.txt'%(r,b,filetag),dtype=int)\n",
      "/home/kmason/fullosc/NueAppearenceStudy/FilePrep/SelectionHelper.py:322: UserWarning: loadtxt: Empty input file: \"/home/kmason/fullosc/NicksCode/1e1pdata/aux/BDTWeights/ValSample_R1_9_overlay_lowE.txt\"\n",
      "  self.valrse[r][b][filetag] = np.loadtxt(bdtsavedir+'ValSample_R%i_%i_%s.txt'%(r,b,filetag),dtype=int)\n"
     ]
    },
    {
     "name": "stdout",
     "output_type": "stream",
     "text": [
      "13052 13051\n",
      "628 628\n",
      "0 2190\n",
      "0 557\n",
      "1657 1657\n",
      "2394 2393\n",
      "Exception\n",
      "Exception\n",
      "3452 3452\n"
     ]
    },
    {
     "name": "stderr",
     "output_type": "stream",
     "text": [
      "/home/kmason/fullosc/NueAppearenceStudy/FilePrep/SelectionHelper.py:322: UserWarning: loadtxt: Empty input file: \"/home/kmason/fullosc/NicksCode/1e1pdata/aux/BDTWeights/ValSample_R1_10_intrinsics_lowE.txt\"\n",
      "  self.valrse[r][b][filetag] = np.loadtxt(bdtsavedir+'ValSample_R%i_%i_%s.txt'%(r,b,filetag),dtype=int)\n",
      "/home/kmason/fullosc/NueAppearenceStudy/FilePrep/SelectionHelper.py:322: UserWarning: loadtxt: Empty input file: \"/home/kmason/fullosc/NicksCode/1e1pdata/aux/BDTWeights/ValSample_R1_10_overlay_lowE.txt\"\n",
      "  self.valrse[r][b][filetag] = np.loadtxt(bdtsavedir+'ValSample_R%i_%i_%s.txt'%(r,b,filetag),dtype=int)\n"
     ]
    },
    {
     "name": "stdout",
     "output_type": "stream",
     "text": [
      "13052 13051\n",
      "628 628\n",
      "0 2190\n",
      "0 557\n",
      "1657 1657\n",
      "2394 2393\n",
      "Exception\n",
      "Exception\n",
      "3452 3452\n"
     ]
    },
    {
     "name": "stderr",
     "output_type": "stream",
     "text": [
      "/home/kmason/fullosc/NueAppearenceStudy/FilePrep/SelectionHelper.py:322: UserWarning: loadtxt: Empty input file: \"/home/kmason/fullosc/NicksCode/1e1pdata/aux/BDTWeights/ValSample_R1_11_intrinsics_lowE.txt\"\n",
      "  self.valrse[r][b][filetag] = np.loadtxt(bdtsavedir+'ValSample_R%i_%i_%s.txt'%(r,b,filetag),dtype=int)\n",
      "/home/kmason/fullosc/NueAppearenceStudy/FilePrep/SelectionHelper.py:322: UserWarning: loadtxt: Empty input file: \"/home/kmason/fullosc/NicksCode/1e1pdata/aux/BDTWeights/ValSample_R1_11_overlay_lowE.txt\"\n",
      "  self.valrse[r][b][filetag] = np.loadtxt(bdtsavedir+'ValSample_R%i_%i_%s.txt'%(r,b,filetag),dtype=int)\n"
     ]
    },
    {
     "name": "stdout",
     "output_type": "stream",
     "text": [
      "13052 13051\n",
      "628 628\n",
      "0 2190\n",
      "0 557\n",
      "1657 1657\n",
      "2394 2393\n",
      "Exception\n",
      "Exception\n",
      "3452 3452\n",
      "13052 13051\n"
     ]
    },
    {
     "name": "stderr",
     "output_type": "stream",
     "text": [
      "/home/kmason/fullosc/NueAppearenceStudy/FilePrep/SelectionHelper.py:322: UserWarning: loadtxt: Empty input file: \"/home/kmason/fullosc/NicksCode/1e1pdata/aux/BDTWeights/ValSample_R1_12_intrinsics_lowE.txt\"\n",
      "  self.valrse[r][b][filetag] = np.loadtxt(bdtsavedir+'ValSample_R%i_%i_%s.txt'%(r,b,filetag),dtype=int)\n",
      "/home/kmason/fullosc/NueAppearenceStudy/FilePrep/SelectionHelper.py:322: UserWarning: loadtxt: Empty input file: \"/home/kmason/fullosc/NicksCode/1e1pdata/aux/BDTWeights/ValSample_R1_12_overlay_lowE.txt\"\n",
      "  self.valrse[r][b][filetag] = np.loadtxt(bdtsavedir+'ValSample_R%i_%i_%s.txt'%(r,b,filetag),dtype=int)\n"
     ]
    },
    {
     "name": "stdout",
     "output_type": "stream",
     "text": [
      "628 628\n",
      "0 2190\n",
      "0 557\n",
      "1657 1657\n",
      "2394 2393\n",
      "Exception\n",
      "Exception\n",
      "3452 3452\n"
     ]
    },
    {
     "name": "stderr",
     "output_type": "stream",
     "text": [
      "/home/kmason/fullosc/NueAppearenceStudy/FilePrep/SelectionHelper.py:322: UserWarning: loadtxt: Empty input file: \"/home/kmason/fullosc/NicksCode/1e1pdata/aux/BDTWeights/ValSample_R1_13_intrinsics_lowE.txt\"\n",
      "  self.valrse[r][b][filetag] = np.loadtxt(bdtsavedir+'ValSample_R%i_%i_%s.txt'%(r,b,filetag),dtype=int)\n",
      "/home/kmason/fullosc/NueAppearenceStudy/FilePrep/SelectionHelper.py:322: UserWarning: loadtxt: Empty input file: \"/home/kmason/fullosc/NicksCode/1e1pdata/aux/BDTWeights/ValSample_R1_13_overlay_lowE.txt\"\n",
      "  self.valrse[r][b][filetag] = np.loadtxt(bdtsavedir+'ValSample_R%i_%i_%s.txt'%(r,b,filetag),dtype=int)\n"
     ]
    },
    {
     "name": "stdout",
     "output_type": "stream",
     "text": [
      "13052 13051\n",
      "628 628\n",
      "0 2190\n",
      "0 557\n",
      "1657 1657\n",
      "2394 2393\n",
      "Exception\n",
      "Exception\n",
      "3452 3452\n"
     ]
    },
    {
     "name": "stderr",
     "output_type": "stream",
     "text": [
      "/home/kmason/fullosc/NueAppearenceStudy/FilePrep/SelectionHelper.py:322: UserWarning: loadtxt: Empty input file: \"/home/kmason/fullosc/NicksCode/1e1pdata/aux/BDTWeights/ValSample_R1_14_intrinsics_lowE.txt\"\n",
      "  self.valrse[r][b][filetag] = np.loadtxt(bdtsavedir+'ValSample_R%i_%i_%s.txt'%(r,b,filetag),dtype=int)\n",
      "/home/kmason/fullosc/NueAppearenceStudy/FilePrep/SelectionHelper.py:322: UserWarning: loadtxt: Empty input file: \"/home/kmason/fullosc/NicksCode/1e1pdata/aux/BDTWeights/ValSample_R1_14_overlay_lowE.txt\"\n",
      "  self.valrse[r][b][filetag] = np.loadtxt(bdtsavedir+'ValSample_R%i_%i_%s.txt'%(r,b,filetag),dtype=int)\n"
     ]
    },
    {
     "name": "stdout",
     "output_type": "stream",
     "text": [
      "13052 13051\n",
      "628 628\n",
      "0 2190\n",
      "0 557\n",
      "1657 1657\n",
      "2394 2393\n",
      "Exception\n",
      "Exception\n",
      "3452 3452\n"
     ]
    },
    {
     "name": "stderr",
     "output_type": "stream",
     "text": [
      "/home/kmason/fullosc/NueAppearenceStudy/FilePrep/SelectionHelper.py:322: UserWarning: loadtxt: Empty input file: \"/home/kmason/fullosc/NicksCode/1e1pdata/aux/BDTWeights/ValSample_R1_15_intrinsics_lowE.txt\"\n",
      "  self.valrse[r][b][filetag] = np.loadtxt(bdtsavedir+'ValSample_R%i_%i_%s.txt'%(r,b,filetag),dtype=int)\n",
      "/home/kmason/fullosc/NueAppearenceStudy/FilePrep/SelectionHelper.py:322: UserWarning: loadtxt: Empty input file: \"/home/kmason/fullosc/NicksCode/1e1pdata/aux/BDTWeights/ValSample_R1_15_overlay_lowE.txt\"\n",
      "  self.valrse[r][b][filetag] = np.loadtxt(bdtsavedir+'ValSample_R%i_%i_%s.txt'%(r,b,filetag),dtype=int)\n"
     ]
    },
    {
     "name": "stdout",
     "output_type": "stream",
     "text": [
      "13052 13051\n",
      "628 628\n",
      "0 2190\n",
      "0 557\n",
      "1657 1657\n",
      "2394 2393\n",
      "Exception\n",
      "Exception\n",
      "3452 3452\n"
     ]
    },
    {
     "name": "stderr",
     "output_type": "stream",
     "text": [
      "/home/kmason/fullosc/NueAppearenceStudy/FilePrep/SelectionHelper.py:322: UserWarning: loadtxt: Empty input file: \"/home/kmason/fullosc/NicksCode/1e1pdata/aux/BDTWeights/ValSample_R1_16_intrinsics_lowE.txt\"\n",
      "  self.valrse[r][b][filetag] = np.loadtxt(bdtsavedir+'ValSample_R%i_%i_%s.txt'%(r,b,filetag),dtype=int)\n",
      "/home/kmason/fullosc/NueAppearenceStudy/FilePrep/SelectionHelper.py:322: UserWarning: loadtxt: Empty input file: \"/home/kmason/fullosc/NicksCode/1e1pdata/aux/BDTWeights/ValSample_R1_16_overlay_lowE.txt\"\n",
      "  self.valrse[r][b][filetag] = np.loadtxt(bdtsavedir+'ValSample_R%i_%i_%s.txt'%(r,b,filetag),dtype=int)\n"
     ]
    },
    {
     "name": "stdout",
     "output_type": "stream",
     "text": [
      "13052 13051\n",
      "628 628\n",
      "0 2190\n",
      "0 557\n",
      "1657 1657\n",
      "2394 2393\n",
      "Exception\n",
      "Exception\n",
      "3452 3452\n"
     ]
    },
    {
     "name": "stderr",
     "output_type": "stream",
     "text": [
      "/home/kmason/fullosc/NueAppearenceStudy/FilePrep/SelectionHelper.py:322: UserWarning: loadtxt: Empty input file: \"/home/kmason/fullosc/NicksCode/1e1pdata/aux/BDTWeights/ValSample_R1_17_intrinsics_lowE.txt\"\n",
      "  self.valrse[r][b][filetag] = np.loadtxt(bdtsavedir+'ValSample_R%i_%i_%s.txt'%(r,b,filetag),dtype=int)\n",
      "/home/kmason/fullosc/NueAppearenceStudy/FilePrep/SelectionHelper.py:322: UserWarning: loadtxt: Empty input file: \"/home/kmason/fullosc/NicksCode/1e1pdata/aux/BDTWeights/ValSample_R1_17_overlay_lowE.txt\"\n",
      "  self.valrse[r][b][filetag] = np.loadtxt(bdtsavedir+'ValSample_R%i_%i_%s.txt'%(r,b,filetag),dtype=int)\n"
     ]
    },
    {
     "name": "stdout",
     "output_type": "stream",
     "text": [
      "13052 13051\n",
      "628 628\n",
      "0 2190\n",
      "0 557\n",
      "1657 1657\n",
      "2394 2393\n",
      "Exception\n",
      "Exception\n",
      "3452 3452\n"
     ]
    },
    {
     "name": "stderr",
     "output_type": "stream",
     "text": [
      "/home/kmason/fullosc/NueAppearenceStudy/FilePrep/SelectionHelper.py:322: UserWarning: loadtxt: Empty input file: \"/home/kmason/fullosc/NicksCode/1e1pdata/aux/BDTWeights/ValSample_R1_18_intrinsics_lowE.txt\"\n",
      "  self.valrse[r][b][filetag] = np.loadtxt(bdtsavedir+'ValSample_R%i_%i_%s.txt'%(r,b,filetag),dtype=int)\n",
      "/home/kmason/fullosc/NueAppearenceStudy/FilePrep/SelectionHelper.py:322: UserWarning: loadtxt: Empty input file: \"/home/kmason/fullosc/NicksCode/1e1pdata/aux/BDTWeights/ValSample_R1_18_overlay_lowE.txt\"\n",
      "  self.valrse[r][b][filetag] = np.loadtxt(bdtsavedir+'ValSample_R%i_%i_%s.txt'%(r,b,filetag),dtype=int)\n"
     ]
    },
    {
     "name": "stdout",
     "output_type": "stream",
     "text": [
      "13052 13051\n",
      "628 628\n",
      "0 2190\n",
      "0 557\n",
      "1657 1657\n",
      "2394 2393\n",
      "Exception\n",
      "Exception\n",
      "2661 2660\n",
      "12862 12861\n"
     ]
    },
    {
     "name": "stderr",
     "output_type": "stream",
     "text": [
      "/home/kmason/fullosc/NueAppearenceStudy/FilePrep/SelectionHelper.py:322: UserWarning: loadtxt: Empty input file: \"/home/kmason/fullosc/NicksCode/1e1pdata/aux/BDTWeights/ValSample_R1_19_intrinsics_lowE.txt\"\n",
      "  self.valrse[r][b][filetag] = np.loadtxt(bdtsavedir+'ValSample_R%i_%i_%s.txt'%(r,b,filetag),dtype=int)\n",
      "/home/kmason/fullosc/NueAppearenceStudy/FilePrep/SelectionHelper.py:322: UserWarning: loadtxt: Empty input file: \"/home/kmason/fullosc/NicksCode/1e1pdata/aux/BDTWeights/ValSample_R1_19_overlay_lowE.txt\"\n",
      "  self.valrse[r][b][filetag] = np.loadtxt(bdtsavedir+'ValSample_R%i_%i_%s.txt'%(r,b,filetag),dtype=int)\n"
     ]
    },
    {
     "name": "stdout",
     "output_type": "stream",
     "text": [
      "0 2299\n",
      "0 2543\n",
      "0 637\n",
      "0 2767\n",
      "0 3981\n",
      "Exception\n",
      "Exception\n",
      "2661 2660\n"
     ]
    },
    {
     "name": "stderr",
     "output_type": "stream",
     "text": [
      "/home/kmason/fullosc/NueAppearenceStudy/FilePrep/SelectionHelper.py:322: UserWarning: loadtxt: Empty input file: \"/home/kmason/fullosc/NicksCode/1e1pdata/aux/BDTWeights/ValSample_R2_0_ext.txt\"\n",
      "  self.valrse[r][b][filetag] = np.loadtxt(bdtsavedir+'ValSample_R%i_%i_%s.txt'%(r,b,filetag),dtype=int)\n",
      "/home/kmason/fullosc/NueAppearenceStudy/FilePrep/SelectionHelper.py:322: UserWarning: loadtxt: Empty input file: \"/home/kmason/fullosc/NicksCode/1e1pdata/aux/BDTWeights/ValSample_R2_0_intrinsics_lowE.txt\"\n",
      "  self.valrse[r][b][filetag] = np.loadtxt(bdtsavedir+'ValSample_R%i_%i_%s.txt'%(r,b,filetag),dtype=int)\n",
      "/home/kmason/fullosc/NueAppearenceStudy/FilePrep/SelectionHelper.py:322: UserWarning: loadtxt: Empty input file: \"/home/kmason/fullosc/NicksCode/1e1pdata/aux/BDTWeights/ValSample_R2_0_overlay_lowE.txt\"\n",
      "  self.valrse[r][b][filetag] = np.loadtxt(bdtsavedir+'ValSample_R%i_%i_%s.txt'%(r,b,filetag),dtype=int)\n",
      "/home/kmason/fullosc/NueAppearenceStudy/FilePrep/SelectionHelper.py:322: UserWarning: loadtxt: Empty input file: \"/home/kmason/fullosc/NicksCode/1e1pdata/aux/BDTWeights/ValSample_R2_0_ccpi0.txt\"\n",
      "  self.valrse[r][b][filetag] = np.loadtxt(bdtsavedir+'ValSample_R%i_%i_%s.txt'%(r,b,filetag),dtype=int)\n",
      "/home/kmason/fullosc/NueAppearenceStudy/FilePrep/SelectionHelper.py:322: UserWarning: loadtxt: Empty input file: \"/home/kmason/fullosc/NicksCode/1e1pdata/aux/BDTWeights/ValSample_R2_0_ncpi0.txt\"\n",
      "  self.valrse[r][b][filetag] = np.loadtxt(bdtsavedir+'ValSample_R%i_%i_%s.txt'%(r,b,filetag),dtype=int)\n"
     ]
    },
    {
     "name": "stdout",
     "output_type": "stream",
     "text": [
      "12862 12861\n",
      "0 2299\n",
      "0 2543\n",
      "0 637\n",
      "0 2767\n",
      "0 3981\n",
      "Exception\n",
      "Exception\n",
      "2661 2660\n"
     ]
    },
    {
     "name": "stderr",
     "output_type": "stream",
     "text": [
      "/home/kmason/fullosc/NueAppearenceStudy/FilePrep/SelectionHelper.py:322: UserWarning: loadtxt: Empty input file: \"/home/kmason/fullosc/NicksCode/1e1pdata/aux/BDTWeights/ValSample_R2_1_ext.txt\"\n",
      "  self.valrse[r][b][filetag] = np.loadtxt(bdtsavedir+'ValSample_R%i_%i_%s.txt'%(r,b,filetag),dtype=int)\n",
      "/home/kmason/fullosc/NueAppearenceStudy/FilePrep/SelectionHelper.py:322: UserWarning: loadtxt: Empty input file: \"/home/kmason/fullosc/NicksCode/1e1pdata/aux/BDTWeights/ValSample_R2_1_intrinsics_lowE.txt\"\n",
      "  self.valrse[r][b][filetag] = np.loadtxt(bdtsavedir+'ValSample_R%i_%i_%s.txt'%(r,b,filetag),dtype=int)\n",
      "/home/kmason/fullosc/NueAppearenceStudy/FilePrep/SelectionHelper.py:322: UserWarning: loadtxt: Empty input file: \"/home/kmason/fullosc/NicksCode/1e1pdata/aux/BDTWeights/ValSample_R2_1_overlay_lowE.txt\"\n",
      "  self.valrse[r][b][filetag] = np.loadtxt(bdtsavedir+'ValSample_R%i_%i_%s.txt'%(r,b,filetag),dtype=int)\n",
      "/home/kmason/fullosc/NueAppearenceStudy/FilePrep/SelectionHelper.py:322: UserWarning: loadtxt: Empty input file: \"/home/kmason/fullosc/NicksCode/1e1pdata/aux/BDTWeights/ValSample_R2_1_ccpi0.txt\"\n",
      "  self.valrse[r][b][filetag] = np.loadtxt(bdtsavedir+'ValSample_R%i_%i_%s.txt'%(r,b,filetag),dtype=int)\n",
      "/home/kmason/fullosc/NueAppearenceStudy/FilePrep/SelectionHelper.py:322: UserWarning: loadtxt: Empty input file: \"/home/kmason/fullosc/NicksCode/1e1pdata/aux/BDTWeights/ValSample_R2_1_ncpi0.txt\"\n",
      "  self.valrse[r][b][filetag] = np.loadtxt(bdtsavedir+'ValSample_R%i_%i_%s.txt'%(r,b,filetag),dtype=int)\n"
     ]
    },
    {
     "name": "stdout",
     "output_type": "stream",
     "text": [
      "12862 12861\n",
      "0 2299\n",
      "0 2543\n",
      "0 637\n",
      "0 2767\n",
      "0 3981\n",
      "Exception\n",
      "Exception\n",
      "2661 2660\n",
      "12862 12861\n"
     ]
    },
    {
     "name": "stderr",
     "output_type": "stream",
     "text": [
      "/home/kmason/fullosc/NueAppearenceStudy/FilePrep/SelectionHelper.py:322: UserWarning: loadtxt: Empty input file: \"/home/kmason/fullosc/NicksCode/1e1pdata/aux/BDTWeights/ValSample_R2_2_ext.txt\"\n",
      "  self.valrse[r][b][filetag] = np.loadtxt(bdtsavedir+'ValSample_R%i_%i_%s.txt'%(r,b,filetag),dtype=int)\n",
      "/home/kmason/fullosc/NueAppearenceStudy/FilePrep/SelectionHelper.py:322: UserWarning: loadtxt: Empty input file: \"/home/kmason/fullosc/NicksCode/1e1pdata/aux/BDTWeights/ValSample_R2_2_intrinsics_lowE.txt\"\n",
      "  self.valrse[r][b][filetag] = np.loadtxt(bdtsavedir+'ValSample_R%i_%i_%s.txt'%(r,b,filetag),dtype=int)\n",
      "/home/kmason/fullosc/NueAppearenceStudy/FilePrep/SelectionHelper.py:322: UserWarning: loadtxt: Empty input file: \"/home/kmason/fullosc/NicksCode/1e1pdata/aux/BDTWeights/ValSample_R2_2_overlay_lowE.txt\"\n",
      "  self.valrse[r][b][filetag] = np.loadtxt(bdtsavedir+'ValSample_R%i_%i_%s.txt'%(r,b,filetag),dtype=int)\n",
      "/home/kmason/fullosc/NueAppearenceStudy/FilePrep/SelectionHelper.py:322: UserWarning: loadtxt: Empty input file: \"/home/kmason/fullosc/NicksCode/1e1pdata/aux/BDTWeights/ValSample_R2_2_ccpi0.txt\"\n",
      "  self.valrse[r][b][filetag] = np.loadtxt(bdtsavedir+'ValSample_R%i_%i_%s.txt'%(r,b,filetag),dtype=int)\n",
      "/home/kmason/fullosc/NueAppearenceStudy/FilePrep/SelectionHelper.py:322: UserWarning: loadtxt: Empty input file: \"/home/kmason/fullosc/NicksCode/1e1pdata/aux/BDTWeights/ValSample_R2_2_ncpi0.txt\"\n",
      "  self.valrse[r][b][filetag] = np.loadtxt(bdtsavedir+'ValSample_R%i_%i_%s.txt'%(r,b,filetag),dtype=int)\n",
      "/home/kmason/fullosc/NueAppearenceStudy/FilePrep/SelectionHelper.py:322: UserWarning: loadtxt: Empty input file: \"/home/kmason/fullosc/NicksCode/1e1pdata/aux/BDTWeights/ValSample_R2_3_ext.txt\"\n",
      "  self.valrse[r][b][filetag] = np.loadtxt(bdtsavedir+'ValSample_R%i_%i_%s.txt'%(r,b,filetag),dtype=int)\n",
      "/home/kmason/fullosc/NueAppearenceStudy/FilePrep/SelectionHelper.py:322: UserWarning: loadtxt: Empty input file: \"/home/kmason/fullosc/NicksCode/1e1pdata/aux/BDTWeights/ValSample_R2_3_intrinsics_lowE.txt\"\n",
      "  self.valrse[r][b][filetag] = np.loadtxt(bdtsavedir+'ValSample_R%i_%i_%s.txt'%(r,b,filetag),dtype=int)\n",
      "/home/kmason/fullosc/NueAppearenceStudy/FilePrep/SelectionHelper.py:322: UserWarning: loadtxt: Empty input file: \"/home/kmason/fullosc/NicksCode/1e1pdata/aux/BDTWeights/ValSample_R2_3_overlay_lowE.txt\"\n",
      "  self.valrse[r][b][filetag] = np.loadtxt(bdtsavedir+'ValSample_R%i_%i_%s.txt'%(r,b,filetag),dtype=int)\n",
      "/home/kmason/fullosc/NueAppearenceStudy/FilePrep/SelectionHelper.py:322: UserWarning: loadtxt: Empty input file: \"/home/kmason/fullosc/NicksCode/1e1pdata/aux/BDTWeights/ValSample_R2_3_ccpi0.txt\"\n",
      "  self.valrse[r][b][filetag] = np.loadtxt(bdtsavedir+'ValSample_R%i_%i_%s.txt'%(r,b,filetag),dtype=int)\n",
      "/home/kmason/fullosc/NueAppearenceStudy/FilePrep/SelectionHelper.py:322: UserWarning: loadtxt: Empty input file: \"/home/kmason/fullosc/NicksCode/1e1pdata/aux/BDTWeights/ValSample_R2_3_ncpi0.txt\"\n",
      "  self.valrse[r][b][filetag] = np.loadtxt(bdtsavedir+'ValSample_R%i_%i_%s.txt'%(r,b,filetag),dtype=int)\n"
     ]
    },
    {
     "name": "stdout",
     "output_type": "stream",
     "text": [
      "0 2299\n",
      "0 2543\n",
      "0 637\n",
      "0 2767\n",
      "0 3981\n",
      "Exception\n",
      "Exception\n",
      "2661 2660\n"
     ]
    },
    {
     "name": "stderr",
     "output_type": "stream",
     "text": [
      "/home/kmason/fullosc/NueAppearenceStudy/FilePrep/SelectionHelper.py:322: UserWarning: loadtxt: Empty input file: \"/home/kmason/fullosc/NicksCode/1e1pdata/aux/BDTWeights/ValSample_R2_4_ext.txt\"\n",
      "  self.valrse[r][b][filetag] = np.loadtxt(bdtsavedir+'ValSample_R%i_%i_%s.txt'%(r,b,filetag),dtype=int)\n",
      "/home/kmason/fullosc/NueAppearenceStudy/FilePrep/SelectionHelper.py:322: UserWarning: loadtxt: Empty input file: \"/home/kmason/fullosc/NicksCode/1e1pdata/aux/BDTWeights/ValSample_R2_4_intrinsics_lowE.txt\"\n",
      "  self.valrse[r][b][filetag] = np.loadtxt(bdtsavedir+'ValSample_R%i_%i_%s.txt'%(r,b,filetag),dtype=int)\n",
      "/home/kmason/fullosc/NueAppearenceStudy/FilePrep/SelectionHelper.py:322: UserWarning: loadtxt: Empty input file: \"/home/kmason/fullosc/NicksCode/1e1pdata/aux/BDTWeights/ValSample_R2_4_overlay_lowE.txt\"\n",
      "  self.valrse[r][b][filetag] = np.loadtxt(bdtsavedir+'ValSample_R%i_%i_%s.txt'%(r,b,filetag),dtype=int)\n",
      "/home/kmason/fullosc/NueAppearenceStudy/FilePrep/SelectionHelper.py:322: UserWarning: loadtxt: Empty input file: \"/home/kmason/fullosc/NicksCode/1e1pdata/aux/BDTWeights/ValSample_R2_4_ccpi0.txt\"\n",
      "  self.valrse[r][b][filetag] = np.loadtxt(bdtsavedir+'ValSample_R%i_%i_%s.txt'%(r,b,filetag),dtype=int)\n",
      "/home/kmason/fullosc/NueAppearenceStudy/FilePrep/SelectionHelper.py:322: UserWarning: loadtxt: Empty input file: \"/home/kmason/fullosc/NicksCode/1e1pdata/aux/BDTWeights/ValSample_R2_4_ncpi0.txt\"\n",
      "  self.valrse[r][b][filetag] = np.loadtxt(bdtsavedir+'ValSample_R%i_%i_%s.txt'%(r,b,filetag),dtype=int)\n"
     ]
    },
    {
     "name": "stdout",
     "output_type": "stream",
     "text": [
      "12862 12861\n",
      "0 2299\n",
      "0 2543\n",
      "0 637\n",
      "0 2767\n",
      "0 3981\n",
      "Exception\n",
      "Exception\n",
      "2661 2660\n",
      "12862 12861\n"
     ]
    },
    {
     "name": "stderr",
     "output_type": "stream",
     "text": [
      "/home/kmason/fullosc/NueAppearenceStudy/FilePrep/SelectionHelper.py:322: UserWarning: loadtxt: Empty input file: \"/home/kmason/fullosc/NicksCode/1e1pdata/aux/BDTWeights/ValSample_R2_5_ext.txt\"\n",
      "  self.valrse[r][b][filetag] = np.loadtxt(bdtsavedir+'ValSample_R%i_%i_%s.txt'%(r,b,filetag),dtype=int)\n",
      "/home/kmason/fullosc/NueAppearenceStudy/FilePrep/SelectionHelper.py:322: UserWarning: loadtxt: Empty input file: \"/home/kmason/fullosc/NicksCode/1e1pdata/aux/BDTWeights/ValSample_R2_5_intrinsics_lowE.txt\"\n",
      "  self.valrse[r][b][filetag] = np.loadtxt(bdtsavedir+'ValSample_R%i_%i_%s.txt'%(r,b,filetag),dtype=int)\n",
      "/home/kmason/fullosc/NueAppearenceStudy/FilePrep/SelectionHelper.py:322: UserWarning: loadtxt: Empty input file: \"/home/kmason/fullosc/NicksCode/1e1pdata/aux/BDTWeights/ValSample_R2_5_overlay_lowE.txt\"\n",
      "  self.valrse[r][b][filetag] = np.loadtxt(bdtsavedir+'ValSample_R%i_%i_%s.txt'%(r,b,filetag),dtype=int)\n",
      "/home/kmason/fullosc/NueAppearenceStudy/FilePrep/SelectionHelper.py:322: UserWarning: loadtxt: Empty input file: \"/home/kmason/fullosc/NicksCode/1e1pdata/aux/BDTWeights/ValSample_R2_5_ccpi0.txt\"\n",
      "  self.valrse[r][b][filetag] = np.loadtxt(bdtsavedir+'ValSample_R%i_%i_%s.txt'%(r,b,filetag),dtype=int)\n",
      "/home/kmason/fullosc/NueAppearenceStudy/FilePrep/SelectionHelper.py:322: UserWarning: loadtxt: Empty input file: \"/home/kmason/fullosc/NicksCode/1e1pdata/aux/BDTWeights/ValSample_R2_5_ncpi0.txt\"\n",
      "  self.valrse[r][b][filetag] = np.loadtxt(bdtsavedir+'ValSample_R%i_%i_%s.txt'%(r,b,filetag),dtype=int)\n"
     ]
    },
    {
     "name": "stdout",
     "output_type": "stream",
     "text": [
      "0 2299\n",
      "0 2543\n",
      "0 637\n",
      "0 2767\n",
      "0 3981\n",
      "Exception\n",
      "Exception\n",
      "2661 2660\n",
      "12862 12861\n",
      "0 2299\n"
     ]
    },
    {
     "name": "stderr",
     "output_type": "stream",
     "text": [
      "/home/kmason/fullosc/NueAppearenceStudy/FilePrep/SelectionHelper.py:322: UserWarning: loadtxt: Empty input file: \"/home/kmason/fullosc/NicksCode/1e1pdata/aux/BDTWeights/ValSample_R2_6_ext.txt\"\n",
      "  self.valrse[r][b][filetag] = np.loadtxt(bdtsavedir+'ValSample_R%i_%i_%s.txt'%(r,b,filetag),dtype=int)\n",
      "/home/kmason/fullosc/NueAppearenceStudy/FilePrep/SelectionHelper.py:322: UserWarning: loadtxt: Empty input file: \"/home/kmason/fullosc/NicksCode/1e1pdata/aux/BDTWeights/ValSample_R2_6_intrinsics_lowE.txt\"\n",
      "  self.valrse[r][b][filetag] = np.loadtxt(bdtsavedir+'ValSample_R%i_%i_%s.txt'%(r,b,filetag),dtype=int)\n",
      "/home/kmason/fullosc/NueAppearenceStudy/FilePrep/SelectionHelper.py:322: UserWarning: loadtxt: Empty input file: \"/home/kmason/fullosc/NicksCode/1e1pdata/aux/BDTWeights/ValSample_R2_6_overlay_lowE.txt\"\n",
      "  self.valrse[r][b][filetag] = np.loadtxt(bdtsavedir+'ValSample_R%i_%i_%s.txt'%(r,b,filetag),dtype=int)\n",
      "/home/kmason/fullosc/NueAppearenceStudy/FilePrep/SelectionHelper.py:322: UserWarning: loadtxt: Empty input file: \"/home/kmason/fullosc/NicksCode/1e1pdata/aux/BDTWeights/ValSample_R2_6_ccpi0.txt\"\n",
      "  self.valrse[r][b][filetag] = np.loadtxt(bdtsavedir+'ValSample_R%i_%i_%s.txt'%(r,b,filetag),dtype=int)\n",
      "/home/kmason/fullosc/NueAppearenceStudy/FilePrep/SelectionHelper.py:322: UserWarning: loadtxt: Empty input file: \"/home/kmason/fullosc/NicksCode/1e1pdata/aux/BDTWeights/ValSample_R2_6_ncpi0.txt\"\n",
      "  self.valrse[r][b][filetag] = np.loadtxt(bdtsavedir+'ValSample_R%i_%i_%s.txt'%(r,b,filetag),dtype=int)\n"
     ]
    },
    {
     "name": "stdout",
     "output_type": "stream",
     "text": [
      "0 2543\n",
      "0 637\n",
      "0 2767\n",
      "0 3981\n",
      "Exception\n",
      "Exception\n",
      "2661 2660\n",
      "12862 12861\n"
     ]
    },
    {
     "name": "stderr",
     "output_type": "stream",
     "text": [
      "/home/kmason/fullosc/NueAppearenceStudy/FilePrep/SelectionHelper.py:322: UserWarning: loadtxt: Empty input file: \"/home/kmason/fullosc/NicksCode/1e1pdata/aux/BDTWeights/ValSample_R2_7_ext.txt\"\n",
      "  self.valrse[r][b][filetag] = np.loadtxt(bdtsavedir+'ValSample_R%i_%i_%s.txt'%(r,b,filetag),dtype=int)\n",
      "/home/kmason/fullosc/NueAppearenceStudy/FilePrep/SelectionHelper.py:322: UserWarning: loadtxt: Empty input file: \"/home/kmason/fullosc/NicksCode/1e1pdata/aux/BDTWeights/ValSample_R2_7_intrinsics_lowE.txt\"\n",
      "  self.valrse[r][b][filetag] = np.loadtxt(bdtsavedir+'ValSample_R%i_%i_%s.txt'%(r,b,filetag),dtype=int)\n",
      "/home/kmason/fullosc/NueAppearenceStudy/FilePrep/SelectionHelper.py:322: UserWarning: loadtxt: Empty input file: \"/home/kmason/fullosc/NicksCode/1e1pdata/aux/BDTWeights/ValSample_R2_7_overlay_lowE.txt\"\n",
      "  self.valrse[r][b][filetag] = np.loadtxt(bdtsavedir+'ValSample_R%i_%i_%s.txt'%(r,b,filetag),dtype=int)\n",
      "/home/kmason/fullosc/NueAppearenceStudy/FilePrep/SelectionHelper.py:322: UserWarning: loadtxt: Empty input file: \"/home/kmason/fullosc/NicksCode/1e1pdata/aux/BDTWeights/ValSample_R2_7_ccpi0.txt\"\n",
      "  self.valrse[r][b][filetag] = np.loadtxt(bdtsavedir+'ValSample_R%i_%i_%s.txt'%(r,b,filetag),dtype=int)\n",
      "/home/kmason/fullosc/NueAppearenceStudy/FilePrep/SelectionHelper.py:322: UserWarning: loadtxt: Empty input file: \"/home/kmason/fullosc/NicksCode/1e1pdata/aux/BDTWeights/ValSample_R2_7_ncpi0.txt\"\n",
      "  self.valrse[r][b][filetag] = np.loadtxt(bdtsavedir+'ValSample_R%i_%i_%s.txt'%(r,b,filetag),dtype=int)\n"
     ]
    },
    {
     "name": "stdout",
     "output_type": "stream",
     "text": [
      "0 2299\n",
      "0 2543\n",
      "0 637\n",
      "0 2767\n",
      "0 3981\n",
      "Exception\n",
      "Exception\n",
      "2661 2660\n",
      "12862 12861\n",
      "0 2299\n",
      "0 2543\n",
      "0 637\n",
      "0 2767\n",
      "0 3981\n",
      "Exception\n",
      "Exception\n",
      "2661 2660\n"
     ]
    },
    {
     "name": "stderr",
     "output_type": "stream",
     "text": [
      "/home/kmason/fullosc/NueAppearenceStudy/FilePrep/SelectionHelper.py:322: UserWarning: loadtxt: Empty input file: \"/home/kmason/fullosc/NicksCode/1e1pdata/aux/BDTWeights/ValSample_R2_8_ext.txt\"\n",
      "  self.valrse[r][b][filetag] = np.loadtxt(bdtsavedir+'ValSample_R%i_%i_%s.txt'%(r,b,filetag),dtype=int)\n",
      "/home/kmason/fullosc/NueAppearenceStudy/FilePrep/SelectionHelper.py:322: UserWarning: loadtxt: Empty input file: \"/home/kmason/fullosc/NicksCode/1e1pdata/aux/BDTWeights/ValSample_R2_8_intrinsics_lowE.txt\"\n",
      "  self.valrse[r][b][filetag] = np.loadtxt(bdtsavedir+'ValSample_R%i_%i_%s.txt'%(r,b,filetag),dtype=int)\n",
      "/home/kmason/fullosc/NueAppearenceStudy/FilePrep/SelectionHelper.py:322: UserWarning: loadtxt: Empty input file: \"/home/kmason/fullosc/NicksCode/1e1pdata/aux/BDTWeights/ValSample_R2_8_overlay_lowE.txt\"\n",
      "  self.valrse[r][b][filetag] = np.loadtxt(bdtsavedir+'ValSample_R%i_%i_%s.txt'%(r,b,filetag),dtype=int)\n",
      "/home/kmason/fullosc/NueAppearenceStudy/FilePrep/SelectionHelper.py:322: UserWarning: loadtxt: Empty input file: \"/home/kmason/fullosc/NicksCode/1e1pdata/aux/BDTWeights/ValSample_R2_8_ccpi0.txt\"\n",
      "  self.valrse[r][b][filetag] = np.loadtxt(bdtsavedir+'ValSample_R%i_%i_%s.txt'%(r,b,filetag),dtype=int)\n",
      "/home/kmason/fullosc/NueAppearenceStudy/FilePrep/SelectionHelper.py:322: UserWarning: loadtxt: Empty input file: \"/home/kmason/fullosc/NicksCode/1e1pdata/aux/BDTWeights/ValSample_R2_8_ncpi0.txt\"\n",
      "  self.valrse[r][b][filetag] = np.loadtxt(bdtsavedir+'ValSample_R%i_%i_%s.txt'%(r,b,filetag),dtype=int)\n"
     ]
    },
    {
     "name": "stdout",
     "output_type": "stream",
     "text": [
      "12862 12861\n",
      "0 2299\n",
      "0 2543\n",
      "0 637\n",
      "0 2767\n",
      "0 3981\n",
      "Exception\n",
      "Exception\n",
      "2661 2660\n"
     ]
    },
    {
     "name": "stderr",
     "output_type": "stream",
     "text": [
      "/home/kmason/fullosc/NueAppearenceStudy/FilePrep/SelectionHelper.py:322: UserWarning: loadtxt: Empty input file: \"/home/kmason/fullosc/NicksCode/1e1pdata/aux/BDTWeights/ValSample_R2_9_ext.txt\"\n",
      "  self.valrse[r][b][filetag] = np.loadtxt(bdtsavedir+'ValSample_R%i_%i_%s.txt'%(r,b,filetag),dtype=int)\n",
      "/home/kmason/fullosc/NueAppearenceStudy/FilePrep/SelectionHelper.py:322: UserWarning: loadtxt: Empty input file: \"/home/kmason/fullosc/NicksCode/1e1pdata/aux/BDTWeights/ValSample_R2_9_intrinsics_lowE.txt\"\n",
      "  self.valrse[r][b][filetag] = np.loadtxt(bdtsavedir+'ValSample_R%i_%i_%s.txt'%(r,b,filetag),dtype=int)\n",
      "/home/kmason/fullosc/NueAppearenceStudy/FilePrep/SelectionHelper.py:322: UserWarning: loadtxt: Empty input file: \"/home/kmason/fullosc/NicksCode/1e1pdata/aux/BDTWeights/ValSample_R2_9_overlay_lowE.txt\"\n",
      "  self.valrse[r][b][filetag] = np.loadtxt(bdtsavedir+'ValSample_R%i_%i_%s.txt'%(r,b,filetag),dtype=int)\n",
      "/home/kmason/fullosc/NueAppearenceStudy/FilePrep/SelectionHelper.py:322: UserWarning: loadtxt: Empty input file: \"/home/kmason/fullosc/NicksCode/1e1pdata/aux/BDTWeights/ValSample_R2_9_ccpi0.txt\"\n",
      "  self.valrse[r][b][filetag] = np.loadtxt(bdtsavedir+'ValSample_R%i_%i_%s.txt'%(r,b,filetag),dtype=int)\n",
      "/home/kmason/fullosc/NueAppearenceStudy/FilePrep/SelectionHelper.py:322: UserWarning: loadtxt: Empty input file: \"/home/kmason/fullosc/NicksCode/1e1pdata/aux/BDTWeights/ValSample_R2_9_ncpi0.txt\"\n",
      "  self.valrse[r][b][filetag] = np.loadtxt(bdtsavedir+'ValSample_R%i_%i_%s.txt'%(r,b,filetag),dtype=int)\n"
     ]
    },
    {
     "name": "stdout",
     "output_type": "stream",
     "text": [
      "12862 12861\n",
      "0 2299\n",
      "0 2543\n",
      "0 637\n",
      "0 2767\n",
      "0 3981\n",
      "Exception\n",
      "Exception\n",
      "2661 2660\n",
      "12862 12861\n"
     ]
    },
    {
     "name": "stderr",
     "output_type": "stream",
     "text": [
      "/home/kmason/fullosc/NueAppearenceStudy/FilePrep/SelectionHelper.py:322: UserWarning: loadtxt: Empty input file: \"/home/kmason/fullosc/NicksCode/1e1pdata/aux/BDTWeights/ValSample_R2_10_ext.txt\"\n",
      "  self.valrse[r][b][filetag] = np.loadtxt(bdtsavedir+'ValSample_R%i_%i_%s.txt'%(r,b,filetag),dtype=int)\n",
      "/home/kmason/fullosc/NueAppearenceStudy/FilePrep/SelectionHelper.py:322: UserWarning: loadtxt: Empty input file: \"/home/kmason/fullosc/NicksCode/1e1pdata/aux/BDTWeights/ValSample_R2_10_intrinsics_lowE.txt\"\n",
      "  self.valrse[r][b][filetag] = np.loadtxt(bdtsavedir+'ValSample_R%i_%i_%s.txt'%(r,b,filetag),dtype=int)\n",
      "/home/kmason/fullosc/NueAppearenceStudy/FilePrep/SelectionHelper.py:322: UserWarning: loadtxt: Empty input file: \"/home/kmason/fullosc/NicksCode/1e1pdata/aux/BDTWeights/ValSample_R2_10_overlay_lowE.txt\"\n",
      "  self.valrse[r][b][filetag] = np.loadtxt(bdtsavedir+'ValSample_R%i_%i_%s.txt'%(r,b,filetag),dtype=int)\n",
      "/home/kmason/fullosc/NueAppearenceStudy/FilePrep/SelectionHelper.py:322: UserWarning: loadtxt: Empty input file: \"/home/kmason/fullosc/NicksCode/1e1pdata/aux/BDTWeights/ValSample_R2_10_ccpi0.txt\"\n",
      "  self.valrse[r][b][filetag] = np.loadtxt(bdtsavedir+'ValSample_R%i_%i_%s.txt'%(r,b,filetag),dtype=int)\n",
      "/home/kmason/fullosc/NueAppearenceStudy/FilePrep/SelectionHelper.py:322: UserWarning: loadtxt: Empty input file: \"/home/kmason/fullosc/NicksCode/1e1pdata/aux/BDTWeights/ValSample_R2_10_ncpi0.txt\"\n",
      "  self.valrse[r][b][filetag] = np.loadtxt(bdtsavedir+'ValSample_R%i_%i_%s.txt'%(r,b,filetag),dtype=int)\n"
     ]
    },
    {
     "name": "stdout",
     "output_type": "stream",
     "text": [
      "0 2299\n",
      "0 2543\n",
      "0 637\n",
      "0 2767\n",
      "0 3981\n",
      "Exception\n",
      "Exception\n",
      "2661 2660\n"
     ]
    },
    {
     "name": "stderr",
     "output_type": "stream",
     "text": [
      "/home/kmason/fullosc/NueAppearenceStudy/FilePrep/SelectionHelper.py:322: UserWarning: loadtxt: Empty input file: \"/home/kmason/fullosc/NicksCode/1e1pdata/aux/BDTWeights/ValSample_R2_11_ext.txt\"\n",
      "  self.valrse[r][b][filetag] = np.loadtxt(bdtsavedir+'ValSample_R%i_%i_%s.txt'%(r,b,filetag),dtype=int)\n",
      "/home/kmason/fullosc/NueAppearenceStudy/FilePrep/SelectionHelper.py:322: UserWarning: loadtxt: Empty input file: \"/home/kmason/fullosc/NicksCode/1e1pdata/aux/BDTWeights/ValSample_R2_11_intrinsics_lowE.txt\"\n",
      "  self.valrse[r][b][filetag] = np.loadtxt(bdtsavedir+'ValSample_R%i_%i_%s.txt'%(r,b,filetag),dtype=int)\n",
      "/home/kmason/fullosc/NueAppearenceStudy/FilePrep/SelectionHelper.py:322: UserWarning: loadtxt: Empty input file: \"/home/kmason/fullosc/NicksCode/1e1pdata/aux/BDTWeights/ValSample_R2_11_overlay_lowE.txt\"\n",
      "  self.valrse[r][b][filetag] = np.loadtxt(bdtsavedir+'ValSample_R%i_%i_%s.txt'%(r,b,filetag),dtype=int)\n",
      "/home/kmason/fullosc/NueAppearenceStudy/FilePrep/SelectionHelper.py:322: UserWarning: loadtxt: Empty input file: \"/home/kmason/fullosc/NicksCode/1e1pdata/aux/BDTWeights/ValSample_R2_11_ccpi0.txt\"\n",
      "  self.valrse[r][b][filetag] = np.loadtxt(bdtsavedir+'ValSample_R%i_%i_%s.txt'%(r,b,filetag),dtype=int)\n",
      "/home/kmason/fullosc/NueAppearenceStudy/FilePrep/SelectionHelper.py:322: UserWarning: loadtxt: Empty input file: \"/home/kmason/fullosc/NicksCode/1e1pdata/aux/BDTWeights/ValSample_R2_11_ncpi0.txt\"\n",
      "  self.valrse[r][b][filetag] = np.loadtxt(bdtsavedir+'ValSample_R%i_%i_%s.txt'%(r,b,filetag),dtype=int)\n"
     ]
    },
    {
     "name": "stdout",
     "output_type": "stream",
     "text": [
      "12862 12861\n",
      "0 2299\n",
      "0 2543\n",
      "0 637\n",
      "0 2767\n",
      "0 3981\n",
      "Exception\n",
      "Exception\n",
      "2661 2660\n"
     ]
    },
    {
     "name": "stderr",
     "output_type": "stream",
     "text": [
      "/home/kmason/fullosc/NueAppearenceStudy/FilePrep/SelectionHelper.py:322: UserWarning: loadtxt: Empty input file: \"/home/kmason/fullosc/NicksCode/1e1pdata/aux/BDTWeights/ValSample_R2_12_ext.txt\"\n",
      "  self.valrse[r][b][filetag] = np.loadtxt(bdtsavedir+'ValSample_R%i_%i_%s.txt'%(r,b,filetag),dtype=int)\n",
      "/home/kmason/fullosc/NueAppearenceStudy/FilePrep/SelectionHelper.py:322: UserWarning: loadtxt: Empty input file: \"/home/kmason/fullosc/NicksCode/1e1pdata/aux/BDTWeights/ValSample_R2_12_intrinsics_lowE.txt\"\n",
      "  self.valrse[r][b][filetag] = np.loadtxt(bdtsavedir+'ValSample_R%i_%i_%s.txt'%(r,b,filetag),dtype=int)\n",
      "/home/kmason/fullosc/NueAppearenceStudy/FilePrep/SelectionHelper.py:322: UserWarning: loadtxt: Empty input file: \"/home/kmason/fullosc/NicksCode/1e1pdata/aux/BDTWeights/ValSample_R2_12_overlay_lowE.txt\"\n",
      "  self.valrse[r][b][filetag] = np.loadtxt(bdtsavedir+'ValSample_R%i_%i_%s.txt'%(r,b,filetag),dtype=int)\n",
      "/home/kmason/fullosc/NueAppearenceStudy/FilePrep/SelectionHelper.py:322: UserWarning: loadtxt: Empty input file: \"/home/kmason/fullosc/NicksCode/1e1pdata/aux/BDTWeights/ValSample_R2_12_ccpi0.txt\"\n",
      "  self.valrse[r][b][filetag] = np.loadtxt(bdtsavedir+'ValSample_R%i_%i_%s.txt'%(r,b,filetag),dtype=int)\n",
      "/home/kmason/fullosc/NueAppearenceStudy/FilePrep/SelectionHelper.py:322: UserWarning: loadtxt: Empty input file: \"/home/kmason/fullosc/NicksCode/1e1pdata/aux/BDTWeights/ValSample_R2_12_ncpi0.txt\"\n",
      "  self.valrse[r][b][filetag] = np.loadtxt(bdtsavedir+'ValSample_R%i_%i_%s.txt'%(r,b,filetag),dtype=int)\n"
     ]
    },
    {
     "name": "stdout",
     "output_type": "stream",
     "text": [
      "12862 12861\n",
      "0 2299\n",
      "0 2543\n",
      "0 637\n",
      "0 2767\n",
      "0 3981\n",
      "Exception\n",
      "Exception\n",
      "2661 2660\n"
     ]
    },
    {
     "name": "stderr",
     "output_type": "stream",
     "text": [
      "/home/kmason/fullosc/NueAppearenceStudy/FilePrep/SelectionHelper.py:322: UserWarning: loadtxt: Empty input file: \"/home/kmason/fullosc/NicksCode/1e1pdata/aux/BDTWeights/ValSample_R2_13_ext.txt\"\n",
      "  self.valrse[r][b][filetag] = np.loadtxt(bdtsavedir+'ValSample_R%i_%i_%s.txt'%(r,b,filetag),dtype=int)\n",
      "/home/kmason/fullosc/NueAppearenceStudy/FilePrep/SelectionHelper.py:322: UserWarning: loadtxt: Empty input file: \"/home/kmason/fullosc/NicksCode/1e1pdata/aux/BDTWeights/ValSample_R2_13_intrinsics_lowE.txt\"\n",
      "  self.valrse[r][b][filetag] = np.loadtxt(bdtsavedir+'ValSample_R%i_%i_%s.txt'%(r,b,filetag),dtype=int)\n",
      "/home/kmason/fullosc/NueAppearenceStudy/FilePrep/SelectionHelper.py:322: UserWarning: loadtxt: Empty input file: \"/home/kmason/fullosc/NicksCode/1e1pdata/aux/BDTWeights/ValSample_R2_13_overlay_lowE.txt\"\n",
      "  self.valrse[r][b][filetag] = np.loadtxt(bdtsavedir+'ValSample_R%i_%i_%s.txt'%(r,b,filetag),dtype=int)\n",
      "/home/kmason/fullosc/NueAppearenceStudy/FilePrep/SelectionHelper.py:322: UserWarning: loadtxt: Empty input file: \"/home/kmason/fullosc/NicksCode/1e1pdata/aux/BDTWeights/ValSample_R2_13_ccpi0.txt\"\n",
      "  self.valrse[r][b][filetag] = np.loadtxt(bdtsavedir+'ValSample_R%i_%i_%s.txt'%(r,b,filetag),dtype=int)\n",
      "/home/kmason/fullosc/NueAppearenceStudy/FilePrep/SelectionHelper.py:322: UserWarning: loadtxt: Empty input file: \"/home/kmason/fullosc/NicksCode/1e1pdata/aux/BDTWeights/ValSample_R2_13_ncpi0.txt\"\n",
      "  self.valrse[r][b][filetag] = np.loadtxt(bdtsavedir+'ValSample_R%i_%i_%s.txt'%(r,b,filetag),dtype=int)\n"
     ]
    },
    {
     "name": "stdout",
     "output_type": "stream",
     "text": [
      "12862 12861\n",
      "0 2299\n",
      "0 2543\n",
      "0 637\n",
      "0 2767\n",
      "0 3981\n",
      "Exception\n",
      "Exception\n",
      "2661 2660\n"
     ]
    },
    {
     "name": "stderr",
     "output_type": "stream",
     "text": [
      "/home/kmason/fullosc/NueAppearenceStudy/FilePrep/SelectionHelper.py:322: UserWarning: loadtxt: Empty input file: \"/home/kmason/fullosc/NicksCode/1e1pdata/aux/BDTWeights/ValSample_R2_14_ext.txt\"\n",
      "  self.valrse[r][b][filetag] = np.loadtxt(bdtsavedir+'ValSample_R%i_%i_%s.txt'%(r,b,filetag),dtype=int)\n",
      "/home/kmason/fullosc/NueAppearenceStudy/FilePrep/SelectionHelper.py:322: UserWarning: loadtxt: Empty input file: \"/home/kmason/fullosc/NicksCode/1e1pdata/aux/BDTWeights/ValSample_R2_14_intrinsics_lowE.txt\"\n",
      "  self.valrse[r][b][filetag] = np.loadtxt(bdtsavedir+'ValSample_R%i_%i_%s.txt'%(r,b,filetag),dtype=int)\n",
      "/home/kmason/fullosc/NueAppearenceStudy/FilePrep/SelectionHelper.py:322: UserWarning: loadtxt: Empty input file: \"/home/kmason/fullosc/NicksCode/1e1pdata/aux/BDTWeights/ValSample_R2_14_overlay_lowE.txt\"\n",
      "  self.valrse[r][b][filetag] = np.loadtxt(bdtsavedir+'ValSample_R%i_%i_%s.txt'%(r,b,filetag),dtype=int)\n",
      "/home/kmason/fullosc/NueAppearenceStudy/FilePrep/SelectionHelper.py:322: UserWarning: loadtxt: Empty input file: \"/home/kmason/fullosc/NicksCode/1e1pdata/aux/BDTWeights/ValSample_R2_14_ccpi0.txt\"\n",
      "  self.valrse[r][b][filetag] = np.loadtxt(bdtsavedir+'ValSample_R%i_%i_%s.txt'%(r,b,filetag),dtype=int)\n",
      "/home/kmason/fullosc/NueAppearenceStudy/FilePrep/SelectionHelper.py:322: UserWarning: loadtxt: Empty input file: \"/home/kmason/fullosc/NicksCode/1e1pdata/aux/BDTWeights/ValSample_R2_14_ncpi0.txt\"\n",
      "  self.valrse[r][b][filetag] = np.loadtxt(bdtsavedir+'ValSample_R%i_%i_%s.txt'%(r,b,filetag),dtype=int)\n"
     ]
    },
    {
     "name": "stdout",
     "output_type": "stream",
     "text": [
      "12862 12861\n",
      "0 2299\n",
      "0 2543\n",
      "0 637\n",
      "0 2767\n",
      "0 3981\n",
      "Exception\n",
      "Exception\n",
      "2661 2660\n"
     ]
    },
    {
     "name": "stderr",
     "output_type": "stream",
     "text": [
      "/home/kmason/fullosc/NueAppearenceStudy/FilePrep/SelectionHelper.py:322: UserWarning: loadtxt: Empty input file: \"/home/kmason/fullosc/NicksCode/1e1pdata/aux/BDTWeights/ValSample_R2_15_ext.txt\"\n",
      "  self.valrse[r][b][filetag] = np.loadtxt(bdtsavedir+'ValSample_R%i_%i_%s.txt'%(r,b,filetag),dtype=int)\n",
      "/home/kmason/fullosc/NueAppearenceStudy/FilePrep/SelectionHelper.py:322: UserWarning: loadtxt: Empty input file: \"/home/kmason/fullosc/NicksCode/1e1pdata/aux/BDTWeights/ValSample_R2_15_intrinsics_lowE.txt\"\n",
      "  self.valrse[r][b][filetag] = np.loadtxt(bdtsavedir+'ValSample_R%i_%i_%s.txt'%(r,b,filetag),dtype=int)\n",
      "/home/kmason/fullosc/NueAppearenceStudy/FilePrep/SelectionHelper.py:322: UserWarning: loadtxt: Empty input file: \"/home/kmason/fullosc/NicksCode/1e1pdata/aux/BDTWeights/ValSample_R2_15_overlay_lowE.txt\"\n",
      "  self.valrse[r][b][filetag] = np.loadtxt(bdtsavedir+'ValSample_R%i_%i_%s.txt'%(r,b,filetag),dtype=int)\n",
      "/home/kmason/fullosc/NueAppearenceStudy/FilePrep/SelectionHelper.py:322: UserWarning: loadtxt: Empty input file: \"/home/kmason/fullosc/NicksCode/1e1pdata/aux/BDTWeights/ValSample_R2_15_ccpi0.txt\"\n",
      "  self.valrse[r][b][filetag] = np.loadtxt(bdtsavedir+'ValSample_R%i_%i_%s.txt'%(r,b,filetag),dtype=int)\n",
      "/home/kmason/fullosc/NueAppearenceStudy/FilePrep/SelectionHelper.py:322: UserWarning: loadtxt: Empty input file: \"/home/kmason/fullosc/NicksCode/1e1pdata/aux/BDTWeights/ValSample_R2_15_ncpi0.txt\"\n",
      "  self.valrse[r][b][filetag] = np.loadtxt(bdtsavedir+'ValSample_R%i_%i_%s.txt'%(r,b,filetag),dtype=int)\n"
     ]
    },
    {
     "name": "stdout",
     "output_type": "stream",
     "text": [
      "12862 12861\n",
      "0 2299\n",
      "0 2543\n",
      "0 637\n",
      "0 2767\n",
      "0 3981\n",
      "Exception\n",
      "Exception\n",
      "2661 2660\n",
      "12862 12861\n"
     ]
    },
    {
     "name": "stderr",
     "output_type": "stream",
     "text": [
      "/home/kmason/fullosc/NueAppearenceStudy/FilePrep/SelectionHelper.py:322: UserWarning: loadtxt: Empty input file: \"/home/kmason/fullosc/NicksCode/1e1pdata/aux/BDTWeights/ValSample_R2_16_ext.txt\"\n",
      "  self.valrse[r][b][filetag] = np.loadtxt(bdtsavedir+'ValSample_R%i_%i_%s.txt'%(r,b,filetag),dtype=int)\n",
      "/home/kmason/fullosc/NueAppearenceStudy/FilePrep/SelectionHelper.py:322: UserWarning: loadtxt: Empty input file: \"/home/kmason/fullosc/NicksCode/1e1pdata/aux/BDTWeights/ValSample_R2_16_intrinsics_lowE.txt\"\n",
      "  self.valrse[r][b][filetag] = np.loadtxt(bdtsavedir+'ValSample_R%i_%i_%s.txt'%(r,b,filetag),dtype=int)\n",
      "/home/kmason/fullosc/NueAppearenceStudy/FilePrep/SelectionHelper.py:322: UserWarning: loadtxt: Empty input file: \"/home/kmason/fullosc/NicksCode/1e1pdata/aux/BDTWeights/ValSample_R2_16_overlay_lowE.txt\"\n",
      "  self.valrse[r][b][filetag] = np.loadtxt(bdtsavedir+'ValSample_R%i_%i_%s.txt'%(r,b,filetag),dtype=int)\n",
      "/home/kmason/fullosc/NueAppearenceStudy/FilePrep/SelectionHelper.py:322: UserWarning: loadtxt: Empty input file: \"/home/kmason/fullosc/NicksCode/1e1pdata/aux/BDTWeights/ValSample_R2_16_ccpi0.txt\"\n",
      "  self.valrse[r][b][filetag] = np.loadtxt(bdtsavedir+'ValSample_R%i_%i_%s.txt'%(r,b,filetag),dtype=int)\n",
      "/home/kmason/fullosc/NueAppearenceStudy/FilePrep/SelectionHelper.py:322: UserWarning: loadtxt: Empty input file: \"/home/kmason/fullosc/NicksCode/1e1pdata/aux/BDTWeights/ValSample_R2_16_ncpi0.txt\"\n",
      "  self.valrse[r][b][filetag] = np.loadtxt(bdtsavedir+'ValSample_R%i_%i_%s.txt'%(r,b,filetag),dtype=int)\n"
     ]
    },
    {
     "name": "stdout",
     "output_type": "stream",
     "text": [
      "0 2299\n",
      "0 2543\n",
      "0 637\n",
      "0 2767\n",
      "0 3981\n",
      "Exception\n",
      "Exception\n",
      "2661 2660\n"
     ]
    },
    {
     "name": "stderr",
     "output_type": "stream",
     "text": [
      "/home/kmason/fullosc/NueAppearenceStudy/FilePrep/SelectionHelper.py:322: UserWarning: loadtxt: Empty input file: \"/home/kmason/fullosc/NicksCode/1e1pdata/aux/BDTWeights/ValSample_R2_17_ext.txt\"\n",
      "  self.valrse[r][b][filetag] = np.loadtxt(bdtsavedir+'ValSample_R%i_%i_%s.txt'%(r,b,filetag),dtype=int)\n",
      "/home/kmason/fullosc/NueAppearenceStudy/FilePrep/SelectionHelper.py:322: UserWarning: loadtxt: Empty input file: \"/home/kmason/fullosc/NicksCode/1e1pdata/aux/BDTWeights/ValSample_R2_17_intrinsics_lowE.txt\"\n",
      "  self.valrse[r][b][filetag] = np.loadtxt(bdtsavedir+'ValSample_R%i_%i_%s.txt'%(r,b,filetag),dtype=int)\n",
      "/home/kmason/fullosc/NueAppearenceStudy/FilePrep/SelectionHelper.py:322: UserWarning: loadtxt: Empty input file: \"/home/kmason/fullosc/NicksCode/1e1pdata/aux/BDTWeights/ValSample_R2_17_overlay_lowE.txt\"\n",
      "  self.valrse[r][b][filetag] = np.loadtxt(bdtsavedir+'ValSample_R%i_%i_%s.txt'%(r,b,filetag),dtype=int)\n",
      "/home/kmason/fullosc/NueAppearenceStudy/FilePrep/SelectionHelper.py:322: UserWarning: loadtxt: Empty input file: \"/home/kmason/fullosc/NicksCode/1e1pdata/aux/BDTWeights/ValSample_R2_17_ccpi0.txt\"\n",
      "  self.valrse[r][b][filetag] = np.loadtxt(bdtsavedir+'ValSample_R%i_%i_%s.txt'%(r,b,filetag),dtype=int)\n",
      "/home/kmason/fullosc/NueAppearenceStudy/FilePrep/SelectionHelper.py:322: UserWarning: loadtxt: Empty input file: \"/home/kmason/fullosc/NicksCode/1e1pdata/aux/BDTWeights/ValSample_R2_17_ncpi0.txt\"\n",
      "  self.valrse[r][b][filetag] = np.loadtxt(bdtsavedir+'ValSample_R%i_%i_%s.txt'%(r,b,filetag),dtype=int)\n"
     ]
    },
    {
     "name": "stdout",
     "output_type": "stream",
     "text": [
      "12862 12861\n",
      "0 2299\n",
      "0 2543\n",
      "0 637\n",
      "0 2767\n",
      "0 3981\n",
      "Exception\n",
      "Exception\n",
      "2661 2660\n"
     ]
    },
    {
     "name": "stderr",
     "output_type": "stream",
     "text": [
      "/home/kmason/fullosc/NueAppearenceStudy/FilePrep/SelectionHelper.py:322: UserWarning: loadtxt: Empty input file: \"/home/kmason/fullosc/NicksCode/1e1pdata/aux/BDTWeights/ValSample_R2_18_ext.txt\"\n",
      "  self.valrse[r][b][filetag] = np.loadtxt(bdtsavedir+'ValSample_R%i_%i_%s.txt'%(r,b,filetag),dtype=int)\n",
      "/home/kmason/fullosc/NueAppearenceStudy/FilePrep/SelectionHelper.py:322: UserWarning: loadtxt: Empty input file: \"/home/kmason/fullosc/NicksCode/1e1pdata/aux/BDTWeights/ValSample_R2_18_intrinsics_lowE.txt\"\n",
      "  self.valrse[r][b][filetag] = np.loadtxt(bdtsavedir+'ValSample_R%i_%i_%s.txt'%(r,b,filetag),dtype=int)\n",
      "/home/kmason/fullosc/NueAppearenceStudy/FilePrep/SelectionHelper.py:322: UserWarning: loadtxt: Empty input file: \"/home/kmason/fullosc/NicksCode/1e1pdata/aux/BDTWeights/ValSample_R2_18_overlay_lowE.txt\"\n",
      "  self.valrse[r][b][filetag] = np.loadtxt(bdtsavedir+'ValSample_R%i_%i_%s.txt'%(r,b,filetag),dtype=int)\n",
      "/home/kmason/fullosc/NueAppearenceStudy/FilePrep/SelectionHelper.py:322: UserWarning: loadtxt: Empty input file: \"/home/kmason/fullosc/NicksCode/1e1pdata/aux/BDTWeights/ValSample_R2_18_ccpi0.txt\"\n",
      "  self.valrse[r][b][filetag] = np.loadtxt(bdtsavedir+'ValSample_R%i_%i_%s.txt'%(r,b,filetag),dtype=int)\n",
      "/home/kmason/fullosc/NueAppearenceStudy/FilePrep/SelectionHelper.py:322: UserWarning: loadtxt: Empty input file: \"/home/kmason/fullosc/NicksCode/1e1pdata/aux/BDTWeights/ValSample_R2_18_ncpi0.txt\"\n",
      "  self.valrse[r][b][filetag] = np.loadtxt(bdtsavedir+'ValSample_R%i_%i_%s.txt'%(r,b,filetag),dtype=int)\n"
     ]
    },
    {
     "name": "stdout",
     "output_type": "stream",
     "text": [
      "12862 12861\n",
      "0 2299\n",
      "0 2543\n",
      "0 637\n",
      "0 2767\n",
      "0 3981\n",
      "Exception\n",
      "Exception\n",
      "1340 1340\n",
      "8772 8772\n",
      "1150 1149\n",
      "0 2159\n",
      "0 488\n",
      "1384 1383\n"
     ]
    },
    {
     "name": "stderr",
     "output_type": "stream",
     "text": [
      "/home/kmason/fullosc/NueAppearenceStudy/FilePrep/SelectionHelper.py:322: UserWarning: loadtxt: Empty input file: \"/home/kmason/fullosc/NicksCode/1e1pdata/aux/BDTWeights/ValSample_R2_19_ext.txt\"\n",
      "  self.valrse[r][b][filetag] = np.loadtxt(bdtsavedir+'ValSample_R%i_%i_%s.txt'%(r,b,filetag),dtype=int)\n",
      "/home/kmason/fullosc/NueAppearenceStudy/FilePrep/SelectionHelper.py:322: UserWarning: loadtxt: Empty input file: \"/home/kmason/fullosc/NicksCode/1e1pdata/aux/BDTWeights/ValSample_R2_19_intrinsics_lowE.txt\"\n",
      "  self.valrse[r][b][filetag] = np.loadtxt(bdtsavedir+'ValSample_R%i_%i_%s.txt'%(r,b,filetag),dtype=int)\n",
      "/home/kmason/fullosc/NueAppearenceStudy/FilePrep/SelectionHelper.py:322: UserWarning: loadtxt: Empty input file: \"/home/kmason/fullosc/NicksCode/1e1pdata/aux/BDTWeights/ValSample_R2_19_overlay_lowE.txt\"\n",
      "  self.valrse[r][b][filetag] = np.loadtxt(bdtsavedir+'ValSample_R%i_%i_%s.txt'%(r,b,filetag),dtype=int)\n",
      "/home/kmason/fullosc/NueAppearenceStudy/FilePrep/SelectionHelper.py:322: UserWarning: loadtxt: Empty input file: \"/home/kmason/fullosc/NicksCode/1e1pdata/aux/BDTWeights/ValSample_R2_19_ccpi0.txt\"\n",
      "  self.valrse[r][b][filetag] = np.loadtxt(bdtsavedir+'ValSample_R%i_%i_%s.txt'%(r,b,filetag),dtype=int)\n",
      "/home/kmason/fullosc/NueAppearenceStudy/FilePrep/SelectionHelper.py:322: UserWarning: loadtxt: Empty input file: \"/home/kmason/fullosc/NicksCode/1e1pdata/aux/BDTWeights/ValSample_R2_19_ncpi0.txt\"\n",
      "  self.valrse[r][b][filetag] = np.loadtxt(bdtsavedir+'ValSample_R%i_%i_%s.txt'%(r,b,filetag),dtype=int)\n",
      "/home/kmason/fullosc/NueAppearenceStudy/FilePrep/SelectionHelper.py:322: UserWarning: loadtxt: Empty input file: \"/home/kmason/fullosc/NicksCode/1e1pdata/aux/BDTWeights/ValSample_R3_0_intrinsics_lowE.txt\"\n",
      "  self.valrse[r][b][filetag] = np.loadtxt(bdtsavedir+'ValSample_R%i_%i_%s.txt'%(r,b,filetag),dtype=int)\n",
      "/home/kmason/fullosc/NueAppearenceStudy/FilePrep/SelectionHelper.py:322: UserWarning: loadtxt: Empty input file: \"/home/kmason/fullosc/NicksCode/1e1pdata/aux/BDTWeights/ValSample_R3_0_overlay_lowE.txt\"\n",
      "  self.valrse[r][b][filetag] = np.loadtxt(bdtsavedir+'ValSample_R%i_%i_%s.txt'%(r,b,filetag),dtype=int)\n"
     ]
    },
    {
     "name": "stdout",
     "output_type": "stream",
     "text": [
      "1991 1990\n",
      "Exception\n",
      "Exception\n",
      "1340 1340\n",
      "8772 8772\n",
      "1150 1149\n",
      "0 2159\n",
      "0 488\n",
      "1384 1383\n",
      "1991 1990\n",
      "Exception\n",
      "Exception\n",
      "1340 1340\n"
     ]
    },
    {
     "name": "stderr",
     "output_type": "stream",
     "text": [
      "/home/kmason/fullosc/NueAppearenceStudy/FilePrep/SelectionHelper.py:322: UserWarning: loadtxt: Empty input file: \"/home/kmason/fullosc/NicksCode/1e1pdata/aux/BDTWeights/ValSample_R3_1_intrinsics_lowE.txt\"\n",
      "  self.valrse[r][b][filetag] = np.loadtxt(bdtsavedir+'ValSample_R%i_%i_%s.txt'%(r,b,filetag),dtype=int)\n",
      "/home/kmason/fullosc/NueAppearenceStudy/FilePrep/SelectionHelper.py:322: UserWarning: loadtxt: Empty input file: \"/home/kmason/fullosc/NicksCode/1e1pdata/aux/BDTWeights/ValSample_R3_1_overlay_lowE.txt\"\n",
      "  self.valrse[r][b][filetag] = np.loadtxt(bdtsavedir+'ValSample_R%i_%i_%s.txt'%(r,b,filetag),dtype=int)\n",
      "/home/kmason/fullosc/NueAppearenceStudy/FilePrep/SelectionHelper.py:322: UserWarning: loadtxt: Empty input file: \"/home/kmason/fullosc/NicksCode/1e1pdata/aux/BDTWeights/ValSample_R3_2_intrinsics_lowE.txt\"\n",
      "  self.valrse[r][b][filetag] = np.loadtxt(bdtsavedir+'ValSample_R%i_%i_%s.txt'%(r,b,filetag),dtype=int)\n",
      "/home/kmason/fullosc/NueAppearenceStudy/FilePrep/SelectionHelper.py:322: UserWarning: loadtxt: Empty input file: \"/home/kmason/fullosc/NicksCode/1e1pdata/aux/BDTWeights/ValSample_R3_2_overlay_lowE.txt\"\n",
      "  self.valrse[r][b][filetag] = np.loadtxt(bdtsavedir+'ValSample_R%i_%i_%s.txt'%(r,b,filetag),dtype=int)\n"
     ]
    },
    {
     "name": "stdout",
     "output_type": "stream",
     "text": [
      "8772 8772\n",
      "1150 1149\n",
      "0 2159\n",
      "0 488\n",
      "1384 1383\n",
      "1991 1990\n",
      "Exception\n",
      "Exception\n",
      "1340 1340\n",
      "8772 8772\n",
      "1150 1149\n",
      "0 2159\n",
      "0 488\n",
      "1384 1383\n",
      "1991 1990\n"
     ]
    },
    {
     "name": "stderr",
     "output_type": "stream",
     "text": [
      "/home/kmason/fullosc/NueAppearenceStudy/FilePrep/SelectionHelper.py:322: UserWarning: loadtxt: Empty input file: \"/home/kmason/fullosc/NicksCode/1e1pdata/aux/BDTWeights/ValSample_R3_3_intrinsics_lowE.txt\"\n",
      "  self.valrse[r][b][filetag] = np.loadtxt(bdtsavedir+'ValSample_R%i_%i_%s.txt'%(r,b,filetag),dtype=int)\n",
      "/home/kmason/fullosc/NueAppearenceStudy/FilePrep/SelectionHelper.py:322: UserWarning: loadtxt: Empty input file: \"/home/kmason/fullosc/NicksCode/1e1pdata/aux/BDTWeights/ValSample_R3_3_overlay_lowE.txt\"\n",
      "  self.valrse[r][b][filetag] = np.loadtxt(bdtsavedir+'ValSample_R%i_%i_%s.txt'%(r,b,filetag),dtype=int)\n",
      "/home/kmason/fullosc/NueAppearenceStudy/FilePrep/SelectionHelper.py:322: UserWarning: loadtxt: Empty input file: \"/home/kmason/fullosc/NicksCode/1e1pdata/aux/BDTWeights/ValSample_R3_4_intrinsics_lowE.txt\"\n",
      "  self.valrse[r][b][filetag] = np.loadtxt(bdtsavedir+'ValSample_R%i_%i_%s.txt'%(r,b,filetag),dtype=int)\n",
      "/home/kmason/fullosc/NueAppearenceStudy/FilePrep/SelectionHelper.py:322: UserWarning: loadtxt: Empty input file: \"/home/kmason/fullosc/NicksCode/1e1pdata/aux/BDTWeights/ValSample_R3_4_overlay_lowE.txt\"\n",
      "  self.valrse[r][b][filetag] = np.loadtxt(bdtsavedir+'ValSample_R%i_%i_%s.txt'%(r,b,filetag),dtype=int)\n"
     ]
    },
    {
     "name": "stdout",
     "output_type": "stream",
     "text": [
      "Exception\n",
      "Exception\n",
      "1340 1340\n",
      "8772 8772\n",
      "1150 1149\n",
      "0 2159\n",
      "0 488\n",
      "1384 1383\n",
      "1991 1990\n",
      "Exception\n",
      "Exception\n",
      "1340 1340\n",
      "8772 8772\n",
      "1150 1149\n",
      "0 2159\n",
      "0 488\n",
      "1384 1383\n",
      "1991 1990\n",
      "Exception\n",
      "Exception\n",
      "1340 1340\n",
      "8772 8772\n",
      "1150 1149\n",
      "0 2159\n",
      "0 488\n"
     ]
    },
    {
     "name": "stderr",
     "output_type": "stream",
     "text": [
      "/home/kmason/fullosc/NueAppearenceStudy/FilePrep/SelectionHelper.py:322: UserWarning: loadtxt: Empty input file: \"/home/kmason/fullosc/NicksCode/1e1pdata/aux/BDTWeights/ValSample_R3_5_intrinsics_lowE.txt\"\n",
      "  self.valrse[r][b][filetag] = np.loadtxt(bdtsavedir+'ValSample_R%i_%i_%s.txt'%(r,b,filetag),dtype=int)\n",
      "/home/kmason/fullosc/NueAppearenceStudy/FilePrep/SelectionHelper.py:322: UserWarning: loadtxt: Empty input file: \"/home/kmason/fullosc/NicksCode/1e1pdata/aux/BDTWeights/ValSample_R3_5_overlay_lowE.txt\"\n",
      "  self.valrse[r][b][filetag] = np.loadtxt(bdtsavedir+'ValSample_R%i_%i_%s.txt'%(r,b,filetag),dtype=int)\n",
      "/home/kmason/fullosc/NueAppearenceStudy/FilePrep/SelectionHelper.py:322: UserWarning: loadtxt: Empty input file: \"/home/kmason/fullosc/NicksCode/1e1pdata/aux/BDTWeights/ValSample_R3_6_intrinsics_lowE.txt\"\n",
      "  self.valrse[r][b][filetag] = np.loadtxt(bdtsavedir+'ValSample_R%i_%i_%s.txt'%(r,b,filetag),dtype=int)\n",
      "/home/kmason/fullosc/NueAppearenceStudy/FilePrep/SelectionHelper.py:322: UserWarning: loadtxt: Empty input file: \"/home/kmason/fullosc/NicksCode/1e1pdata/aux/BDTWeights/ValSample_R3_6_overlay_lowE.txt\"\n",
      "  self.valrse[r][b][filetag] = np.loadtxt(bdtsavedir+'ValSample_R%i_%i_%s.txt'%(r,b,filetag),dtype=int)\n"
     ]
    },
    {
     "name": "stdout",
     "output_type": "stream",
     "text": [
      "1384 1383\n",
      "1991 1990\n",
      "Exception\n",
      "Exception\n",
      "1340 1340\n",
      "8772 8772\n",
      "1150 1149\n",
      "0 2159\n",
      "0 488\n",
      "1384 1383\n",
      "1991 1990\n",
      "Exception\n",
      "Exception\n"
     ]
    },
    {
     "name": "stderr",
     "output_type": "stream",
     "text": [
      "/home/kmason/fullosc/NueAppearenceStudy/FilePrep/SelectionHelper.py:322: UserWarning: loadtxt: Empty input file: \"/home/kmason/fullosc/NicksCode/1e1pdata/aux/BDTWeights/ValSample_R3_7_intrinsics_lowE.txt\"\n",
      "  self.valrse[r][b][filetag] = np.loadtxt(bdtsavedir+'ValSample_R%i_%i_%s.txt'%(r,b,filetag),dtype=int)\n",
      "/home/kmason/fullosc/NueAppearenceStudy/FilePrep/SelectionHelper.py:322: UserWarning: loadtxt: Empty input file: \"/home/kmason/fullosc/NicksCode/1e1pdata/aux/BDTWeights/ValSample_R3_7_overlay_lowE.txt\"\n",
      "  self.valrse[r][b][filetag] = np.loadtxt(bdtsavedir+'ValSample_R%i_%i_%s.txt'%(r,b,filetag),dtype=int)\n",
      "/home/kmason/fullosc/NueAppearenceStudy/FilePrep/SelectionHelper.py:322: UserWarning: loadtxt: Empty input file: \"/home/kmason/fullosc/NicksCode/1e1pdata/aux/BDTWeights/ValSample_R3_8_intrinsics_lowE.txt\"\n",
      "  self.valrse[r][b][filetag] = np.loadtxt(bdtsavedir+'ValSample_R%i_%i_%s.txt'%(r,b,filetag),dtype=int)\n",
      "/home/kmason/fullosc/NueAppearenceStudy/FilePrep/SelectionHelper.py:322: UserWarning: loadtxt: Empty input file: \"/home/kmason/fullosc/NicksCode/1e1pdata/aux/BDTWeights/ValSample_R3_8_overlay_lowE.txt\"\n",
      "  self.valrse[r][b][filetag] = np.loadtxt(bdtsavedir+'ValSample_R%i_%i_%s.txt'%(r,b,filetag),dtype=int)\n"
     ]
    },
    {
     "name": "stdout",
     "output_type": "stream",
     "text": [
      "1340 1340\n",
      "8772 8772\n",
      "1150 1149\n",
      "0 2159\n",
      "0 488\n",
      "1384 1383\n",
      "1991 1990\n",
      "Exception\n",
      "Exception\n",
      "1340 1340\n",
      "8772 8772\n",
      "1150 1149\n",
      "0 2159\n",
      "0 488\n",
      "1384 1383\n",
      "1991 1990\n",
      "Exception\n",
      "Exception\n",
      "1340 1340\n",
      "8772 8772\n",
      "1150 1149\n",
      "0 2159\n",
      "0 488\n",
      "1384 1383\n",
      "1991 1990\n",
      "Exception\n",
      "Exception\n"
     ]
    },
    {
     "name": "stderr",
     "output_type": "stream",
     "text": [
      "/home/kmason/fullosc/NueAppearenceStudy/FilePrep/SelectionHelper.py:322: UserWarning: loadtxt: Empty input file: \"/home/kmason/fullosc/NicksCode/1e1pdata/aux/BDTWeights/ValSample_R3_9_intrinsics_lowE.txt\"\n",
      "  self.valrse[r][b][filetag] = np.loadtxt(bdtsavedir+'ValSample_R%i_%i_%s.txt'%(r,b,filetag),dtype=int)\n",
      "/home/kmason/fullosc/NueAppearenceStudy/FilePrep/SelectionHelper.py:322: UserWarning: loadtxt: Empty input file: \"/home/kmason/fullosc/NicksCode/1e1pdata/aux/BDTWeights/ValSample_R3_9_overlay_lowE.txt\"\n",
      "  self.valrse[r][b][filetag] = np.loadtxt(bdtsavedir+'ValSample_R%i_%i_%s.txt'%(r,b,filetag),dtype=int)\n",
      "/home/kmason/fullosc/NueAppearenceStudy/FilePrep/SelectionHelper.py:322: UserWarning: loadtxt: Empty input file: \"/home/kmason/fullosc/NicksCode/1e1pdata/aux/BDTWeights/ValSample_R3_10_intrinsics_lowE.txt\"\n",
      "  self.valrse[r][b][filetag] = np.loadtxt(bdtsavedir+'ValSample_R%i_%i_%s.txt'%(r,b,filetag),dtype=int)\n",
      "/home/kmason/fullosc/NueAppearenceStudy/FilePrep/SelectionHelper.py:322: UserWarning: loadtxt: Empty input file: \"/home/kmason/fullosc/NicksCode/1e1pdata/aux/BDTWeights/ValSample_R3_10_overlay_lowE.txt\"\n",
      "  self.valrse[r][b][filetag] = np.loadtxt(bdtsavedir+'ValSample_R%i_%i_%s.txt'%(r,b,filetag),dtype=int)\n"
     ]
    },
    {
     "name": "stdout",
     "output_type": "stream",
     "text": [
      "1340 1340\n",
      "8772 8772\n",
      "1150 1149\n",
      "0 2159\n",
      "0 488\n",
      "1384 1383\n",
      "1991 1990\n",
      "Exception\n",
      "Exception\n",
      "1340 1340\n"
     ]
    },
    {
     "name": "stderr",
     "output_type": "stream",
     "text": [
      "/home/kmason/fullosc/NueAppearenceStudy/FilePrep/SelectionHelper.py:322: UserWarning: loadtxt: Empty input file: \"/home/kmason/fullosc/NicksCode/1e1pdata/aux/BDTWeights/ValSample_R3_11_intrinsics_lowE.txt\"\n",
      "  self.valrse[r][b][filetag] = np.loadtxt(bdtsavedir+'ValSample_R%i_%i_%s.txt'%(r,b,filetag),dtype=int)\n",
      "/home/kmason/fullosc/NueAppearenceStudy/FilePrep/SelectionHelper.py:322: UserWarning: loadtxt: Empty input file: \"/home/kmason/fullosc/NicksCode/1e1pdata/aux/BDTWeights/ValSample_R3_11_overlay_lowE.txt\"\n",
      "  self.valrse[r][b][filetag] = np.loadtxt(bdtsavedir+'ValSample_R%i_%i_%s.txt'%(r,b,filetag),dtype=int)\n",
      "/home/kmason/fullosc/NueAppearenceStudy/FilePrep/SelectionHelper.py:322: UserWarning: loadtxt: Empty input file: \"/home/kmason/fullosc/NicksCode/1e1pdata/aux/BDTWeights/ValSample_R3_12_intrinsics_lowE.txt\"\n",
      "  self.valrse[r][b][filetag] = np.loadtxt(bdtsavedir+'ValSample_R%i_%i_%s.txt'%(r,b,filetag),dtype=int)\n",
      "/home/kmason/fullosc/NueAppearenceStudy/FilePrep/SelectionHelper.py:322: UserWarning: loadtxt: Empty input file: \"/home/kmason/fullosc/NicksCode/1e1pdata/aux/BDTWeights/ValSample_R3_12_overlay_lowE.txt\"\n",
      "  self.valrse[r][b][filetag] = np.loadtxt(bdtsavedir+'ValSample_R%i_%i_%s.txt'%(r,b,filetag),dtype=int)\n"
     ]
    },
    {
     "name": "stdout",
     "output_type": "stream",
     "text": [
      "8772 8772\n",
      "1150 1149\n",
      "0 2159\n",
      "0 488\n",
      "1384 1383\n",
      "1991 1990\n",
      "Exception\n",
      "Exception\n",
      "1340 1340\n",
      "8772 8772\n",
      "1150 1149\n",
      "0 2159\n",
      "0 488\n",
      "1384 1383\n"
     ]
    },
    {
     "name": "stderr",
     "output_type": "stream",
     "text": [
      "/home/kmason/fullosc/NueAppearenceStudy/FilePrep/SelectionHelper.py:322: UserWarning: loadtxt: Empty input file: \"/home/kmason/fullosc/NicksCode/1e1pdata/aux/BDTWeights/ValSample_R3_13_intrinsics_lowE.txt\"\n",
      "  self.valrse[r][b][filetag] = np.loadtxt(bdtsavedir+'ValSample_R%i_%i_%s.txt'%(r,b,filetag),dtype=int)\n",
      "/home/kmason/fullosc/NueAppearenceStudy/FilePrep/SelectionHelper.py:322: UserWarning: loadtxt: Empty input file: \"/home/kmason/fullosc/NicksCode/1e1pdata/aux/BDTWeights/ValSample_R3_13_overlay_lowE.txt\"\n",
      "  self.valrse[r][b][filetag] = np.loadtxt(bdtsavedir+'ValSample_R%i_%i_%s.txt'%(r,b,filetag),dtype=int)\n",
      "/home/kmason/fullosc/NueAppearenceStudy/FilePrep/SelectionHelper.py:322: UserWarning: loadtxt: Empty input file: \"/home/kmason/fullosc/NicksCode/1e1pdata/aux/BDTWeights/ValSample_R3_14_intrinsics_lowE.txt\"\n",
      "  self.valrse[r][b][filetag] = np.loadtxt(bdtsavedir+'ValSample_R%i_%i_%s.txt'%(r,b,filetag),dtype=int)\n",
      "/home/kmason/fullosc/NueAppearenceStudy/FilePrep/SelectionHelper.py:322: UserWarning: loadtxt: Empty input file: \"/home/kmason/fullosc/NicksCode/1e1pdata/aux/BDTWeights/ValSample_R3_14_overlay_lowE.txt\"\n",
      "  self.valrse[r][b][filetag] = np.loadtxt(bdtsavedir+'ValSample_R%i_%i_%s.txt'%(r,b,filetag),dtype=int)\n"
     ]
    },
    {
     "name": "stdout",
     "output_type": "stream",
     "text": [
      "1991 1990\n",
      "Exception\n",
      "Exception\n",
      "1340 1340\n",
      "8772 8772\n",
      "1150 1149\n",
      "0 2159\n",
      "0 488\n",
      "1384 1383\n",
      "1991 1990\n",
      "Exception\n",
      "Exception\n",
      "1340 1340\n",
      "8772 8772\n",
      "1150 1149\n",
      "0 2159\n",
      "0 488\n",
      "1384 1383\n",
      "1991 1990\n",
      "Exception\n",
      "Exception\n",
      "1340 1340\n",
      "8772 8772\n",
      "1150 1149\n"
     ]
    },
    {
     "name": "stderr",
     "output_type": "stream",
     "text": [
      "/home/kmason/fullosc/NueAppearenceStudy/FilePrep/SelectionHelper.py:322: UserWarning: loadtxt: Empty input file: \"/home/kmason/fullosc/NicksCode/1e1pdata/aux/BDTWeights/ValSample_R3_15_intrinsics_lowE.txt\"\n",
      "  self.valrse[r][b][filetag] = np.loadtxt(bdtsavedir+'ValSample_R%i_%i_%s.txt'%(r,b,filetag),dtype=int)\n",
      "/home/kmason/fullosc/NueAppearenceStudy/FilePrep/SelectionHelper.py:322: UserWarning: loadtxt: Empty input file: \"/home/kmason/fullosc/NicksCode/1e1pdata/aux/BDTWeights/ValSample_R3_15_overlay_lowE.txt\"\n",
      "  self.valrse[r][b][filetag] = np.loadtxt(bdtsavedir+'ValSample_R%i_%i_%s.txt'%(r,b,filetag),dtype=int)\n",
      "/home/kmason/fullosc/NueAppearenceStudy/FilePrep/SelectionHelper.py:322: UserWarning: loadtxt: Empty input file: \"/home/kmason/fullosc/NicksCode/1e1pdata/aux/BDTWeights/ValSample_R3_16_intrinsics_lowE.txt\"\n",
      "  self.valrse[r][b][filetag] = np.loadtxt(bdtsavedir+'ValSample_R%i_%i_%s.txt'%(r,b,filetag),dtype=int)\n",
      "/home/kmason/fullosc/NueAppearenceStudy/FilePrep/SelectionHelper.py:322: UserWarning: loadtxt: Empty input file: \"/home/kmason/fullosc/NicksCode/1e1pdata/aux/BDTWeights/ValSample_R3_16_overlay_lowE.txt\"\n",
      "  self.valrse[r][b][filetag] = np.loadtxt(bdtsavedir+'ValSample_R%i_%i_%s.txt'%(r,b,filetag),dtype=int)\n"
     ]
    },
    {
     "name": "stdout",
     "output_type": "stream",
     "text": [
      "0 2159\n",
      "0 488\n",
      "1384 1383\n",
      "1991 1990\n",
      "Exception\n",
      "Exception\n",
      "1340 1340\n",
      "8772 8772\n",
      "1150 1149\n",
      "0 2159\n",
      "0 488\n",
      "1384 1383\n",
      "1991 1990\n"
     ]
    },
    {
     "name": "stderr",
     "output_type": "stream",
     "text": [
      "/home/kmason/fullosc/NueAppearenceStudy/FilePrep/SelectionHelper.py:322: UserWarning: loadtxt: Empty input file: \"/home/kmason/fullosc/NicksCode/1e1pdata/aux/BDTWeights/ValSample_R3_17_intrinsics_lowE.txt\"\n",
      "  self.valrse[r][b][filetag] = np.loadtxt(bdtsavedir+'ValSample_R%i_%i_%s.txt'%(r,b,filetag),dtype=int)\n",
      "/home/kmason/fullosc/NueAppearenceStudy/FilePrep/SelectionHelper.py:322: UserWarning: loadtxt: Empty input file: \"/home/kmason/fullosc/NicksCode/1e1pdata/aux/BDTWeights/ValSample_R3_17_overlay_lowE.txt\"\n",
      "  self.valrse[r][b][filetag] = np.loadtxt(bdtsavedir+'ValSample_R%i_%i_%s.txt'%(r,b,filetag),dtype=int)\n"
     ]
    },
    {
     "name": "stdout",
     "output_type": "stream",
     "text": [
      "Exception\n",
      "Exception\n",
      "1340 1340\n",
      "8772 8772\n",
      "1150 1149\n",
      "0 2159\n",
      "0 488\n"
     ]
    },
    {
     "name": "stderr",
     "output_type": "stream",
     "text": [
      "/home/kmason/fullosc/NueAppearenceStudy/FilePrep/SelectionHelper.py:322: UserWarning: loadtxt: Empty input file: \"/home/kmason/fullosc/NicksCode/1e1pdata/aux/BDTWeights/ValSample_R3_18_intrinsics_lowE.txt\"\n",
      "  self.valrse[r][b][filetag] = np.loadtxt(bdtsavedir+'ValSample_R%i_%i_%s.txt'%(r,b,filetag),dtype=int)\n",
      "/home/kmason/fullosc/NueAppearenceStudy/FilePrep/SelectionHelper.py:322: UserWarning: loadtxt: Empty input file: \"/home/kmason/fullosc/NicksCode/1e1pdata/aux/BDTWeights/ValSample_R3_18_overlay_lowE.txt\"\n",
      "  self.valrse[r][b][filetag] = np.loadtxt(bdtsavedir+'ValSample_R%i_%i_%s.txt'%(r,b,filetag),dtype=int)\n",
      "/home/kmason/fullosc/NueAppearenceStudy/FilePrep/SelectionHelper.py:322: UserWarning: loadtxt: Empty input file: \"/home/kmason/fullosc/NicksCode/1e1pdata/aux/BDTWeights/ValSample_R3_19_intrinsics_lowE.txt\"\n",
      "  self.valrse[r][b][filetag] = np.loadtxt(bdtsavedir+'ValSample_R%i_%i_%s.txt'%(r,b,filetag),dtype=int)\n",
      "/home/kmason/fullosc/NueAppearenceStudy/FilePrep/SelectionHelper.py:322: UserWarning: loadtxt: Empty input file: \"/home/kmason/fullosc/NicksCode/1e1pdata/aux/BDTWeights/ValSample_R3_19_overlay_lowE.txt\"\n",
      "  self.valrse[r][b][filetag] = np.loadtxt(bdtsavedir+'ValSample_R%i_%i_%s.txt'%(r,b,filetag),dtype=int)\n"
     ]
    },
    {
     "name": "stdout",
     "output_type": "stream",
     "text": [
      "1384 1383\n",
      "1991 1990\n",
      "Exception\n",
      "Exception\n",
      "1340 1340\n",
      "8772 8772\n",
      "1150 1149\n",
      "0 2159\n",
      "0 488\n",
      "1384 1383\n",
      "1991 1990\n",
      "Exception\n",
      "Exception\n"
     ]
    }
   ],
   "source": [
    "from sklearn import preprocessing\n",
    "import imp\n",
    "import importlib\n",
    "importlib.reload(sys.modules['SelectionHelper'])\n",
    "from SelectionHelper import BDTensemble,selection\n",
    "#tag='7July2021_vA_fullLowE_withPi0Sample_newShowerCalib_noEnu'\n",
    "# tag='3March2021_vA_fullLowE_withPi0Sample_newShowerCalib'\n",
    "tag='23Aug2021_vA_fullLowE_withPi0Sample_newShowerCalib'\n",
    "BDTnumlist=[i for i in range(20)]\n",
    "oldBDT = False\n",
    "\n",
    "\n",
    "ensemble = BDTensemble(tag,BDTnumlist,oldBDT=oldBDT)\n"
   ]
  },
  {
   "cell_type": "code",
   "execution_count": 6,
   "metadata": {},
   "outputs": [],
   "source": [
    "### All possible cuts on data/mc ###\n",
    "lowEpatch      = False#True if fset in [0,5,8,9] else False\n",
    "    "
   ]
  },
  {
   "cell_type": "code",
   "execution_count": null,
   "metadata": {},
   "outputs": [
    {
     "name": "stdout",
     "output_type": "stream",
     "text": [
      "[Errno 17] File exists: '../Parquets/23Aug2021_vA_fullLowE_withPi0Sample_newShowerCalib/'\n",
      "\n",
      "\n",
      " #################### RUN 1 #################### \n",
      "\n",
      "Sample: data\n",
      "length check 0\n",
      "length check 0\n",
      "0\n",
      "length test 0\n"
     ]
    }
   ],
   "source": [
    "# add full osc ones here\n",
    "from __future__ import print_function\n",
    "\n",
    "# filetaglist = {1:['data','ext','overlay','overlay_lowE','intrinsics','intrinsics_lowE','ncpi0','ccpi0','fullosc'],\n",
    "#                2:['data','overlay','overlay_lowE','intrinsics','intrinsics_lowE'],\n",
    "#                3:['data','ext','overlay','overlay_lowE','intrinsics','ncpi0','ccpi0','fullosc']}\n",
    "\n",
    "# tlist = {1:[inDatFF1,inExtFF1,inOvrFF1,inNumuLowFF1,inNueFF1,inNueLowFF1,inNCPi0FF1,inCCPi0FF1,inFullOscFF1],\n",
    "#          2:[inDatFF2,inOvrFF2,inNumuLowFF2,inNueFF2,inNueLowFF2],\n",
    "#          3:[inDatFF3,inExtFF3,inOvrFF3,inNumuLowFF3,inNueFF3,inNCPi0FF3,inCCPi0FF3,inFullOscFF3]}\n",
    "\n",
    "# GENIElist = {1:[None,None,ovrCVDict,numuLowCVDict,nueCVDict,nueLowCVDict,ncpi0CVDict,ccpi0CVDict,fulloscCVDict],\n",
    "#              2:[None,ovrCVDict,numuLowCVDict,nueCVDict,nueLowCVDict],\n",
    "#              3:[None,None,ovrCVDict,numuLowCVDict,nueCVDict,ncpi0CVDict,ccpi0CVDict,fulloscCVDict]}\n",
    "\n",
    "# LEElist = {1:[None,None,None,None,leeCVDict,leeLowCVDict,None,None,None],\n",
    "#            2:[None,None,None,leeCVDict,leeLowCVDict],\n",
    "#            3:[None,None,None,None,leeCVDict,None,None,None]}\n",
    "\n",
    "\n",
    "filetaglist = {1:['data'],\n",
    "               2:['data'],\n",
    "               3:['data']}\n",
    "\n",
    "tlist = {1:[inDatFF1],\n",
    "         2:[inDatFF2],\n",
    "         3:[inDatFF3]}\n",
    "\n",
    "GENIElist = {1:[None],\n",
    "             2:[None],\n",
    "             3:[None]}\n",
    "\n",
    "LEElist = {1:[None],\n",
    "           2:[None],\n",
    "           3:[None]}\n",
    "\n",
    "psavedir = '../Parquets/'+tag+'/'\n",
    "try:\n",
    "    os.mkdir(psavedir)\n",
    "except OSError as error:\n",
    "    print(error)\n",
    "\n",
    "for r in [1,2,3]:\n",
    "    print('\\n\\n','#'*20,'RUN',r,'#'*20,'\\n')\n",
    "\n",
    "    for t,filetag,genieDict,leeDict in zip(tlist[r],\n",
    "                                           filetaglist[r],\n",
    "                                           GENIElist[r],\n",
    "                                           LEElist[r]):\n",
    "        if not lowEpatch and 'lowE' in filetag: continue\n",
    "        if t is None: continue\n",
    "#         if 'data' in filetag : continue\n",
    "        print('Sample:',filetag)\n",
    "        if 'data' in filetag:\n",
    "            df = selection(t,cutMode,filetag,r,lowEpatch,ensemble,POT=POTDICT[r])\n",
    "            pstring = 'SelectionMode%i_%s_fset%i_run%i.parquet.gzip'%(cutMode,filetag,fset,r)\n",
    "            print(pstring)\n",
    "        else:\n",
    "            df = selection(t,cutMode,filetag,r,lowEpatch,ensemble,genieDict=genieDict,leeDict=leeDict)\n",
    "            pstring = 'SelectionMode%i_%s_fset%i_run%i.parquet.gzip'%(cutMode,filetag,fset,r)\n",
    "        df.to_parquet(psavedir+pstring,compression='gzip')"
   ]
  },
  {
   "cell_type": "code",
   "execution_count": null,
   "metadata": {},
   "outputs": [],
   "source": []
  },
  {
   "cell_type": "code",
   "execution_count": null,
   "metadata": {},
   "outputs": [],
   "source": []
  },
  {
   "cell_type": "code",
   "execution_count": null,
   "metadata": {},
   "outputs": [],
   "source": []
  },
  {
   "cell_type": "code",
   "execution_count": null,
   "metadata": {},
   "outputs": [],
   "source": []
  }
 ],
 "metadata": {
  "kernelspec": {
   "display_name": "Python 3",
   "language": "python",
   "name": "python3"
  },
  "language_info": {
   "codemirror_mode": {
    "name": "ipython",
    "version": 3
   },
   "file_extension": ".py",
   "mimetype": "text/x-python",
   "name": "python",
   "nbconvert_exporter": "python",
   "pygments_lexer": "ipython3",
   "version": "3.6.9"
  }
 },
 "nbformat": 4,
 "nbformat_minor": 2
}
