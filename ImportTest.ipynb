{
 "cells": [
  {
   "cell_type": "markdown",
   "metadata": {},
   "source": [
    "test notebook to make sure repo is set up properly"
   ]
  },
  {
   "cell_type": "code",
   "execution_count": 3,
   "metadata": {},
   "outputs": [],
   "source": [
    "import ROOT\n",
    "from ROOT import TFile\n",
    "\n",
    "import matplotlib.pyplot as plt\n",
    "from matplotlib import gridspec\n",
    "from matplotlib import cm\n",
    "import matplotlib.lines as mlines\n",
    "import matplotlib.colors as colors\n",
    "from matplotlib.patches import Rectangle\n",
    "from matplotlib.collections import PatchCollection\n",
    "\n",
    "import numpy as np\n",
    "from numpy import arange,mean,asarray,isnan,isinf\n",
    "\n",
    "import pickle as pkl\n",
    "\n",
    "import math\n",
    "from math import sqrt,cos,acos,pi,exp,sin,atan2,log\n",
    "\n",
    "import pandas as pd\n",
    "from root_pandas import read_root\n",
    "\n",
    "import csv\n",
    "import sys\n",
    "import os\n",
    "from os import path\n",
    "\n",
    "import scipy.interpolate\n",
    "import scipy.stats\n",
    "from scipy.stats import chi2"
   ]
  },
  {
   "cell_type": "code",
   "execution_count": null,
   "metadata": {},
   "outputs": [],
   "source": []
  }
 ],
 "metadata": {
  "kernelspec": {
   "display_name": "Python 3",
   "language": "python",
   "name": "python3"
  },
  "language_info": {
   "codemirror_mode": {
    "name": "ipython",
    "version": 3
   },
   "file_extension": ".py",
   "mimetype": "text/x-python",
   "name": "python",
   "nbconvert_exporter": "python",
   "pygments_lexer": "ipython3",
   "version": "3.6.9"
  }
 },
 "nbformat": 4,
 "nbformat_minor": 2
}
